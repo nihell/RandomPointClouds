{
 "cells": [
  {
   "cell_type": "code",
   "execution_count": 1,
   "metadata": {},
   "outputs": [
    {
     "name": "stderr",
     "output_type": "stream",
     "text": [
      "c:\\Users\\Niklas\\anaconda3\\lib\\site-packages\\outdated\\utils.py:18: OutdatedPackageWarning: The package outdated is out of date. Your version is 0.2.0, the latest is 0.2.1.\n",
      "Set the environment variable OUTDATED_IGNORE=1 to disable these warnings.\n",
      "  **kwargs\n",
      "c:\\Users\\Niklas\\anaconda3\\lib\\site-packages\\outdated\\utils.py:18: OutdatedPackageWarning: The package pingouin is out of date. Your version is 0.3.3, the latest is 0.5.2.\n",
      "Set the environment variable OUTDATED_IGNORE=1 to disable these warnings.\n",
      "  **kwargs\n"
     ]
    }
   ],
   "source": [
    "import gudhi as gd\n",
    "from gudhi import representations\n",
    "import numpy as np\n",
    "import numpy.random\n",
    "import matplotlib.pyplot as plt\n",
    "import pingouin as pg\n",
    "import scipy.stats as st\n",
    "from collections import defaultdict\n",
    "from sklearn.metrics import pairwise_distances\n",
    "from sklearn.metrics.pairwise import paired_distances\n",
    "from tqdm.notebook import tqdm\n",
    "import scipy.spatial.distance as spdists\n",
    "from scipy.stats import ks_2samp\n",
    "\n",
    "#from curlyBrace import curlyBrace\n",
    "%matplotlib widget"
   ]
  },
  {
   "cell_type": "code",
   "execution_count": 2,
   "metadata": {},
   "outputs": [],
   "source": [
    "def sampled_ecc_alpha(pointcloud, n_samples, max_filt_val):\n",
    "    ac = gd.AlphaComplex(points = pointcloud)\n",
    "    st = ac.create_simplex_tree()\n",
    "    filt_values = np.linspace(0,max_filt_val,n_samples)\n",
    "    ecc_values = np.zeros_like(filt_values)\n",
    "    simplices = list(st.get_filtration())\n",
    "    cur_val = 0\n",
    "    i=0\n",
    "    for (j,t) in enumerate(filt_values):\n",
    "        while (i<len(simplices)) and (simplices[i][1]<=t):\n",
    "            cur_val=cur_val +(-1)**(len(simplices[i][0])-1)\n",
    "            i = i+1\n",
    "        #print(t, cur_val)\n",
    "        ecc_values[j] = cur_val\n",
    "        \n",
    "    return ecc_values"
   ]
  },
  {
   "cell_type": "code",
   "execution_count": 3,
   "metadata": {},
   "outputs": [],
   "source": [
    "def get_ecc(data, n_samples, max_filt_val):\n",
    "    eccs = []\n",
    "    for dat in tqdm(data):\n",
    "        ec = sampled_ecc_alpha(dat, n_samples, max_filt_val)\n",
    "        eccs.append(ec)\n",
    "    return eccs"
   ]
  },
  {
   "cell_type": "code",
   "execution_count": 4,
   "metadata": {},
   "outputs": [],
   "source": [
    "def ecc_distance(samples1, samples2, n_samples, max_filt_val):\n",
    "    ECCs1 = get_ecc(samples1, n_samples = n_samples, max_filt_val = max_filt_val)\n",
    "    ECCs2 = get_ecc(samples2, n_samples = n_samples, max_filt_val = max_filt_val)\n",
    "    #dists = paired_distances(ECCs1,ECCs2, n_jobs=-1, metric = spdists.chebyshev)\n",
    "    dists = np.maximum(ECCs1-ECCs2)+np.maximum(ECCs2-ECCs1)\n",
    "    return dists\n",
    "    #dists = dists *(max_filt_val/(n_samples-1))\n",
    "    #return dists.flatten()"
   ]
  },
  {
   "cell_type": "code",
   "execution_count": 5,
   "metadata": {},
   "outputs": [],
   "source": [
    "def gen_rv(rv, N, n_samples):\n",
    "    return [np.array([rv[0].rvs(N), rv[1].rvs(N).tolist(), rv[2].rvs(N).tolist()]).T for i in range(n_samples)]"
   ]
  },
  {
   "cell_type": "code",
   "execution_count": 6,
   "metadata": {},
   "outputs": [],
   "source": [
    "rv_normal = st.norm()\n",
    "rv_normal2_2 = st.norm(2,2)\n",
    "rv_beta2_2 = st.beta(2, 2)\n",
    "rv_beta5_5 = st.beta(5, 5)\n",
    "rv_beta10_10 = st.beta(10, 10)\n",
    "rv_laplace = st.laplace()\n",
    "rv_uniform = st.uniform()\n",
    "rv_t3 = st.t(df=3)\n",
    "rv_t5 = st.t(df=5)\n",
    "rv_t7 = st.t(df=7)\n",
    "rv_t10 = st.t(df=10)\n",
    "rv_gamma10_1 = st.gamma(10,1)\n",
    "rv_gamma20_1 = st.gamma(20,1)\n",
    "rv_gamma4_5 = st.gamma(4,5)\n",
    "rv_gamma5_1= st.gamma(5,1)\n",
    "rv_chisq4 = st.chi2(df=4)\n",
    "rv_chisq10 = st.chi2(df=10)\n",
    "rv_lorentz = st.cauchy()\n",
    "rv_logistic = st.logistic()\n",
    "rv_arcsine = st.arcsine()\n",
    "rv_argus = st.argus(chi=1)\n",
    "rv_cosine = st.cosine()"
   ]
  },
  {
   "cell_type": "code",
   "execution_count": 7,
   "metadata": {},
   "outputs": [],
   "source": [
    "n=200\n",
    "n_loops = 200\n",
    "d = 3\n",
    "\n",
    "rvs= [[rv_uniform, rv_uniform, rv_uniform],\n",
    "      [rv_beta2_2, rv_beta2_2, rv_beta2_2],\n",
    "      [rv_beta5_5, rv_beta5_5,rv_beta5_5],\n",
    "      [rv_beta10_10, rv_beta10_10, rv_beta10_10],\n",
    "      [rv_argus, rv_argus, rv_argus],\n",
    "      [rv_arcsine, rv_arcsine, rv_arcsine],\n",
    "      [rv_uniform, rv_beta10_10, rv_beta10_10],\n",
    "      [rv_uniform, rv_uniform, rv_beta10_10]]\n",
    "\n",
    "rv_names=[\"UxUxU\",\n",
    "          \"B22xB22XB22\",\n",
    "          \"B55xB55xB55\",\n",
    "          \"B1010xB1010xB1010\",\n",
    "          \"ArgusxArgusxArgus\",\n",
    "          \"asinxasinxasin\",\n",
    "          \"UxB1010xB1010\",\n",
    "          \"UxUxB1010\"]"
   ]
  },
  {
   "cell_type": "code",
   "execution_count": 8,
   "metadata": {},
   "outputs": [
    {
     "data": {
      "application/vnd.jupyter.widget-view+json": {
       "model_id": "a10536c88fb64c1e925494820918cf7b",
       "version_major": 2,
       "version_minor": 0
      },
      "text/plain": [
       "HBox(children=(FloatProgress(value=0.0, max=8.0), HTML(value='')))"
      ]
     },
     "metadata": {},
     "output_type": "display_data"
    },
    {
     "name": "stdout",
     "output_type": "stream",
     "text": [
      "\n"
     ]
    },
    {
     "data": {
      "application/vnd.jupyter.widget-view+json": {
       "model_id": "02ff498aeac145b1bd204f28ddfe6fdc",
       "version_major": 2,
       "version_minor": 0
      },
      "text/plain": [
       "HBox(children=(FloatProgress(value=0.0, max=8.0), HTML(value='')))"
      ]
     },
     "metadata": {},
     "output_type": "display_data"
    },
    {
     "name": "stdout",
     "output_type": "stream",
     "text": [
      "\n"
     ]
    }
   ],
   "source": [
    "samples = [(n**(1/3)) * np.array(gen_rv(rv,n,n_loops)) for rv in tqdm(rvs)]\n",
    "samples2 = [(n**(1/3)) * np.array(gen_rv(rv,n,n_loops)) for rv in tqdm(rvs)]"
   ]
  },
  {
   "cell_type": "code",
   "execution_count": 32,
   "metadata": {},
   "outputs": [
    {
     "data": {
      "application/vnd.jupyter.widget-view+json": {
       "model_id": "b8cb09f142054e4198a80a09daad64d5",
       "version_major": 2,
       "version_minor": 0
      },
      "text/plain": [
       "HBox(children=(FloatProgress(value=0.0, max=200.0), HTML(value='')))"
      ]
     },
     "metadata": {},
     "output_type": "display_data"
    },
    {
     "name": "stdout",
     "output_type": "stream",
     "text": [
      "\n"
     ]
    },
    {
     "data": {
      "application/vnd.jupyter.widget-view+json": {
       "model_id": "c927c5b0522241cd8315a3f475d0a958",
       "version_major": 2,
       "version_minor": 0
      },
      "text/plain": [
       "HBox(children=(FloatProgress(value=0.0, max=200.0), HTML(value='')))"
      ]
     },
     "metadata": {},
     "output_type": "display_data"
    },
    {
     "name": "stdout",
     "output_type": "stream",
     "text": [
      "\n"
     ]
    },
    {
     "data": {
      "application/vnd.jupyter.widget-view+json": {
       "model_id": "da9445bae81b4047bd7b59093f6468db",
       "version_major": 2,
       "version_minor": 0
      },
      "text/plain": [
       "HBox(children=(FloatProgress(value=0.0, max=200.0), HTML(value='')))"
      ]
     },
     "metadata": {},
     "output_type": "display_data"
    },
    {
     "name": "stdout",
     "output_type": "stream",
     "text": [
      "\n"
     ]
    },
    {
     "data": {
      "application/vnd.jupyter.widget-view+json": {
       "model_id": "c1843659e9814d7d9d90aa236ea016d8",
       "version_major": 2,
       "version_minor": 0
      },
      "text/plain": [
       "HBox(children=(FloatProgress(value=0.0, max=200.0), HTML(value='')))"
      ]
     },
     "metadata": {},
     "output_type": "display_data"
    },
    {
     "name": "stdout",
     "output_type": "stream",
     "text": [
      "\n"
     ]
    },
    {
     "data": {
      "application/vnd.jupyter.widget-view+json": {
       "model_id": "f3476c2c8ba34d12a4e8832af4f42d1d",
       "version_major": 2,
       "version_minor": 0
      },
      "text/plain": [
       "HBox(children=(FloatProgress(value=0.0, max=200.0), HTML(value='')))"
      ]
     },
     "metadata": {},
     "output_type": "display_data"
    },
    {
     "name": "stdout",
     "output_type": "stream",
     "text": [
      "\n"
     ]
    },
    {
     "data": {
      "application/vnd.jupyter.widget-view+json": {
       "model_id": "3c6653cd2bfc42c2b9e1c98ca29cc5a6",
       "version_major": 2,
       "version_minor": 0
      },
      "text/plain": [
       "HBox(children=(FloatProgress(value=0.0, max=200.0), HTML(value='')))"
      ]
     },
     "metadata": {},
     "output_type": "display_data"
    },
    {
     "name": "stdout",
     "output_type": "stream",
     "text": [
      "\n"
     ]
    },
    {
     "data": {
      "application/vnd.jupyter.widget-view+json": {
       "model_id": "0528251b355447d091b597980d06dbc2",
       "version_major": 2,
       "version_minor": 0
      },
      "text/plain": [
       "HBox(children=(FloatProgress(value=0.0, max=200.0), HTML(value='')))"
      ]
     },
     "metadata": {},
     "output_type": "display_data"
    },
    {
     "name": "stdout",
     "output_type": "stream",
     "text": [
      "\n"
     ]
    },
    {
     "data": {
      "application/vnd.jupyter.widget-view+json": {
       "model_id": "1146718a4a7140e89d2885ff745a1a49",
       "version_major": 2,
       "version_minor": 0
      },
      "text/plain": [
       "HBox(children=(FloatProgress(value=0.0, max=200.0), HTML(value='')))"
      ]
     },
     "metadata": {},
     "output_type": "display_data"
    },
    {
     "name": "stdout",
     "output_type": "stream",
     "text": [
      "\n"
     ]
    },
    {
     "data": {
      "application/vnd.jupyter.widget-view+json": {
       "model_id": "5f8ea37155de452c892a9172b2944274",
       "version_major": 2,
       "version_minor": 0
      },
      "text/plain": [
       "HBox(children=(FloatProgress(value=0.0, max=200.0), HTML(value='')))"
      ]
     },
     "metadata": {},
     "output_type": "display_data"
    },
    {
     "name": "stdout",
     "output_type": "stream",
     "text": [
      "\n"
     ]
    },
    {
     "data": {
      "application/vnd.jupyter.widget-view+json": {
       "model_id": "04aaf3c16ccd4e7caa03a5202fcaae2c",
       "version_major": 2,
       "version_minor": 0
      },
      "text/plain": [
       "HBox(children=(FloatProgress(value=0.0, max=200.0), HTML(value='')))"
      ]
     },
     "metadata": {},
     "output_type": "display_data"
    },
    {
     "name": "stdout",
     "output_type": "stream",
     "text": [
      "\n"
     ]
    },
    {
     "data": {
      "application/vnd.jupyter.widget-view+json": {
       "model_id": "9897ea3159084c47ab57dbccedf56ea2",
       "version_major": 2,
       "version_minor": 0
      },
      "text/plain": [
       "HBox(children=(FloatProgress(value=0.0, max=200.0), HTML(value='')))"
      ]
     },
     "metadata": {},
     "output_type": "display_data"
    },
    {
     "name": "stdout",
     "output_type": "stream",
     "text": [
      "\n"
     ]
    },
    {
     "data": {
      "application/vnd.jupyter.widget-view+json": {
       "model_id": "e9a1b7021ec447cb89c2c3ac880bc01b",
       "version_major": 2,
       "version_minor": 0
      },
      "text/plain": [
       "HBox(children=(FloatProgress(value=0.0, max=200.0), HTML(value='')))"
      ]
     },
     "metadata": {},
     "output_type": "display_data"
    },
    {
     "name": "stdout",
     "output_type": "stream",
     "text": [
      "\n"
     ]
    },
    {
     "data": {
      "application/vnd.jupyter.widget-view+json": {
       "model_id": "a6c218fbf2464448aec428d527d28492",
       "version_major": 2,
       "version_minor": 0
      },
      "text/plain": [
       "HBox(children=(FloatProgress(value=0.0, max=200.0), HTML(value='')))"
      ]
     },
     "metadata": {},
     "output_type": "display_data"
    },
    {
     "name": "stdout",
     "output_type": "stream",
     "text": [
      "\n"
     ]
    },
    {
     "data": {
      "application/vnd.jupyter.widget-view+json": {
       "model_id": "94d87c3412104f2e946a2b71e79cc243",
       "version_major": 2,
       "version_minor": 0
      },
      "text/plain": [
       "HBox(children=(FloatProgress(value=0.0, max=200.0), HTML(value='')))"
      ]
     },
     "metadata": {},
     "output_type": "display_data"
    },
    {
     "name": "stdout",
     "output_type": "stream",
     "text": [
      "\n"
     ]
    },
    {
     "data": {
      "application/vnd.jupyter.widget-view+json": {
       "model_id": "48a28cc80ada4e7e88d70e753abab64a",
       "version_major": 2,
       "version_minor": 0
      },
      "text/plain": [
       "HBox(children=(FloatProgress(value=0.0, max=200.0), HTML(value='')))"
      ]
     },
     "metadata": {},
     "output_type": "display_data"
    },
    {
     "name": "stdout",
     "output_type": "stream",
     "text": [
      "\n"
     ]
    },
    {
     "data": {
      "application/vnd.jupyter.widget-view+json": {
       "model_id": "48a7bce829af4ac7942edae9a2dea8aa",
       "version_major": 2,
       "version_minor": 0
      },
      "text/plain": [
       "HBox(children=(FloatProgress(value=0.0, max=200.0), HTML(value='')))"
      ]
     },
     "metadata": {},
     "output_type": "display_data"
    },
    {
     "name": "stdout",
     "output_type": "stream",
     "text": [
      "\n"
     ]
    }
   ],
   "source": [
    "ecc_dists = np.zeros((len(rvs),n_loops))\n",
    "eccs1 = np.array([get_ecc(s, 101,0.5) for s in samples])\n",
    "eccs2 = np.array([get_ecc(s, 101,0.5) for s in samples2])\n",
    "\n",
    "#eccs_mean = np.mean(eccs1, axis =1)\n"
   ]
  },
  {
   "cell_type": "code",
   "execution_count": 34,
   "metadata": {},
   "outputs": [
    {
     "data": {
      "application/vnd.jupyter.widget-view+json": {
       "model_id": "9492b845b51e46d0bf4a792ded709102",
       "version_major": 2,
       "version_minor": 0
      },
      "text/plain": [
       "HBox(children=(FloatProgress(value=0.0, max=8.0), HTML(value='')))"
      ]
     },
     "metadata": {},
     "output_type": "display_data"
    },
    {
     "name": "stdout",
     "output_type": "stream",
     "text": [
      "\n"
     ]
    },
    {
     "name": "stderr",
     "output_type": "stream",
     "text": [
      "c:\\Users\\Niklas\\anaconda3\\lib\\site-packages\\ipykernel_launcher.py:6: RuntimeWarning: divide by zero encountered in true_divide\n",
      "  \n",
      "c:\\Users\\Niklas\\anaconda3\\lib\\site-packages\\ipykernel_launcher.py:6: RuntimeWarning: invalid value encountered in true_divide\n",
      "  \n",
      "c:\\Users\\Niklas\\anaconda3\\lib\\site-packages\\ipykernel_launcher.py:6: RuntimeWarning: divide by zero encountered in log\n",
      "  \n",
      "c:\\Users\\Niklas\\anaconda3\\lib\\site-packages\\ipykernel_launcher.py:6: RuntimeWarning: invalid value encountered in log\n",
      "  \n",
      "c:\\Users\\Niklas\\anaconda3\\lib\\site-packages\\ipykernel_launcher.py:6: RuntimeWarning: invalid value encountered in add\n",
      "  \n"
     ]
    },
    {
     "ename": "ValueError",
     "evalue": "could not broadcast input array from shape (200,101) into shape (200,)",
     "output_type": "error",
     "traceback": [
      "\u001b[1;31m---------------------------------------------------------------------------\u001b[0m",
      "\u001b[1;31mValueError\u001b[0m                                Traceback (most recent call last)",
      "\u001b[1;32m<ipython-input-34-366755b9fb10>\u001b[0m in \u001b[0;36m<module>\u001b[1;34m\u001b[0m\n\u001b[0;32m      4\u001b[0m     \u001b[0mindex_minus\u001b[0m \u001b[1;33m=\u001b[0m \u001b[0mnp\u001b[0m\u001b[1;33m.\u001b[0m\u001b[0margmax\u001b[0m\u001b[1;33m(\u001b[0m\u001b[0meccs2\u001b[0m\u001b[1;33m[\u001b[0m\u001b[0mi\u001b[0m\u001b[1;33m]\u001b[0m\u001b[1;33m-\u001b[0m\u001b[0meccs1\u001b[0m\u001b[1;33m[\u001b[0m\u001b[0mi\u001b[0m\u001b[1;33m]\u001b[0m\u001b[1;33m,\u001b[0m\u001b[0maxis\u001b[0m\u001b[1;33m=\u001b[0m\u001b[1;36m1\u001b[0m\u001b[1;33m)\u001b[0m\u001b[1;33m\u001b[0m\u001b[1;33m\u001b[0m\u001b[0m\n\u001b[0;32m      5\u001b[0m \u001b[1;33m\u001b[0m\u001b[0m\n\u001b[1;32m----> 6\u001b[1;33m     \u001b[0mecc_dists\u001b[0m\u001b[1;33m[\u001b[0m\u001b[0mi\u001b[0m\u001b[1;33m]\u001b[0m \u001b[1;33m=\u001b[0m \u001b[1;33m(\u001b[0m\u001b[0mnp\u001b[0m\u001b[1;33m.\u001b[0m\u001b[0mlog\u001b[0m\u001b[1;33m(\u001b[0m\u001b[0meccs1\u001b[0m\u001b[1;33m[\u001b[0m\u001b[0mi\u001b[0m\u001b[1;33m]\u001b[0m\u001b[1;33m[\u001b[0m\u001b[0mindex_plus\u001b[0m\u001b[1;33m]\u001b[0m\u001b[1;33m/\u001b[0m\u001b[0meccs2\u001b[0m\u001b[1;33m[\u001b[0m\u001b[0mi\u001b[0m\u001b[1;33m]\u001b[0m\u001b[1;33m[\u001b[0m\u001b[0mindex_plus\u001b[0m\u001b[1;33m]\u001b[0m\u001b[1;33m)\u001b[0m\u001b[1;33m)\u001b[0m\u001b[1;33m+\u001b[0m\u001b[1;33m(\u001b[0m\u001b[0mnp\u001b[0m\u001b[1;33m.\u001b[0m\u001b[0mlog\u001b[0m\u001b[1;33m(\u001b[0m\u001b[0meccs2\u001b[0m\u001b[1;33m[\u001b[0m\u001b[0mi\u001b[0m\u001b[1;33m]\u001b[0m\u001b[1;33m[\u001b[0m\u001b[0mindex_minus\u001b[0m\u001b[1;33m]\u001b[0m\u001b[1;33m-\u001b[0m\u001b[0meccs1\u001b[0m\u001b[1;33m[\u001b[0m\u001b[0mi\u001b[0m\u001b[1;33m]\u001b[0m\u001b[1;33m[\u001b[0m\u001b[0mindex_minus\u001b[0m\u001b[1;33m]\u001b[0m\u001b[1;33m)\u001b[0m\u001b[1;33m)\u001b[0m\u001b[1;33m\u001b[0m\u001b[1;33m\u001b[0m\u001b[0m\n\u001b[0m",
      "\u001b[1;31mValueError\u001b[0m: could not broadcast input array from shape (200,101) into shape (200,)"
     ]
    }
   ],
   "source": [
    "\n",
    "for i in tqdm(range(0,len(rvs))):\n",
    "    #ecc_dists[i] = paired_distances(eccs1[i], eccs2[i], n_jobs = -1, metric = spdists.chebyshev)\n",
    "    index_plus = np.argmax(eccs1[i]-eccs2[i],axis=1)\n",
    "    index_minus = np.argmax(eccs2[i]-eccs1[i],axis=1)\n",
    "\n",
    "    ecc_dists[i] = (np.log(eccs1[i][index_plus]/eccs2[i][index_plus]))+(np.log(eccs2[i][index_minus]-eccs1[i][index_minus]))"
   ]
  },
  {
   "cell_type": "code",
   "execution_count": 35,
   "metadata": {},
   "outputs": [
    {
     "name": "stderr",
     "output_type": "stream",
     "text": [
      "c:\\Users\\Niklas\\anaconda3\\lib\\site-packages\\ipykernel_launcher.py:1: RuntimeWarning: divide by zero encountered in true_divide\n",
      "  \"\"\"Entry point for launching an IPython kernel.\n",
      "c:\\Users\\Niklas\\anaconda3\\lib\\site-packages\\ipykernel_launcher.py:1: RuntimeWarning: invalid value encountered in true_divide\n",
      "  \"\"\"Entry point for launching an IPython kernel.\n"
     ]
    },
    {
     "data": {
      "text/plain": [
       "array([[[  1.        ,   0.985     ,   0.98994975, ...,   0.67346939,\n",
       "           0.75555556,   0.80487805],\n",
       "        [  1.        ,   1.        ,   0.99492386, ...,   1.02564103,\n",
       "           1.        ,   0.84444444],\n",
       "        [  1.        ,   1.01010101,   1.01020408, ...,   0.77272727,\n",
       "           0.76744186,   0.76190476],\n",
       "        ...,\n",
       "        [  1.        ,   1.        ,   0.98984772, ...,   1.3125    ,\n",
       "           1.17142857,   1.25714286],\n",
       "        [  1.        ,   1.00502513,   1.01025641, ...,   0.55813953,\n",
       "           0.65217391,   0.58333333],\n",
       "        [  1.        ,   1.        ,   0.99      , ...,   1.13636364,\n",
       "           1.09302326,   1.13636364]],\n",
       "\n",
       "       [[  1.        ,   0.9798995 ,   1.        , ...,   1.44444444,\n",
       "           1.22222222,   1.625     ],\n",
       "        [  1.        ,   0.98994975,   1.02094241, ..., -18.        ,\n",
       "          16.        , -15.        ],\n",
       "        [  1.        ,   1.01010101,   1.02604167, ...,   1.5       ,\n",
       "           1.28571429,   1.        ],\n",
       "        ...,\n",
       "        [  1.        ,   0.99492386,   1.02105263, ...,  -5.        ,\n",
       "                 -inf,  -3.        ],\n",
       "        [  1.        ,   1.        ,   0.99497487, ...,   0.875     ,\n",
       "           1.57142857,   2.8       ],\n",
       "        [  1.        ,   1.00505051,   1.        , ...,   0.69230769,\n",
       "           0.75      ,   0.54545455]],\n",
       "\n",
       "       [[  1.        ,   1.01570681,   1.00552486, ...,   1.        ,\n",
       "           1.        ,   1.        ],\n",
       "        [  1.        ,   1.015625  ,   1.01104972, ...,   1.        ,\n",
       "                 -inf,         -inf],\n",
       "        [  1.        ,   1.00526316,   1.02824859, ...,   0.        ,\n",
       "           0.        ,   2.        ],\n",
       "        ...,\n",
       "        [  1.        ,   0.984375  ,   1.05263158, ...,          nan,\n",
       "                  nan,          nan],\n",
       "        [  1.        ,   0.97461929,   0.97849462, ...,   1.        ,\n",
       "           1.        ,   1.        ],\n",
       "        [  1.        ,   1.        ,   0.97790055, ...,   4.        ,\n",
       "           4.        ,   4.        ]],\n",
       "\n",
       "       ...,\n",
       "\n",
       "       [[  1.        ,   1.00507614,   0.98979592, ...,   1.60869565,\n",
       "           1.44444444,   1.7826087 ],\n",
       "        [  1.        ,   0.99492386,   1.00520833, ...,   1.25      ,\n",
       "           1.40625   ,   1.46666667],\n",
       "        [  1.        ,   1.00505051,   1.01025641, ...,   1.71428571,\n",
       "           1.94736842,   2.375     ],\n",
       "        ...,\n",
       "        [  1.        ,   1.        ,   1.        , ...,   0.60606061,\n",
       "           0.54285714,   0.53846154],\n",
       "        [  1.        ,   1.00507614,   1.01036269, ...,   1.        ,\n",
       "           0.88      ,   0.91666667],\n",
       "        [  1.        ,   1.00505051,   1.        , ...,   1.09090909,\n",
       "           1.09090909,   1.19047619]],\n",
       "\n",
       "       [[  1.        ,   1.01570681,   1.01123596, ...,          inf,\n",
       "                  inf,          inf],\n",
       "        [  1.        ,   1.0104712 ,   1.02840909, ...,   0.        ,\n",
       "           0.        ,  -0.        ],\n",
       "        [  1.        ,   1.02094241,   1.02808989, ...,   3.        ,\n",
       "           2.        ,   4.        ],\n",
       "        ...,\n",
       "        [  1.        ,   0.98453608,   0.9516129 , ...,   0.        ,\n",
       "                  nan,   0.        ],\n",
       "        [  1.        ,   1.0106383 ,   1.03550296, ...,          nan,\n",
       "           0.        ,   0.        ],\n",
       "        [  1.        ,   0.98453608,   0.95081967, ...,   1.        ,\n",
       "           1.        ,   1.        ]],\n",
       "\n",
       "       [[  1.        ,   1.02061856,   1.04255319, ...,         -inf,\n",
       "          -3.5       ,  -5.        ],\n",
       "        [  1.        ,   1.        ,   0.96907216, ...,          inf,\n",
       "           1.5       ,   1.5       ],\n",
       "        [  1.        ,   0.97969543,   0.97916667, ...,  -0.25      ,\n",
       "          -0.33333333,   0.33333333],\n",
       "        ...,\n",
       "        [  1.        ,   0.9798995 ,   0.96891192, ...,  -0.08333333,\n",
       "          -0.2       ,  -0.66666667],\n",
       "        [  1.        ,   1.02061856,   1.03191489, ...,   0.6       ,\n",
       "           0.2       ,          nan],\n",
       "        [  1.        ,   0.99497487,   0.99487179, ...,   3.5       ,\n",
       "                 -inf,  -0.        ]]])"
      ]
     },
     "execution_count": 35,
     "metadata": {},
     "output_type": "execute_result"
    }
   ],
   "source": [
    "eccs1[:,index_plus]/eccs2[:,index_plus]\n",
    "#eccs1[0][0]"
   ]
  },
  {
   "cell_type": "code",
   "execution_count": 16,
   "metadata": {},
   "outputs": [
    {
     "data": {
      "application/vnd.jupyter.widget-view+json": {
       "model_id": "fabc3b0a336a4f679b62130d36b23597",
       "version_major": 2,
       "version_minor": 0
      },
      "text/plain": [
       "Canvas(toolbar=Toolbar(toolitems=[('Home', 'Reset original view', 'home', 'home'), ('Back', 'Back to previous …"
      ]
     },
     "metadata": {},
     "output_type": "display_data"
    }
   ],
   "source": [
    "f,ax = plt.subplots()\n",
    "ax.hist(ecc_dists.T)\n",
    "plt.show()"
   ]
  },
  {
   "cell_type": "code",
   "execution_count": 17,
   "metadata": {},
   "outputs": [
    {
     "data": {
      "application/vnd.jupyter.widget-view+json": {
       "model_id": "561073cbd8c449beb0930829de319dc9",
       "version_major": 2,
       "version_minor": 0
      },
      "text/plain": [
       "Canvas(toolbar=Toolbar(toolitems=[('Home', 'Reset original view', 'home', 'home'), ('Back', 'Back to previous …"
      ]
     },
     "metadata": {},
     "output_type": "display_data"
    },
    {
     "data": {
      "text/plain": [
       "<matplotlib.colorbar.Colorbar at 0x219fedb5048>"
      ]
     },
     "execution_count": 17,
     "metadata": {},
     "output_type": "execute_result"
    }
   ],
   "source": [
    "pvals = np.zeros((len(rvs),len(rvs)))\n",
    "for i in range(0,len(rvs)):\n",
    "    for j in range(0,len(rvs)):\n",
    "        pvals[i][j] = ks_2samp(ecc_dists[i], ecc_dists[j])[1]\n",
    "\n",
    "plt.matshow(pvals)\n",
    "plt.colorbar()"
   ]
  },
  {
   "cell_type": "code",
   "execution_count": 23,
   "metadata": {},
   "outputs": [
    {
     "data": {
      "application/vnd.jupyter.widget-view+json": {
       "model_id": "2c5a1c3867be4780860126514bba58d5",
       "version_major": 2,
       "version_minor": 0
      },
      "text/plain": [
       "Canvas(toolbar=Toolbar(toolitems=[('Home', 'Reset original view', 'home', 'home'), ('Back', 'Back to previous …"
      ]
     },
     "metadata": {},
     "output_type": "display_data"
    },
    {
     "data": {
      "text/plain": [
       "<matplotlib.colorbar.Colorbar at 0x2bef1564388>"
      ]
     },
     "execution_count": 23,
     "metadata": {},
     "output_type": "execute_result"
    }
   ],
   "source": [
    "pvals = np.zeros((len(rvs),len(rvs)))\n",
    "for i in range(0,len(rvs)):\n",
    "    for j in range(0,len(rvs)):\n",
    "        pvals[i][j] = ks_2samp(pairwise_distances(samples[i][0], n_jobs=-1).flatten(),pairwise_distances(samples2[j][0], n_jobs=-1).flatten())[0]\n",
    "\n",
    "plt.matshow(pvals)\n",
    "plt.colorbar()"
   ]
  }
 ],
 "metadata": {
  "kernelspec": {
   "display_name": "Python 3.7.6 ('base')",
   "language": "python",
   "name": "python3"
  },
  "language_info": {
   "codemirror_mode": {
    "name": "ipython",
    "version": 3
   },
   "file_extension": ".py",
   "mimetype": "text/x-python",
   "name": "python",
   "nbconvert_exporter": "python",
   "pygments_lexer": "ipython3",
   "version": "3.7.6"
  },
  "orig_nbformat": 4,
  "vscode": {
   "interpreter": {
    "hash": "d9afb6b688e7dd77db3bffa01ffc2bc117fca9c663fc228558b76627c9c64d5e"
   }
  }
 },
 "nbformat": 4,
 "nbformat_minor": 2
}
