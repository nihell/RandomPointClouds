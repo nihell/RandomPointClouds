{
 "cells": [
  {
   "cell_type": "code",
   "execution_count": 1,
   "metadata": {},
   "outputs": [
    {
     "name": "stderr",
     "output_type": "stream",
     "text": [
      "c:\\Users\\Niklas\\anaconda3\\lib\\site-packages\\outdated\\utils.py:18: OutdatedPackageWarning: The package pingouin is out of date. Your version is 0.3.3, the latest is 0.5.2.\n",
      "Set the environment variable OUTDATED_IGNORE=1 to disable these warnings.\n",
      "  **kwargs\n",
      "c:\\Users\\Niklas\\anaconda3\\lib\\site-packages\\outdated\\utils.py:18: OutdatedPackageWarning: The package outdated is out of date. Your version is 0.2.0, the latest is 0.2.1.\n",
      "Set the environment variable OUTDATED_IGNORE=1 to disable these warnings.\n",
      "  **kwargs\n"
     ]
    }
   ],
   "source": [
    "import gudhi as gd\n",
    "from gudhi import representations\n",
    "import numpy as np\n",
    "import numpy.random\n",
    "import matplotlib.pyplot as plt\n",
    "import pingouin as pg\n",
    "import scipy.stats as st\n",
    "from collections import defaultdict\n",
    "from sklearn.metrics import pairwise_distances\n",
    "from sklearn.metrics.pairwise import paired_distances\n",
    "from tqdm.notebook import tqdm\n",
    "import scipy.spatial.distance as spdists\n",
    "#from curlyBrace import curlyBrace\n",
    "%matplotlib widget"
   ]
  },
  {
   "cell_type": "code",
   "execution_count": 2,
   "metadata": {},
   "outputs": [],
   "source": [
    "#scipy.stats uses numpy.random seed\n",
    "np.random.seed(seed=0)"
   ]
  },
  {
   "cell_type": "code",
   "execution_count": 3,
   "metadata": {},
   "outputs": [],
   "source": [
    "def sampled_ecc_alpha(pointcloud, n_samples, max_filt_val):\n",
    "    ac = gd.AlphaComplex(points = pointcloud)\n",
    "    st = ac.create_simplex_tree()\n",
    "    filt_values = np.linspace(0,max_filt_val,n_samples)\n",
    "    ecc_values = np.zeros_like(filt_values)\n",
    "    simplices = list(st.get_filtration())\n",
    "    cur_val = 0\n",
    "    i=0\n",
    "    for (j,t) in enumerate(filt_values):\n",
    "        while (i<len(simplices)) and (simplices[i][1]<=t):\n",
    "            cur_val=cur_val +(-1)**(len(simplices[i][0])-1)\n",
    "            i = i+1\n",
    "        #print(t, cur_val)\n",
    "        ecc_values[j] = cur_val\n",
    "        \n",
    "    return ecc_values"
   ]
  },
  {
   "cell_type": "code",
   "execution_count": 4,
   "metadata": {},
   "outputs": [],
   "source": [
    "def get_ecc(data, n_samples, max_filt_val):\n",
    "    eccs = []\n",
    "    for dat in tqdm(data):\n",
    "        ec = sampled_ecc_alpha(dat, n_samples, max_filt_val)\n",
    "        eccs.append(ec)\n",
    "    return eccs"
   ]
  },
  {
   "cell_type": "code",
   "execution_count": 5,
   "metadata": {},
   "outputs": [],
   "source": [
    "\n",
    "rv_uniform = st.uniform()\n",
    "rv_beta = st.beta(3,3)\n"
   ]
  },
  {
   "cell_type": "code",
   "execution_count": 6,
   "metadata": {},
   "outputs": [
    {
     "data": {
      "application/vnd.jupyter.widget-view+json": {
       "model_id": "61da3007924e4451864bc5bd17c27426",
       "version_major": 2,
       "version_minor": 0
      },
      "text/plain": [
       "Canvas(toolbar=Toolbar(toolitems=[('Home', 'Reset original view', 'home', 'home'), ('Back', 'Back to previous …"
      ]
     },
     "metadata": {},
     "output_type": "display_data"
    }
   ],
   "source": [
    "#First look at true H_0: X and Y sampled from the same distribution\n",
    "n=100\n",
    "n_loops = 1000\n",
    "d = 2\n",
    "steps = 1001\n",
    "maxfilt = 3\n",
    "radii = np.linspace(0,maxfilt,steps)\n",
    "X = np.array([rv_uniform.rvs(n), rv_uniform.rvs(n)]).T\n",
    "Y = np.array([rv_uniform.rvs(n), rv_uniform.rvs(n)]).T\n",
    "\n",
    "ecX = sampled_ecc_alpha(n**(1/2)*X, steps,maxfilt)\n",
    "ecY = sampled_ecc_alpha(n**(1/2)*Y, steps,maxfilt)\n",
    "\n",
    "\n",
    "f,ax1= plt.subplots(1,1, figsize = (8,8))\n",
    "ax1.scatter(X[:,0], X[:,1], label =\"$X$\", color=\"tab:blue\")\n",
    "ax1.scatter(Y[:,0], Y[:,1], label =\"$Y$\", color=\"tab:orange\")\n",
    "ax1.legend()\n",
    "plt.savefig(\"2sample-H0-unif-vs-unif-square-n100.pdf\")\n",
    "\n",
    "\n",
    "D = np.max(np.abs(ecY - ecX))\n",
    "\n",
    "plt.show()"
   ]
  },
  {
   "cell_type": "code",
   "execution_count": 7,
   "metadata": {},
   "outputs": [
    {
     "data": {
      "application/vnd.jupyter.widget-view+json": {
       "model_id": "74d5bfdffc1547b0a7148b61ffd2963c",
       "version_major": 2,
       "version_minor": 0
      },
      "text/plain": [
       "HBox(children=(FloatProgress(value=0.0, max=1000.0), HTML(value='')))"
      ]
     },
     "metadata": {},
     "output_type": "display_data"
    },
    {
     "name": "stdout",
     "output_type": "stream",
     "text": [
      "\n",
      "0.016000000000000007\n"
     ]
    }
   ],
   "source": [
    "def two_sample_ecc_test(X,Y):\n",
    "    pool = np.concatenate((X,Y), axis = 0)\n",
    "    pv = 0\n",
    "\n",
    "    for p in tqdm(range(0,n_loops)):\n",
    "        permuted_pool = np.random.permutation(pool)\n",
    "        Xp = permuted_pool[:n]\n",
    "        Yp = permuted_pool[n:]\n",
    "\n",
    "        ecXp = sampled_ecc_alpha(n**(1/2)*Xp, steps,maxfilt)\n",
    "        ecYp = sampled_ecc_alpha(n**(1/2)*Yp, steps,maxfilt)\n",
    "        dp = np.max(np.abs(ecXp - ecYp))\n",
    "        if (dp>D):\n",
    "            pv = pv + 1.0/n_loops\n",
    "\n",
    "    return (pv)\n"
   ]
  },
  {
   "cell_type": "code",
   "execution_count": 8,
   "metadata": {},
   "outputs": [
    {
     "data": {
      "application/vnd.jupyter.widget-view+json": {
       "model_id": "b99f04d9916e40659886fb44ad9b82c0",
       "version_major": 2,
       "version_minor": 0
      },
      "text/plain": [
       "Canvas(toolbar=Toolbar(toolitems=[('Home', 'Reset original view', 'home', 'home'), ('Back', 'Back to previous …"
      ]
     },
     "metadata": {},
     "output_type": "display_data"
    }
   ],
   "source": [
    "supdist = np.max(np.abs(ecX - ecY))\n",
    "suparg = np.argmax(np.abs(ecX - ecY))\n",
    "\n",
    "f,ax = plt.subplots(figsize = (8,8))\n",
    "ax.plot(radii, ecX, label = \"$\\\\chi(X)$\", color=\"tab:blue\")\n",
    "ax.plot(radii, ecY, label = \"$\\\\chi(Y)$\", color=\"tab:orange\")\n",
    "ax.annotate(\"$\\|\\chi(X)-\\chi(Y)\\|_{\\infty}$ =\"+str(supdist), fontsize = \"11\",xy=(radii[suparg],0.5*(ecX[suparg]+ecY[suparg])),xycoords=\"data\",xytext = (radii[suparg]+0.1,0.5*(ecX[suparg]+ecY[suparg])),textcoords=\"data\",arrowprops={\"arrowstyle\":\"-[, widthB=1.5\", \"connectionstyle\":\"arc3\",\"shrinkA\":1,\"shrinkB\":2, \"color\":\"black\"})\n",
    "ax.legend()\n",
    "\n",
    "plt.savefig(\"2sample-H0-ECC-unif-vs-unif-n100-supdist.pdf\")\n",
    "plt.show()"
   ]
  },
  {
   "cell_type": "code",
   "execution_count": 9,
   "metadata": {},
   "outputs": [
    {
     "data": {
      "application/vnd.jupyter.widget-view+json": {
       "model_id": "5d78da4b9a164a48991904abc34d3387",
       "version_major": 2,
       "version_minor": 0
      },
      "text/plain": [
       "Canvas(toolbar=Toolbar(toolitems=[('Home', 'Reset original view', 'home', 'home'), ('Back', 'Back to previous …"
      ]
     },
     "metadata": {},
     "output_type": "display_data"
    }
   ],
   "source": [
    "#First look at true H_0: X and Y sampled from the same distribution\n",
    "n=100\n",
    "n_loops = 1000\n",
    "d = 2\n",
    "steps = 1001\n",
    "maxfilt = 3\n",
    "radii = np.linspace(0,maxfilt,steps)\n",
    "X = np.array([rv_uniform.rvs(n), rv_uniform.rvs(n)]).T\n",
    "Y = np.array([rv_beta.rvs(n), rv_beta.rvs(n)]).T\n",
    "\n",
    "ecX = sampled_ecc_alpha(n**(1/2)*X, steps,maxfilt)\n",
    "ecY = sampled_ecc_alpha(n**(1/2)*Y, steps,maxfilt)\n",
    "\n",
    "\n",
    "f,ax1= plt.subplots(1,1, figsize = (8,8))\n",
    "ax1.scatter(X[:,0], X[:,1], label =\"$X$\", color=\"tab:blue\")\n",
    "ax1.scatter(Y[:,0], Y[:,1], label =\"$Y$\", color=\"tab:orange\")\n",
    "ax1.legend()\n",
    "plt.savefig(\"2sample-H1-unif-vs-beta-square-n100.pdf\")\n",
    "\n",
    "\n",
    "D = np.max(np.abs(ecY - ecX))\n",
    "\n",
    "plt.show()"
   ]
  },
  {
   "cell_type": "code",
   "execution_count": null,
   "metadata": {},
   "outputs": [],
   "source": [
    "pool = np.concatenate((X,Y), axis = 0)\n",
    "pv = 0\n",
    "\n",
    "for p in tqdm(range(0,n_loops)):\n",
    "    permuted_pool = np.random.permutation(pool)\n",
    "    Xp = permuted_pool[:n]\n",
    "    Yp = permuted_pool[n:]\n",
    "\n",
    "    ecXp = sampled_ecc_alpha(n**(1/2)*Xp, steps,maxfilt)\n",
    "    ecYp = sampled_ecc_alpha(n**(1/2)*Yp, steps,maxfilt)\n",
    "    dp = np.max(np.abs(ecXp - ecYp))\n",
    "    if (dp>D):\n",
    "        pv = pv + 1.0/n_loops\n",
    "\n",
    "print(pv)\n"
   ]
  }
 ],
 "metadata": {
  "kernelspec": {
   "display_name": "Python 3.7.6 ('base')",
   "language": "python",
   "name": "python3"
  },
  "language_info": {
   "codemirror_mode": {
    "name": "ipython",
    "version": 3
   },
   "file_extension": ".py",
   "mimetype": "text/x-python",
   "name": "python",
   "nbconvert_exporter": "python",
   "pygments_lexer": "ipython3",
   "version": "3.7.6"
  },
  "orig_nbformat": 4,
  "vscode": {
   "interpreter": {
    "hash": "d9afb6b688e7dd77db3bffa01ffc2bc117fca9c663fc228558b76627c9c64d5e"
   }
  }
 },
 "nbformat": 4,
 "nbformat_minor": 2
}
