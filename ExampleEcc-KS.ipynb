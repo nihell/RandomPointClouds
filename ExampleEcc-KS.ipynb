{
 "cells": [
  {
   "cell_type": "code",
   "execution_count": 1,
   "metadata": {},
   "outputs": [
    {
     "name": "stderr",
     "output_type": "stream",
     "text": [
      "c:\\Users\\Niklas\\anaconda3\\lib\\site-packages\\outdated\\utils.py:18: OutdatedPackageWarning: The package outdated is out of date. Your version is 0.2.0, the latest is 0.2.1.\n",
      "Set the environment variable OUTDATED_IGNORE=1 to disable these warnings.\n",
      "  **kwargs\n",
      "c:\\Users\\Niklas\\anaconda3\\lib\\site-packages\\outdated\\utils.py:18: OutdatedPackageWarning: The package pingouin is out of date. Your version is 0.3.3, the latest is 0.5.2.\n",
      "Set the environment variable OUTDATED_IGNORE=1 to disable these warnings.\n",
      "  **kwargs\n"
     ]
    }
   ],
   "source": [
    "import gudhi as gd\n",
    "from gudhi import representations\n",
    "import numpy as np\n",
    "import numpy.random\n",
    "import matplotlib.pyplot as plt\n",
    "import pingouin as pg\n",
    "import scipy.stats as st\n",
    "from collections import defaultdict\n",
    "from sklearn.metrics import pairwise_distances\n",
    "from sklearn.metrics.pairwise import paired_distances\n",
    "from tqdm.notebook import tqdm\n",
    "import scipy.spatial.distance as spdists\n",
    "#from curlyBrace import curlyBrace\n",
    "%matplotlib widget"
   ]
  },
  {
   "cell_type": "code",
   "execution_count": 2,
   "metadata": {},
   "outputs": [],
   "source": [
    "#scipy.stats uses numpy.random seed\n",
    "np.random.seed(seed=0)"
   ]
  },
  {
   "cell_type": "code",
   "execution_count": 3,
   "metadata": {},
   "outputs": [
    {
     "data": {
      "text/plain": [
       "array([0.5488135 , 0.71518937, 0.60276338, 0.54488318, 0.4236548 ,\n",
       "       0.64589411, 0.43758721, 0.891773  , 0.96366276, 0.38344152,\n",
       "       0.79172504, 0.52889492, 0.56804456, 0.92559664, 0.07103606,\n",
       "       0.0871293 , 0.0202184 , 0.83261985, 0.77815675, 0.87001215,\n",
       "       0.97861834, 0.79915856, 0.46147936, 0.78052918, 0.11827443,\n",
       "       0.63992102, 0.14335329, 0.94466892, 0.52184832, 0.41466194,\n",
       "       0.26455561, 0.77423369, 0.45615033, 0.56843395, 0.0187898 ,\n",
       "       0.6176355 , 0.61209572, 0.616934  , 0.94374808, 0.6818203 ,\n",
       "       0.3595079 , 0.43703195, 0.6976312 , 0.06022547, 0.66676672,\n",
       "       0.67063787, 0.21038256, 0.1289263 , 0.31542835, 0.36371077,\n",
       "       0.57019677, 0.43860151, 0.98837384, 0.10204481, 0.20887676,\n",
       "       0.16130952, 0.65310833, 0.2532916 , 0.46631077, 0.24442559,\n",
       "       0.15896958, 0.11037514, 0.65632959, 0.13818295, 0.19658236,\n",
       "       0.36872517, 0.82099323, 0.09710128, 0.83794491, 0.09609841,\n",
       "       0.97645947, 0.4686512 , 0.97676109, 0.60484552, 0.73926358,\n",
       "       0.03918779, 0.28280696, 0.12019656, 0.2961402 , 0.11872772,\n",
       "       0.31798318, 0.41426299, 0.0641475 , 0.69247212, 0.56660145,\n",
       "       0.26538949, 0.52324805, 0.09394051, 0.5759465 , 0.9292962 ,\n",
       "       0.31856895, 0.66741038, 0.13179786, 0.7163272 , 0.28940609,\n",
       "       0.18319136, 0.58651293, 0.02010755, 0.82894003, 0.00469548])"
      ]
     },
     "execution_count": 3,
     "metadata": {},
     "output_type": "execute_result"
    }
   ],
   "source": [
    "#First look at 1d for KS\n",
    "rv_uniform = st.uniform()\n",
    "rv_beta = st.beta(3,3)\n",
    "samples1d = rv_uniform.rvs(100)\n",
    "samples1d"
   ]
  },
  {
   "cell_type": "code",
   "execution_count": 4,
   "metadata": {},
   "outputs": [
    {
     "data": {
      "application/vnd.jupyter.widget-view+json": {
       "model_id": "eb54f06407b1419d979bed66c926e4bc",
       "version_major": 2,
       "version_minor": 0
      },
      "text/plain": [
       "Canvas(toolbar=Toolbar(toolitems=[('Home', 'Reset original view', 'home', 'home'), ('Back', 'Back to previous …"
      ]
     },
     "metadata": {},
     "output_type": "display_data"
    }
   ],
   "source": [
    "f,ax = plt.subplots()\n",
    "ax.scatter(samples1d, [0]*len(samples1d))\n",
    "ax.ylabel = None\n",
    "ax.set_yticklabels([])\n",
    "ax.tick_params(left=False)\n",
    "plt.show()"
   ]
  },
  {
   "cell_type": "code",
   "execution_count": 5,
   "metadata": {},
   "outputs": [],
   "source": [
    "def ecdf(x):\n",
    "    xs = np.sort(x)\n",
    "    ys = np.arange(1, len(xs)+1)/float(len(xs))\n",
    "    return xs, ys"
   ]
  },
  {
   "cell_type": "code",
   "execution_count": 6,
   "metadata": {},
   "outputs": [
    {
     "data": {
      "application/vnd.jupyter.widget-view+json": {
       "model_id": "bdbddc62867c4aeb92f383b0aeac57bd",
       "version_major": 2,
       "version_minor": 0
      },
      "text/plain": [
       "Canvas(toolbar=Toolbar(toolitems=[('Home', 'Reset original view', 'home', 'home'), ('Back', 'Back to previous …"
      ]
     },
     "metadata": {},
     "output_type": "display_data"
    },
    {
     "data": {
      "text/plain": [
       "Text(0.7163272041185655, 0.79, '')"
      ]
     },
     "execution_count": 6,
     "metadata": {},
     "output_type": "execute_result"
    }
   ],
   "source": [
    "Fx, Fy = ecdf(samples1d)\n",
    "supidx = np.argmax(Fy-Fx)\n",
    "f,ax = plt.subplots()\n",
    "ax.scatter(samples1d, [0]*len(samples1d))\n",
    "ax.plot(Fx, Fy)\n",
    "ax.plot([0,1],[0,1])\n",
    "ax.annotate(\"\", xy=(Fx[supidx],Fx[supidx]), xytext=(Fx[supidx],Fy[supidx]), arrowprops=dict(arrowstyle='<->',color=\"black\"))\n"
   ]
  },
  {
   "cell_type": "code",
   "execution_count": 7,
   "metadata": {},
   "outputs": [],
   "source": [
    "def sampled_ecc_alpha(pointcloud, n_samples, max_filt_val):\n",
    "    ac = gd.AlphaComplex(points = pointcloud)\n",
    "    st = ac.create_simplex_tree()\n",
    "    filt_values = np.linspace(0,max_filt_val,n_samples)\n",
    "    ecc_values = np.zeros_like(filt_values)\n",
    "    simplices = list(st.get_filtration())\n",
    "    cur_val = 0\n",
    "    i=0\n",
    "    for (j,t) in enumerate(filt_values):\n",
    "        while (i<len(simplices)) and (simplices[i][1]<=t):\n",
    "            cur_val=cur_val +(-1)**(len(simplices[i][0])-1)\n",
    "            i = i+1\n",
    "        #print(t, cur_val)\n",
    "        ecc_values[j] = cur_val\n",
    "        \n",
    "    return ecc_values"
   ]
  },
  {
   "cell_type": "code",
   "execution_count": 8,
   "metadata": {},
   "outputs": [],
   "source": [
    "def get_ecc(data, n_samples, max_filt_val):\n",
    "    eccs = []\n",
    "    for dat in tqdm(data):\n",
    "        ec = sampled_ecc_alpha(dat, n_samples, max_filt_val)\n",
    "        eccs.append(ec)\n",
    "    return eccs"
   ]
  },
  {
   "cell_type": "code",
   "execution_count": 9,
   "metadata": {},
   "outputs": [
    {
     "data": {
      "application/vnd.jupyter.widget-view+json": {
       "model_id": "6d8c1f3044c9491c9d6ae445dd8472f8",
       "version_major": 2,
       "version_minor": 0
      },
      "text/plain": [
       "Canvas(toolbar=Toolbar(toolitems=[('Home', 'Reset original view', 'home', 'home'), ('Back', 'Back to previous …"
      ]
     },
     "metadata": {},
     "output_type": "display_data"
    }
   ],
   "source": [
    "#Now in 2d for ECC test\n",
    "from turtle import color\n",
    "\n",
    "\n",
    "n=100\n",
    "n_loops = 1000\n",
    "d = 2\n",
    "steps = 1001\n",
    "maxfilt = 3\n",
    "radii = np.linspace(0,maxfilt,steps)\n",
    "samplesUxU = np.array([rv_uniform.rvs(n), rv_uniform.rvs(n)]).T\n",
    "samplesBxB = np.array([rv_beta.rvs(n), rv_beta.rvs(n)]).T\n",
    "\n",
    "ecUxU = sampled_ecc_alpha(n**(1/2)*samplesUxU, steps,maxfilt)\n",
    "ecBxB = sampled_ecc_alpha(n**(1/2)*samplesBxB, steps,maxfilt)\n",
    "\n",
    "\n",
    "f,ax1= plt.subplots(1,1, figsize = (8,8))\n",
    "ax1.scatter(samplesUxU[:,0], samplesUxU[:,1], label =\"$X\\sim \\mathcal{U}([0,1]^2)?$\", color=\"tab:blue\")\n",
    "ax1.legend()\n",
    "plt.savefig(\"unif-square-n100.pdf\")\n",
    "\n",
    "ax1.scatter(samplesBxB[:,0], samplesBxB[:,1], label =\"$X\\sim \\mathcal{U}([0,1]^2)?$\", color=\"tab:orange\")\n",
    "ax1.legend()\n",
    "plt.savefig(\"unif-vs-beta33-square-n100.pdf\")\n",
    "\n",
    "\n",
    "\n",
    "\n",
    "plt.show()"
   ]
  },
  {
   "cell_type": "code",
   "execution_count": 10,
   "metadata": {},
   "outputs": [
    {
     "data": {
      "application/vnd.jupyter.widget-view+json": {
       "model_id": "63c81b76991b4c32b26aa73c59821b27",
       "version_major": 2,
       "version_minor": 0
      },
      "text/plain": [
       "HBox(children=(FloatProgress(value=0.0, max=1000.0), HTML(value='')))"
      ]
     },
     "metadata": {},
     "output_type": "display_data"
    },
    {
     "name": "stdout",
     "output_type": "stream",
     "text": [
      "\n"
     ]
    },
    {
     "data": {
      "application/vnd.jupyter.widget-view+json": {
       "model_id": "cfb35130ae054c738eb17a2f92a14b29",
       "version_major": 2,
       "version_minor": 0
      },
      "text/plain": [
       "Canvas(toolbar=Toolbar(toolitems=[('Home', 'Reset original view', 'home', 'home'), ('Back', 'Back to previous …"
      ]
     },
     "metadata": {},
     "output_type": "display_data"
    }
   ],
   "source": [
    "radii = np.linspace(0,maxfilt,steps)\n",
    "\n",
    "samplesUxU = [n**(1/2)*np.array([rv_uniform.rvs(n), rv_uniform.rvs(n)]).T for i in range(0,n_loops)]\n",
    "eccs_UxU = get_ecc(samplesUxU, steps,maxfilt)\n",
    "ecc_mean = np.mean(eccs_UxU, axis = 0)\n",
    "supdistU = np.max(np.abs(ecc_mean - ecUxU))\n",
    "suparg = np.argmax(np.abs(ecc_mean - ecUxU))\n",
    "\n",
    "f,ax = plt.subplots(figsize = (8,8))\n",
    "ax.plot(radii,ecc_mean, label = \"average ECC for 100 points sampled from $\\mathcal{U}([0,1]^2)$\", color=\"tab:green\")\n",
    "ax.plot(radii, ecUxU, label = \"ECC for the given sample\", color=\"tab:blue\")\n",
    "\n",
    "ax.annotate(\"$\\|\\chi_X-\\\\bar{\\chi}\\|_{\\infty}$ =\"+str(supdistU), fontsize = \"11\",xy=(radii[suparg],0.5*(ecUxU[suparg]+ecc_mean[suparg])),xycoords=\"data\",xytext = (radii[suparg]+0.1,0.5*(ecUxU[suparg]+ecc_mean[suparg])),textcoords=\"data\",arrowprops={\"arrowstyle\":\"-[, widthB=1.5\", \"connectionstyle\":\"arc3\",\"shrinkA\":1,\"shrinkB\":2, \"color\":\"black\"})\n",
    "ax.legend()\n",
    "plt.savefig(\"ECC-unif-n100-supdist.pdf\")\n",
    "ax.plot(radii, ecBxB, label = \"ECC for the given sample\", color=\"tab:orange\")\n",
    "supdistB = np.max(np.abs(ecc_mean - ecBxB))\n",
    "suparg = np.argmax(np.abs(ecc_mean - ecBxB))\n",
    "ax.annotate(\"$\\|\\chi_X-\\\\bar{\\chi}\\|_{\\infty}$ =\"+str(supdistB), fontsize = \"11\",xy=(radii[suparg],0.5*(ecBxB[suparg]+ecc_mean[suparg])),xycoords=\"data\",xytext = (radii[suparg]+0.1,0.5*(ecBxB[suparg]+ecc_mean[suparg])),textcoords=\"data\",arrowprops={\"arrowstyle\":\"-[, widthB=8\", \"connectionstyle\":\"arc3\",\"shrinkA\":1,\"shrinkB\":2, \"color\":\"black\"})\n",
    "ax.legend()\n",
    "plt.savefig(\"ECC-unif-vs-beta33-n100-supdist.pdf\")\n",
    "plt.show()"
   ]
  },
  {
   "cell_type": "code",
   "execution_count": 11,
   "metadata": {},
   "outputs": [
    {
     "data": {
      "application/vnd.jupyter.widget-view+json": {
       "model_id": "42ac909929b54bca97ab5c0ba6983fa4",
       "version_major": 2,
       "version_minor": 0
      },
      "text/plain": [
       "HBox(children=(FloatProgress(value=0.0, max=1000.0), HTML(value='')))"
      ]
     },
     "metadata": {},
     "output_type": "display_data"
    },
    {
     "name": "stdout",
     "output_type": "stream",
     "text": [
      "\n",
      "PV uniform 0.42\n",
      "PV beta 0.0\n"
     ]
    }
   ],
   "source": [
    "#compute pvals\n",
    "samplesUxU = [n**(1/2)*np.array([rv_uniform.rvs(n), rv_uniform.rvs(n)]).T for i in range(0,n_loops)]\n",
    "eccs_UxU = get_ecc(samplesUxU, steps,maxfilt)\n",
    "Deltas = np.array([np.max(np.abs(ecc_mean-eccs_UxU[i])) for i in range(0,len(samplesUxU))])\n",
    "print(\"PV uniform\", np.mean(Deltas > supdistU))\n",
    "print(\"PV beta\", np.mean(Deltas > supdistB))\n"
   ]
  }
 ],
 "metadata": {
  "kernelspec": {
   "display_name": "Python 3.7.6 ('base')",
   "language": "python",
   "name": "python3"
  },
  "language_info": {
   "codemirror_mode": {
    "name": "ipython",
    "version": 3
   },
   "file_extension": ".py",
   "mimetype": "text/x-python",
   "name": "python",
   "nbconvert_exporter": "python",
   "pygments_lexer": "ipython3",
   "version": "3.7.6"
  },
  "orig_nbformat": 4,
  "vscode": {
   "interpreter": {
    "hash": "d9afb6b688e7dd77db3bffa01ffc2bc117fca9c663fc228558b76627c9c64d5e"
   }
  }
 },
 "nbformat": 4,
 "nbformat_minor": 2
}
