{
 "cells": [
  {
   "cell_type": "code",
   "execution_count": 1,
   "metadata": {},
   "outputs": [],
   "source": [
    "import gudhi as gd\n",
    "from gudhi import representations\n",
    "import numpy as np\n",
    "import numpy.random\n",
    "import matplotlib.pyplot as plt\n",
    "import pingouin as pg\n",
    "import scipy.stats as st\n",
    "from collections import defaultdict\n",
    "from sklearn.metrics import pairwise_distances\n",
    "from sklearn.metrics.pairwise import paired_distances\n",
    "from tqdm.notebook import tqdm\n",
    "import scipy.spatial.distance as spdists\n",
    "from scipy.optimize import  curve_fit\n",
    "\n",
    "%matplotlib widget"
   ]
  },
  {
   "cell_type": "code",
   "execution_count": 2,
   "metadata": {},
   "outputs": [],
   "source": [
    "def sampled_ecc_alpha(pointcloud, n_samples, max_filt_val):\n",
    "    ac = gd.AlphaComplex(points = pointcloud)\n",
    "    st = ac.create_simplex_tree()\n",
    "    filt_values = np.linspace(0,max_filt_val,n_samples)\n",
    "    ecc_values = np.zeros_like(filt_values)\n",
    "    simplices = list(st.get_filtration())\n",
    "    cur_val = 0\n",
    "    i=0\n",
    "    for (j,t) in enumerate(filt_values):\n",
    "        while (i<len(simplices)) and (simplices[i][1]<=t):\n",
    "            cur_val=cur_val +(-1)**(len(simplices[i][0])-1)\n",
    "            i = i+1\n",
    "        #print(t, cur_val)\n",
    "        ecc_values[j] = cur_val\n",
    "        \n",
    "    return ecc_values"
   ]
  },
  {
   "cell_type": "code",
   "execution_count": 3,
   "metadata": {},
   "outputs": [],
   "source": [
    "def get_ecc(data, n_samples, max_filt_val):\n",
    "    eccs = []\n",
    "    for dat in tqdm(data):\n",
    "        ec = sampled_ecc_alpha(dat, n_samples, max_filt_val)\n",
    "        eccs.append(ec)\n",
    "    return eccs"
   ]
  },
  {
   "cell_type": "code",
   "execution_count": 4,
   "metadata": {},
   "outputs": [],
   "source": [
    "def gen_rv(rv, N, n_samples):\n",
    "        return [np.array([rv[0].rvs(N), rv[1].rvs(N).tolist(), rv[2].rvs(N).tolist()]).T for i in range(n_samples)]"
   ]
  },
  {
   "cell_type": "code",
   "execution_count": 5,
   "metadata": {},
   "outputs": [],
   "source": [
    "def tail_frequency(array, t):\n",
    "    #how often are elements of array >t?\n",
    "    return (np.sum(array>t)/len(array))"
   ]
  },
  {
   "cell_type": "code",
   "execution_count": 6,
   "metadata": {},
   "outputs": [],
   "source": [
    "rv_normal = st.norm()\n",
    "rv_normal2_2 = st.norm(2,2)\n",
    "rv_beta2_2 = st.beta(2, 2)\n",
    "rv_beta5_5 = st.beta(5, 5)\n",
    "rv_beta10_10 = st.beta(10, 10)\n",
    "rv_laplace = st.laplace()\n",
    "rv_uniform = st.uniform()\n",
    "rv_t3 = st.t(df=3)\n",
    "rv_t5 = st.t(df=5)\n",
    "rv_t7 = st.t(df=7)\n",
    "rv_t10 = st.t(df=10)\n",
    "rv_gamma10_1 = st.gamma(10,1)\n",
    "rv_gamma20_1 = st.gamma(20,1)\n",
    "rv_gamma4_5 = st.gamma(4,5)\n",
    "rv_gamma5_1= st.gamma(5,1)\n",
    "rv_chisq4 = st.chi2(df=4)\n",
    "rv_chisq10 = st.chi2(df=10)\n",
    "rv_lorentz = st.cauchy()\n",
    "rv_logistic = st.logistic()\n",
    "rv_arcsine = st.arcsine()\n",
    "rv_argus = st.argus(chi=1)\n",
    "rv_cosine = st.cosine()\n"
   ]
  },
  {
   "cell_type": "code",
   "execution_count": 7,
   "metadata": {},
   "outputs": [],
   "source": [
    "n=200\n",
    "n_loops = 1000\n",
    "d = 3\n",
    "\n",
    "rvs= [[rv_uniform, rv_uniform, rv_uniform],\n",
    "      [rv_beta2_2, rv_beta2_2, rv_beta2_2],\n",
    "      [rv_beta5_5, rv_beta5_5,rv_beta5_5],\n",
    "      [rv_beta10_10, rv_beta10_10, rv_beta10_10],\n",
    "      [rv_argus, rv_argus, rv_argus],\n",
    "      [rv_arcsine, rv_arcsine, rv_arcsine],\n",
    "      [rv_uniform, rv_beta10_10, rv_beta10_10],\n",
    "      [rv_uniform, rv_uniform, rv_beta10_10],\n",
    "      [rv_normal, rv_normal, rv_normal]]\n",
    "\n",
    "rv_names=[\"UxUxU\",\n",
    "          \"B22xB22XB22\",\n",
    "          \"B55xB55xB55\",\n",
    "          \"B1010xB1010xB1010\",\n",
    "          \"ArgusxArgusxArgus\",\n",
    "          \"asinxasinxasin\",\n",
    "          \"UxB1010xB1010\",\n",
    "          \"UxUxB1010\",\n",
    "          \"NxNxN\"]\n",
    "\n",
    "colors = [\"tab:blue\", \"tab:orange\", \"tab:green\", \"tab:red\", \"tab:purple\", \"tab:brown\", \"tab:pink\", \"tab:grey\", \"tab:olive\", \"tab:cyan\"]\n"
   ]
  },
  {
   "cell_type": "code",
   "execution_count": 8,
   "metadata": {},
   "outputs": [
    {
     "data": {
      "application/vnd.jupyter.widget-view+json": {
       "model_id": "8d7f8a03cbc94d67a549a9f392bc3e19",
       "version_major": 2,
       "version_minor": 0
      },
      "text/plain": [
       "HBox(children=(FloatProgress(value=0.0, max=9.0), HTML(value='')))"
      ]
     },
     "metadata": {},
     "output_type": "display_data"
    },
    {
     "name": "stdout",
     "output_type": "stream",
     "text": [
      "\n"
     ]
    },
    {
     "data": {
      "application/vnd.jupyter.widget-view+json": {
       "model_id": "45b95242f59a4ff1865d8c4245291a15",
       "version_major": 2,
       "version_minor": 0
      },
      "text/plain": [
       "HBox(children=(FloatProgress(value=0.0, max=9.0), HTML(value='')))"
      ]
     },
     "metadata": {},
     "output_type": "display_data"
    },
    {
     "name": "stdout",
     "output_type": "stream",
     "text": [
      "\n"
     ]
    }
   ],
   "source": [
    "samples = [(n**(1/3)) * np.array(gen_rv(rv,n,n_loops)) for rv in tqdm(rvs)]\n",
    "samples2 = [(n**(1/3)) * np.array(gen_rv(rv,n,n_loops)) for rv in tqdm(rvs)]"
   ]
  },
  {
   "cell_type": "code",
   "execution_count": 9,
   "metadata": {
    "collapsed": true,
    "jupyter": {
     "outputs_hidden": true
    },
    "tags": []
   },
   "outputs": [
    {
     "data": {
      "application/vnd.jupyter.widget-view+json": {
       "model_id": "9c3485a1e86246bb8aa6a09713437c0b",
       "version_major": 2,
       "version_minor": 0
      },
      "text/plain": [
       "HBox(children=(FloatProgress(value=0.0, max=10.0), HTML(value='')))"
      ]
     },
     "metadata": {},
     "output_type": "display_data"
    },
    {
     "data": {
      "application/vnd.jupyter.widget-view+json": {
       "model_id": "632d9430a6424290b5e474627e555d08",
       "version_major": 2,
       "version_minor": 0
      },
      "text/plain": [
       "HBox(children=(FloatProgress(value=0.0, max=9.0), HTML(value='')))"
      ]
     },
     "metadata": {},
     "output_type": "display_data"
    },
    {
     "name": "stdout",
     "output_type": "stream",
     "text": [
      "\n"
     ]
    },
    {
     "data": {
      "application/vnd.jupyter.widget-view+json": {
       "model_id": "98c93f75076e428c8ab13d3966351dc9",
       "version_major": 2,
       "version_minor": 0
      },
      "text/plain": [
       "HBox(children=(FloatProgress(value=0.0, max=9.0), HTML(value='')))"
      ]
     },
     "metadata": {},
     "output_type": "display_data"
    },
    {
     "name": "stdout",
     "output_type": "stream",
     "text": [
      "\n"
     ]
    },
    {
     "data": {
      "application/vnd.jupyter.widget-view+json": {
       "model_id": "8be79173c08c4235a7115dd22a0a10a6",
       "version_major": 2,
       "version_minor": 0
      },
      "text/plain": [
       "HBox(children=(FloatProgress(value=0.0, max=1000.0), HTML(value='')))"
      ]
     },
     "metadata": {},
     "output_type": "display_data"
    },
    {
     "name": "stdout",
     "output_type": "stream",
     "text": [
      "\n"
     ]
    },
    {
     "data": {
      "application/vnd.jupyter.widget-view+json": {
       "model_id": "8634b978f2854b8e9aefb16abada1ab3",
       "version_major": 2,
       "version_minor": 0
      },
      "text/plain": [
       "HBox(children=(FloatProgress(value=0.0, max=1000.0), HTML(value='')))"
      ]
     },
     "metadata": {},
     "output_type": "display_data"
    },
    {
     "name": "stdout",
     "output_type": "stream",
     "text": [
      "\n"
     ]
    },
    {
     "data": {
      "application/vnd.jupyter.widget-view+json": {
       "model_id": "c037a0dcdb7d45e6879776da3d1e1d29",
       "version_major": 2,
       "version_minor": 0
      },
      "text/plain": [
       "HBox(children=(FloatProgress(value=0.0, max=1000.0), HTML(value='')))"
      ]
     },
     "metadata": {},
     "output_type": "display_data"
    },
    {
     "name": "stdout",
     "output_type": "stream",
     "text": [
      "\n"
     ]
    },
    {
     "data": {
      "application/vnd.jupyter.widget-view+json": {
       "model_id": "701bde85858b45e9bc64edd628786729",
       "version_major": 2,
       "version_minor": 0
      },
      "text/plain": [
       "HBox(children=(FloatProgress(value=0.0, max=1000.0), HTML(value='')))"
      ]
     },
     "metadata": {},
     "output_type": "display_data"
    },
    {
     "name": "stdout",
     "output_type": "stream",
     "text": [
      "\n"
     ]
    },
    {
     "data": {
      "application/vnd.jupyter.widget-view+json": {
       "model_id": "eb0ff1c910714240a20ac5eb570d3459",
       "version_major": 2,
       "version_minor": 0
      },
      "text/plain": [
       "HBox(children=(FloatProgress(value=0.0, max=1000.0), HTML(value='')))"
      ]
     },
     "metadata": {},
     "output_type": "display_data"
    },
    {
     "name": "stdout",
     "output_type": "stream",
     "text": [
      "\n"
     ]
    },
    {
     "data": {
      "application/vnd.jupyter.widget-view+json": {
       "model_id": "e81d4603598048e5b23c57ba63b8cb8a",
       "version_major": 2,
       "version_minor": 0
      },
      "text/plain": [
       "HBox(children=(FloatProgress(value=0.0, max=1000.0), HTML(value='')))"
      ]
     },
     "metadata": {},
     "output_type": "display_data"
    },
    {
     "name": "stdout",
     "output_type": "stream",
     "text": [
      "\n"
     ]
    },
    {
     "data": {
      "application/vnd.jupyter.widget-view+json": {
       "model_id": "29a0dc09948c44c987e9e16d91000671",
       "version_major": 2,
       "version_minor": 0
      },
      "text/plain": [
       "HBox(children=(FloatProgress(value=0.0, max=1000.0), HTML(value='')))"
      ]
     },
     "metadata": {},
     "output_type": "display_data"
    },
    {
     "name": "stdout",
     "output_type": "stream",
     "text": [
      "\n"
     ]
    },
    {
     "data": {
      "application/vnd.jupyter.widget-view+json": {
       "model_id": "6dcc77c387654d6a9eb3459df3c55a14",
       "version_major": 2,
       "version_minor": 0
      },
      "text/plain": [
       "HBox(children=(FloatProgress(value=0.0, max=1000.0), HTML(value='')))"
      ]
     },
     "metadata": {},
     "output_type": "display_data"
    },
    {
     "name": "stdout",
     "output_type": "stream",
     "text": [
      "\n"
     ]
    },
    {
     "data": {
      "application/vnd.jupyter.widget-view+json": {
       "model_id": "98b49493349344769658b53a03bdfb66",
       "version_major": 2,
       "version_minor": 0
      },
      "text/plain": [
       "HBox(children=(FloatProgress(value=0.0, max=1000.0), HTML(value='')))"
      ]
     },
     "metadata": {},
     "output_type": "display_data"
    },
    {
     "name": "stdout",
     "output_type": "stream",
     "text": [
      "\n"
     ]
    },
    {
     "data": {
      "application/vnd.jupyter.widget-view+json": {
       "model_id": "c3b1f68709ca411599941c064d59b935",
       "version_major": 2,
       "version_minor": 0
      },
      "text/plain": [
       "HBox(children=(FloatProgress(value=0.0, max=1000.0), HTML(value='')))"
      ]
     },
     "metadata": {},
     "output_type": "display_data"
    },
    {
     "name": "stdout",
     "output_type": "stream",
     "text": [
      "\n"
     ]
    },
    {
     "data": {
      "application/vnd.jupyter.widget-view+json": {
       "model_id": "b05425dd5d7f4074ae19899d2df66a0a",
       "version_major": 2,
       "version_minor": 0
      },
      "text/plain": [
       "HBox(children=(FloatProgress(value=0.0, max=1000.0), HTML(value='')))"
      ]
     },
     "metadata": {},
     "output_type": "display_data"
    },
    {
     "name": "stdout",
     "output_type": "stream",
     "text": [
      "\n"
     ]
    },
    {
     "data": {
      "application/vnd.jupyter.widget-view+json": {
       "model_id": "83d6f2f367e5464c9b21c2c193832ddf",
       "version_major": 2,
       "version_minor": 0
      },
      "text/plain": [
       "HBox(children=(FloatProgress(value=0.0, max=1000.0), HTML(value='')))"
      ]
     },
     "metadata": {},
     "output_type": "display_data"
    },
    {
     "name": "stdout",
     "output_type": "stream",
     "text": [
      "\n"
     ]
    },
    {
     "data": {
      "application/vnd.jupyter.widget-view+json": {
       "model_id": "3c44581649fc4b4db7420f4a296abe65",
       "version_major": 2,
       "version_minor": 0
      },
      "text/plain": [
       "HBox(children=(FloatProgress(value=0.0, max=1000.0), HTML(value='')))"
      ]
     },
     "metadata": {},
     "output_type": "display_data"
    },
    {
     "name": "stdout",
     "output_type": "stream",
     "text": [
      "\n"
     ]
    },
    {
     "data": {
      "application/vnd.jupyter.widget-view+json": {
       "model_id": "06a51cf1f0ec4937aa6aca8839b4a816",
       "version_major": 2,
       "version_minor": 0
      },
      "text/plain": [
       "HBox(children=(FloatProgress(value=0.0, max=1000.0), HTML(value='')))"
      ]
     },
     "metadata": {},
     "output_type": "display_data"
    },
    {
     "name": "stdout",
     "output_type": "stream",
     "text": [
      "\n"
     ]
    },
    {
     "data": {
      "application/vnd.jupyter.widget-view+json": {
       "model_id": "8a3cba840ea94cd39566029b4d178917",
       "version_major": 2,
       "version_minor": 0
      },
      "text/plain": [
       "HBox(children=(FloatProgress(value=0.0, max=1000.0), HTML(value='')))"
      ]
     },
     "metadata": {},
     "output_type": "display_data"
    },
    {
     "name": "stdout",
     "output_type": "stream",
     "text": [
      "\n"
     ]
    },
    {
     "data": {
      "application/vnd.jupyter.widget-view+json": {
       "model_id": "d4921f796f224eefb03f76d363697553",
       "version_major": 2,
       "version_minor": 0
      },
      "text/plain": [
       "HBox(children=(FloatProgress(value=0.0, max=1000.0), HTML(value='')))"
      ]
     },
     "metadata": {},
     "output_type": "display_data"
    },
    {
     "name": "stdout",
     "output_type": "stream",
     "text": [
      "\n"
     ]
    },
    {
     "data": {
      "application/vnd.jupyter.widget-view+json": {
       "model_id": "8c50af55dff842efb05a6766c98449e8",
       "version_major": 2,
       "version_minor": 0
      },
      "text/plain": [
       "HBox(children=(FloatProgress(value=0.0, max=1000.0), HTML(value='')))"
      ]
     },
     "metadata": {},
     "output_type": "display_data"
    },
    {
     "name": "stdout",
     "output_type": "stream",
     "text": [
      "\n"
     ]
    },
    {
     "data": {
      "application/vnd.jupyter.widget-view+json": {
       "model_id": "d69e811a69b94c248ad72eb1e883fd98",
       "version_major": 2,
       "version_minor": 0
      },
      "text/plain": [
       "HBox(children=(FloatProgress(value=0.0, max=1000.0), HTML(value='')))"
      ]
     },
     "metadata": {},
     "output_type": "display_data"
    },
    {
     "name": "stdout",
     "output_type": "stream",
     "text": [
      "\n"
     ]
    },
    {
     "data": {
      "application/vnd.jupyter.widget-view+json": {
       "model_id": "4119ef05782a41c2a00c83257f0f3bfc",
       "version_major": 2,
       "version_minor": 0
      },
      "text/plain": [
       "HBox(children=(FloatProgress(value=0.0, max=9.0), HTML(value='')))"
      ]
     },
     "metadata": {},
     "output_type": "display_data"
    },
    {
     "name": "stdout",
     "output_type": "stream",
     "text": [
      "\n"
     ]
    },
    {
     "data": {
      "application/vnd.jupyter.widget-view+json": {
       "model_id": "9df70eab7576482c8c2f74703b8a5e95",
       "version_major": 2,
       "version_minor": 0
      },
      "text/plain": [
       "HBox(children=(FloatProgress(value=0.0, max=9.0), HTML(value='')))"
      ]
     },
     "metadata": {},
     "output_type": "display_data"
    },
    {
     "name": "stdout",
     "output_type": "stream",
     "text": [
      "\n"
     ]
    },
    {
     "data": {
      "application/vnd.jupyter.widget-view+json": {
       "model_id": "8e931eab842044d6a87e6241681cf01d",
       "version_major": 2,
       "version_minor": 0
      },
      "text/plain": [
       "HBox(children=(FloatProgress(value=0.0, max=9.0), HTML(value='')))"
      ]
     },
     "metadata": {},
     "output_type": "display_data"
    },
    {
     "name": "stdout",
     "output_type": "stream",
     "text": [
      "\n"
     ]
    },
    {
     "data": {
      "application/vnd.jupyter.widget-view+json": {
       "model_id": "aee5f85c99c94fbc9987731d4adbe555",
       "version_major": 2,
       "version_minor": 0
      },
      "text/plain": [
       "HBox(children=(FloatProgress(value=0.0, max=1000.0), HTML(value='')))"
      ]
     },
     "metadata": {},
     "output_type": "display_data"
    },
    {
     "name": "stdout",
     "output_type": "stream",
     "text": [
      "\n"
     ]
    },
    {
     "data": {
      "application/vnd.jupyter.widget-view+json": {
       "model_id": "15faacb8c1b044bdb3d76d6234affd40",
       "version_major": 2,
       "version_minor": 0
      },
      "text/plain": [
       "HBox(children=(FloatProgress(value=0.0, max=1000.0), HTML(value='')))"
      ]
     },
     "metadata": {},
     "output_type": "display_data"
    },
    {
     "name": "stdout",
     "output_type": "stream",
     "text": [
      "\n"
     ]
    },
    {
     "data": {
      "application/vnd.jupyter.widget-view+json": {
       "model_id": "127701a98e194726a64d1b8f50d17537",
       "version_major": 2,
       "version_minor": 0
      },
      "text/plain": [
       "HBox(children=(FloatProgress(value=0.0, max=1000.0), HTML(value='')))"
      ]
     },
     "metadata": {},
     "output_type": "display_data"
    },
    {
     "name": "stdout",
     "output_type": "stream",
     "text": [
      "\n"
     ]
    },
    {
     "data": {
      "application/vnd.jupyter.widget-view+json": {
       "model_id": "deb9672429a54b88819edb52b3bfb410",
       "version_major": 2,
       "version_minor": 0
      },
      "text/plain": [
       "HBox(children=(FloatProgress(value=0.0, max=1000.0), HTML(value='')))"
      ]
     },
     "metadata": {},
     "output_type": "display_data"
    },
    {
     "name": "stdout",
     "output_type": "stream",
     "text": [
      "\n"
     ]
    },
    {
     "data": {
      "application/vnd.jupyter.widget-view+json": {
       "model_id": "913f086849c946ee85b301b4da6eee27",
       "version_major": 2,
       "version_minor": 0
      },
      "text/plain": [
       "HBox(children=(FloatProgress(value=0.0, max=1000.0), HTML(value='')))"
      ]
     },
     "metadata": {},
     "output_type": "display_data"
    },
    {
     "name": "stdout",
     "output_type": "stream",
     "text": [
      "\n"
     ]
    },
    {
     "data": {
      "application/vnd.jupyter.widget-view+json": {
       "model_id": "56637c99ecac498fae5dfce3922dc705",
       "version_major": 2,
       "version_minor": 0
      },
      "text/plain": [
       "HBox(children=(FloatProgress(value=0.0, max=1000.0), HTML(value='')))"
      ]
     },
     "metadata": {},
     "output_type": "display_data"
    },
    {
     "name": "stdout",
     "output_type": "stream",
     "text": [
      "\n"
     ]
    },
    {
     "data": {
      "application/vnd.jupyter.widget-view+json": {
       "model_id": "44298fc736a44b48a918466d54b5f757",
       "version_major": 2,
       "version_minor": 0
      },
      "text/plain": [
       "HBox(children=(FloatProgress(value=0.0, max=1000.0), HTML(value='')))"
      ]
     },
     "metadata": {},
     "output_type": "display_data"
    },
    {
     "name": "stdout",
     "output_type": "stream",
     "text": [
      "\n"
     ]
    },
    {
     "data": {
      "application/vnd.jupyter.widget-view+json": {
       "model_id": "ce81a350d4464001a225f1c454556d9b",
       "version_major": 2,
       "version_minor": 0
      },
      "text/plain": [
       "HBox(children=(FloatProgress(value=0.0, max=1000.0), HTML(value='')))"
      ]
     },
     "metadata": {},
     "output_type": "display_data"
    },
    {
     "name": "stdout",
     "output_type": "stream",
     "text": [
      "\n"
     ]
    },
    {
     "data": {
      "application/vnd.jupyter.widget-view+json": {
       "model_id": "ac96119ba15c42c1b7f952996323860b",
       "version_major": 2,
       "version_minor": 0
      },
      "text/plain": [
       "HBox(children=(FloatProgress(value=0.0, max=1000.0), HTML(value='')))"
      ]
     },
     "metadata": {},
     "output_type": "display_data"
    },
    {
     "name": "stdout",
     "output_type": "stream",
     "text": [
      "\n"
     ]
    },
    {
     "data": {
      "application/vnd.jupyter.widget-view+json": {
       "model_id": "90d908db75164bf5aea8175a8f3b3b3c",
       "version_major": 2,
       "version_minor": 0
      },
      "text/plain": [
       "HBox(children=(FloatProgress(value=0.0, max=1000.0), HTML(value='')))"
      ]
     },
     "metadata": {},
     "output_type": "display_data"
    },
    {
     "name": "stdout",
     "output_type": "stream",
     "text": [
      "\n"
     ]
    },
    {
     "data": {
      "application/vnd.jupyter.widget-view+json": {
       "model_id": "697b72bf2b63498196e83b8c5280f750",
       "version_major": 2,
       "version_minor": 0
      },
      "text/plain": [
       "HBox(children=(FloatProgress(value=0.0, max=1000.0), HTML(value='')))"
      ]
     },
     "metadata": {},
     "output_type": "display_data"
    },
    {
     "name": "stdout",
     "output_type": "stream",
     "text": [
      "\n"
     ]
    },
    {
     "data": {
      "application/vnd.jupyter.widget-view+json": {
       "model_id": "d1ee456d4df0467689f7e49a50b94e2b",
       "version_major": 2,
       "version_minor": 0
      },
      "text/plain": [
       "HBox(children=(FloatProgress(value=0.0, max=1000.0), HTML(value='')))"
      ]
     },
     "metadata": {},
     "output_type": "display_data"
    },
    {
     "name": "stdout",
     "output_type": "stream",
     "text": [
      "\n"
     ]
    },
    {
     "data": {
      "application/vnd.jupyter.widget-view+json": {
       "model_id": "945c23f76f174f9cb48aa6cc3bc96c36",
       "version_major": 2,
       "version_minor": 0
      },
      "text/plain": [
       "HBox(children=(FloatProgress(value=0.0, max=1000.0), HTML(value='')))"
      ]
     },
     "metadata": {},
     "output_type": "display_data"
    },
    {
     "name": "stdout",
     "output_type": "stream",
     "text": [
      "\n"
     ]
    },
    {
     "data": {
      "application/vnd.jupyter.widget-view+json": {
       "model_id": "5d4b3b74e0f54a38b58a0e49e798d920",
       "version_major": 2,
       "version_minor": 0
      },
      "text/plain": [
       "HBox(children=(FloatProgress(value=0.0, max=1000.0), HTML(value='')))"
      ]
     },
     "metadata": {},
     "output_type": "display_data"
    },
    {
     "name": "stdout",
     "output_type": "stream",
     "text": [
      "\n"
     ]
    },
    {
     "data": {
      "application/vnd.jupyter.widget-view+json": {
       "model_id": "c5af7b801873467484369401ffbc1d20",
       "version_major": 2,
       "version_minor": 0
      },
      "text/plain": [
       "HBox(children=(FloatProgress(value=0.0, max=1000.0), HTML(value='')))"
      ]
     },
     "metadata": {},
     "output_type": "display_data"
    },
    {
     "name": "stdout",
     "output_type": "stream",
     "text": [
      "\n"
     ]
    },
    {
     "data": {
      "application/vnd.jupyter.widget-view+json": {
       "model_id": "ec1367842e1e4c6faafcd75a49f9c739",
       "version_major": 2,
       "version_minor": 0
      },
      "text/plain": [
       "HBox(children=(FloatProgress(value=0.0, max=1000.0), HTML(value='')))"
      ]
     },
     "metadata": {},
     "output_type": "display_data"
    },
    {
     "name": "stdout",
     "output_type": "stream",
     "text": [
      "\n"
     ]
    },
    {
     "data": {
      "application/vnd.jupyter.widget-view+json": {
       "model_id": "1013a9410d1845a39570e85d9e412e00",
       "version_major": 2,
       "version_minor": 0
      },
      "text/plain": [
       "HBox(children=(FloatProgress(value=0.0, max=1000.0), HTML(value='')))"
      ]
     },
     "metadata": {},
     "output_type": "display_data"
    },
    {
     "name": "stdout",
     "output_type": "stream",
     "text": [
      "\n"
     ]
    },
    {
     "data": {
      "application/vnd.jupyter.widget-view+json": {
       "model_id": "cfa5f218e0fd438aac91ed370ee8dd94",
       "version_major": 2,
       "version_minor": 0
      },
      "text/plain": [
       "HBox(children=(FloatProgress(value=0.0, max=1000.0), HTML(value='')))"
      ]
     },
     "metadata": {},
     "output_type": "display_data"
    },
    {
     "name": "stdout",
     "output_type": "stream",
     "text": [
      "\n"
     ]
    },
    {
     "data": {
      "application/vnd.jupyter.widget-view+json": {
       "model_id": "61da593b908c4d04a2cac8993fdb1e57",
       "version_major": 2,
       "version_minor": 0
      },
      "text/plain": [
       "HBox(children=(FloatProgress(value=0.0, max=9.0), HTML(value='')))"
      ]
     },
     "metadata": {},
     "output_type": "display_data"
    },
    {
     "name": "stdout",
     "output_type": "stream",
     "text": [
      "\n"
     ]
    },
    {
     "data": {
      "application/vnd.jupyter.widget-view+json": {
       "model_id": "160937719cc64675b6c113b61698878d",
       "version_major": 2,
       "version_minor": 0
      },
      "text/plain": [
       "HBox(children=(FloatProgress(value=0.0, max=9.0), HTML(value='')))"
      ]
     },
     "metadata": {},
     "output_type": "display_data"
    },
    {
     "name": "stdout",
     "output_type": "stream",
     "text": [
      "\n"
     ]
    },
    {
     "data": {
      "application/vnd.jupyter.widget-view+json": {
       "model_id": "fb7badbbc2fc4b7898b00e643d957bd3",
       "version_major": 2,
       "version_minor": 0
      },
      "text/plain": [
       "HBox(children=(FloatProgress(value=0.0, max=9.0), HTML(value='')))"
      ]
     },
     "metadata": {},
     "output_type": "display_data"
    },
    {
     "name": "stdout",
     "output_type": "stream",
     "text": [
      "\n"
     ]
    },
    {
     "data": {
      "application/vnd.jupyter.widget-view+json": {
       "model_id": "9b8390f21b7d45c2b0702d75368f7521",
       "version_major": 2,
       "version_minor": 0
      },
      "text/plain": [
       "HBox(children=(FloatProgress(value=0.0, max=1000.0), HTML(value='')))"
      ]
     },
     "metadata": {},
     "output_type": "display_data"
    },
    {
     "name": "stdout",
     "output_type": "stream",
     "text": [
      "\n"
     ]
    },
    {
     "data": {
      "application/vnd.jupyter.widget-view+json": {
       "model_id": "41a0ec8794584a1fa0338f1978627286",
       "version_major": 2,
       "version_minor": 0
      },
      "text/plain": [
       "HBox(children=(FloatProgress(value=0.0, max=1000.0), HTML(value='')))"
      ]
     },
     "metadata": {},
     "output_type": "display_data"
    },
    {
     "name": "stdout",
     "output_type": "stream",
     "text": [
      "\n"
     ]
    },
    {
     "data": {
      "application/vnd.jupyter.widget-view+json": {
       "model_id": "7460bc299d634edaa6c3e24bad74aa5b",
       "version_major": 2,
       "version_minor": 0
      },
      "text/plain": [
       "HBox(children=(FloatProgress(value=0.0, max=1000.0), HTML(value='')))"
      ]
     },
     "metadata": {},
     "output_type": "display_data"
    },
    {
     "name": "stdout",
     "output_type": "stream",
     "text": [
      "\n"
     ]
    },
    {
     "data": {
      "application/vnd.jupyter.widget-view+json": {
       "model_id": "41a64124fe024db6879a5966b6d548d3",
       "version_major": 2,
       "version_minor": 0
      },
      "text/plain": [
       "HBox(children=(FloatProgress(value=0.0, max=1000.0), HTML(value='')))"
      ]
     },
     "metadata": {},
     "output_type": "display_data"
    },
    {
     "name": "stdout",
     "output_type": "stream",
     "text": [
      "\n"
     ]
    },
    {
     "data": {
      "application/vnd.jupyter.widget-view+json": {
       "model_id": "2c4aefda53f94471a04d52aca54106d2",
       "version_major": 2,
       "version_minor": 0
      },
      "text/plain": [
       "HBox(children=(FloatProgress(value=0.0, max=1000.0), HTML(value='')))"
      ]
     },
     "metadata": {},
     "output_type": "display_data"
    },
    {
     "name": "stdout",
     "output_type": "stream",
     "text": [
      "\n"
     ]
    },
    {
     "data": {
      "application/vnd.jupyter.widget-view+json": {
       "model_id": "2390cd51b463426bb034ddf4782c0cd5",
       "version_major": 2,
       "version_minor": 0
      },
      "text/plain": [
       "HBox(children=(FloatProgress(value=0.0, max=1000.0), HTML(value='')))"
      ]
     },
     "metadata": {},
     "output_type": "display_data"
    },
    {
     "name": "stdout",
     "output_type": "stream",
     "text": [
      "\n"
     ]
    },
    {
     "data": {
      "application/vnd.jupyter.widget-view+json": {
       "model_id": "8dc2778e73394d15b348ba004acdaf52",
       "version_major": 2,
       "version_minor": 0
      },
      "text/plain": [
       "HBox(children=(FloatProgress(value=0.0, max=1000.0), HTML(value='')))"
      ]
     },
     "metadata": {},
     "output_type": "display_data"
    },
    {
     "name": "stdout",
     "output_type": "stream",
     "text": [
      "\n"
     ]
    },
    {
     "data": {
      "application/vnd.jupyter.widget-view+json": {
       "model_id": "c255171dec4042a9b3ac73478ecafc6c",
       "version_major": 2,
       "version_minor": 0
      },
      "text/plain": [
       "HBox(children=(FloatProgress(value=0.0, max=1000.0), HTML(value='')))"
      ]
     },
     "metadata": {},
     "output_type": "display_data"
    },
    {
     "name": "stdout",
     "output_type": "stream",
     "text": [
      "\n"
     ]
    },
    {
     "data": {
      "application/vnd.jupyter.widget-view+json": {
       "model_id": "b07fd1668a3a489b96d1a2cde825174c",
       "version_major": 2,
       "version_minor": 0
      },
      "text/plain": [
       "HBox(children=(FloatProgress(value=0.0, max=1000.0), HTML(value='')))"
      ]
     },
     "metadata": {},
     "output_type": "display_data"
    },
    {
     "name": "stdout",
     "output_type": "stream",
     "text": [
      "\n"
     ]
    },
    {
     "data": {
      "application/vnd.jupyter.widget-view+json": {
       "model_id": "c4605570b201406caa7b12b32c566920",
       "version_major": 2,
       "version_minor": 0
      },
      "text/plain": [
       "HBox(children=(FloatProgress(value=0.0, max=1000.0), HTML(value='')))"
      ]
     },
     "metadata": {},
     "output_type": "display_data"
    },
    {
     "name": "stdout",
     "output_type": "stream",
     "text": [
      "\n"
     ]
    },
    {
     "data": {
      "application/vnd.jupyter.widget-view+json": {
       "model_id": "5d87a896ee544b74b6eea0fa2eb109f5",
       "version_major": 2,
       "version_minor": 0
      },
      "text/plain": [
       "HBox(children=(FloatProgress(value=0.0, max=1000.0), HTML(value='')))"
      ]
     },
     "metadata": {},
     "output_type": "display_data"
    },
    {
     "name": "stdout",
     "output_type": "stream",
     "text": [
      "\n"
     ]
    },
    {
     "data": {
      "application/vnd.jupyter.widget-view+json": {
       "model_id": "9fc49bf5a51440699601d1bdd815b22f",
       "version_major": 2,
       "version_minor": 0
      },
      "text/plain": [
       "HBox(children=(FloatProgress(value=0.0, max=1000.0), HTML(value='')))"
      ]
     },
     "metadata": {},
     "output_type": "display_data"
    },
    {
     "name": "stdout",
     "output_type": "stream",
     "text": [
      "\n"
     ]
    },
    {
     "data": {
      "application/vnd.jupyter.widget-view+json": {
       "model_id": "5c674400e18a4ae9a14e6a7e3efe6a21",
       "version_major": 2,
       "version_minor": 0
      },
      "text/plain": [
       "HBox(children=(FloatProgress(value=0.0, max=1000.0), HTML(value='')))"
      ]
     },
     "metadata": {},
     "output_type": "display_data"
    },
    {
     "name": "stdout",
     "output_type": "stream",
     "text": [
      "\n"
     ]
    },
    {
     "data": {
      "application/vnd.jupyter.widget-view+json": {
       "model_id": "1a174b249aab4ba59c5ca4857c568d99",
       "version_major": 2,
       "version_minor": 0
      },
      "text/plain": [
       "HBox(children=(FloatProgress(value=0.0, max=1000.0), HTML(value='')))"
      ]
     },
     "metadata": {},
     "output_type": "display_data"
    },
    {
     "name": "stdout",
     "output_type": "stream",
     "text": [
      "\n"
     ]
    },
    {
     "data": {
      "application/vnd.jupyter.widget-view+json": {
       "model_id": "232c7374e8a44628886133723b2c777e",
       "version_major": 2,
       "version_minor": 0
      },
      "text/plain": [
       "HBox(children=(FloatProgress(value=0.0, max=1000.0), HTML(value='')))"
      ]
     },
     "metadata": {},
     "output_type": "display_data"
    },
    {
     "name": "stdout",
     "output_type": "stream",
     "text": [
      "\n"
     ]
    },
    {
     "data": {
      "application/vnd.jupyter.widget-view+json": {
       "model_id": "caac0095f9994633a06a0fd3196642b5",
       "version_major": 2,
       "version_minor": 0
      },
      "text/plain": [
       "HBox(children=(FloatProgress(value=0.0, max=1000.0), HTML(value='')))"
      ]
     },
     "metadata": {},
     "output_type": "display_data"
    },
    {
     "name": "stdout",
     "output_type": "stream",
     "text": [
      "\n"
     ]
    },
    {
     "data": {
      "application/vnd.jupyter.widget-view+json": {
       "model_id": "904907d6d325453e971c5e69dc0ccce3",
       "version_major": 2,
       "version_minor": 0
      },
      "text/plain": [
       "HBox(children=(FloatProgress(value=0.0, max=1000.0), HTML(value='')))"
      ]
     },
     "metadata": {},
     "output_type": "display_data"
    },
    {
     "name": "stdout",
     "output_type": "stream",
     "text": [
      "\n"
     ]
    },
    {
     "data": {
      "application/vnd.jupyter.widget-view+json": {
       "model_id": "ddec715708ca4434b9bdfd4ef9e2aa72",
       "version_major": 2,
       "version_minor": 0
      },
      "text/plain": [
       "HBox(children=(FloatProgress(value=0.0, max=1000.0), HTML(value='')))"
      ]
     },
     "metadata": {},
     "output_type": "display_data"
    },
    {
     "name": "stdout",
     "output_type": "stream",
     "text": [
      "\n"
     ]
    },
    {
     "data": {
      "application/vnd.jupyter.widget-view+json": {
       "model_id": "60c1f49b6b3e4cee8243bd2f05c17533",
       "version_major": 2,
       "version_minor": 0
      },
      "text/plain": [
       "HBox(children=(FloatProgress(value=0.0, max=9.0), HTML(value='')))"
      ]
     },
     "metadata": {},
     "output_type": "display_data"
    },
    {
     "name": "stdout",
     "output_type": "stream",
     "text": [
      "\n"
     ]
    },
    {
     "data": {
      "application/vnd.jupyter.widget-view+json": {
       "model_id": "a6cd60d88f3a428e9ef976aef0a51362",
       "version_major": 2,
       "version_minor": 0
      },
      "text/plain": [
       "HBox(children=(FloatProgress(value=0.0, max=9.0), HTML(value='')))"
      ]
     },
     "metadata": {},
     "output_type": "display_data"
    },
    {
     "name": "stdout",
     "output_type": "stream",
     "text": [
      "\n"
     ]
    },
    {
     "data": {
      "application/vnd.jupyter.widget-view+json": {
       "model_id": "58b17e2e26ca4094b095bb8a1dfa3ab4",
       "version_major": 2,
       "version_minor": 0
      },
      "text/plain": [
       "HBox(children=(FloatProgress(value=0.0, max=9.0), HTML(value='')))"
      ]
     },
     "metadata": {},
     "output_type": "display_data"
    },
    {
     "name": "stdout",
     "output_type": "stream",
     "text": [
      "\n"
     ]
    },
    {
     "data": {
      "application/vnd.jupyter.widget-view+json": {
       "model_id": "bc92e7665c2548d4bb88bb834a91a175",
       "version_major": 2,
       "version_minor": 0
      },
      "text/plain": [
       "HBox(children=(FloatProgress(value=0.0, max=1000.0), HTML(value='')))"
      ]
     },
     "metadata": {},
     "output_type": "display_data"
    },
    {
     "name": "stdout",
     "output_type": "stream",
     "text": [
      "\n"
     ]
    },
    {
     "data": {
      "application/vnd.jupyter.widget-view+json": {
       "model_id": "1f85fe39b8ce432d9f11d3c0c211dbe6",
       "version_major": 2,
       "version_minor": 0
      },
      "text/plain": [
       "HBox(children=(FloatProgress(value=0.0, max=1000.0), HTML(value='')))"
      ]
     },
     "metadata": {},
     "output_type": "display_data"
    },
    {
     "name": "stdout",
     "output_type": "stream",
     "text": [
      "\n"
     ]
    },
    {
     "data": {
      "application/vnd.jupyter.widget-view+json": {
       "model_id": "8010c6ae330e46b5be5317b200b8599e",
       "version_major": 2,
       "version_minor": 0
      },
      "text/plain": [
       "HBox(children=(FloatProgress(value=0.0, max=1000.0), HTML(value='')))"
      ]
     },
     "metadata": {},
     "output_type": "display_data"
    },
    {
     "name": "stdout",
     "output_type": "stream",
     "text": [
      "\n"
     ]
    },
    {
     "data": {
      "application/vnd.jupyter.widget-view+json": {
       "model_id": "ddf5d8068b434a75bde223e302b12a66",
       "version_major": 2,
       "version_minor": 0
      },
      "text/plain": [
       "HBox(children=(FloatProgress(value=0.0, max=1000.0), HTML(value='')))"
      ]
     },
     "metadata": {},
     "output_type": "display_data"
    },
    {
     "name": "stdout",
     "output_type": "stream",
     "text": [
      "\n"
     ]
    },
    {
     "data": {
      "application/vnd.jupyter.widget-view+json": {
       "model_id": "d9c5addfb9de435d8ee52ac1ca2cdcf2",
       "version_major": 2,
       "version_minor": 0
      },
      "text/plain": [
       "HBox(children=(FloatProgress(value=0.0, max=1000.0), HTML(value='')))"
      ]
     },
     "metadata": {},
     "output_type": "display_data"
    },
    {
     "name": "stdout",
     "output_type": "stream",
     "text": [
      "\n"
     ]
    },
    {
     "data": {
      "application/vnd.jupyter.widget-view+json": {
       "model_id": "4e6111ca88064490abcf8cc694bcf58e",
       "version_major": 2,
       "version_minor": 0
      },
      "text/plain": [
       "HBox(children=(FloatProgress(value=0.0, max=1000.0), HTML(value='')))"
      ]
     },
     "metadata": {},
     "output_type": "display_data"
    },
    {
     "name": "stdout",
     "output_type": "stream",
     "text": [
      "\n"
     ]
    },
    {
     "data": {
      "application/vnd.jupyter.widget-view+json": {
       "model_id": "b88920fb42664661a52b789346da36fe",
       "version_major": 2,
       "version_minor": 0
      },
      "text/plain": [
       "HBox(children=(FloatProgress(value=0.0, max=1000.0), HTML(value='')))"
      ]
     },
     "metadata": {},
     "output_type": "display_data"
    },
    {
     "name": "stdout",
     "output_type": "stream",
     "text": [
      "\n"
     ]
    },
    {
     "data": {
      "application/vnd.jupyter.widget-view+json": {
       "model_id": "6b817783756441769c37d31bd2cd143f",
       "version_major": 2,
       "version_minor": 0
      },
      "text/plain": [
       "HBox(children=(FloatProgress(value=0.0, max=1000.0), HTML(value='')))"
      ]
     },
     "metadata": {},
     "output_type": "display_data"
    },
    {
     "name": "stdout",
     "output_type": "stream",
     "text": [
      "\n"
     ]
    },
    {
     "data": {
      "application/vnd.jupyter.widget-view+json": {
       "model_id": "d4449a0ffa87499e8baafe0c02119214",
       "version_major": 2,
       "version_minor": 0
      },
      "text/plain": [
       "HBox(children=(FloatProgress(value=0.0, max=1000.0), HTML(value='')))"
      ]
     },
     "metadata": {},
     "output_type": "display_data"
    },
    {
     "name": "stdout",
     "output_type": "stream",
     "text": [
      "\n"
     ]
    },
    {
     "data": {
      "application/vnd.jupyter.widget-view+json": {
       "model_id": "d08165099d474ea2b081d49bee4fc3b5",
       "version_major": 2,
       "version_minor": 0
      },
      "text/plain": [
       "HBox(children=(FloatProgress(value=0.0, max=1000.0), HTML(value='')))"
      ]
     },
     "metadata": {},
     "output_type": "display_data"
    },
    {
     "name": "stdout",
     "output_type": "stream",
     "text": [
      "\n"
     ]
    },
    {
     "data": {
      "application/vnd.jupyter.widget-view+json": {
       "model_id": "1305181a0d3949a8a504fc86a44cf2d8",
       "version_major": 2,
       "version_minor": 0
      },
      "text/plain": [
       "HBox(children=(FloatProgress(value=0.0, max=1000.0), HTML(value='')))"
      ]
     },
     "metadata": {},
     "output_type": "display_data"
    },
    {
     "name": "stdout",
     "output_type": "stream",
     "text": [
      "\n"
     ]
    },
    {
     "data": {
      "application/vnd.jupyter.widget-view+json": {
       "model_id": "5c3b7568c2c24e6f991d76de6b561cd6",
       "version_major": 2,
       "version_minor": 0
      },
      "text/plain": [
       "HBox(children=(FloatProgress(value=0.0, max=1000.0), HTML(value='')))"
      ]
     },
     "metadata": {},
     "output_type": "display_data"
    },
    {
     "name": "stdout",
     "output_type": "stream",
     "text": [
      "\n"
     ]
    },
    {
     "data": {
      "application/vnd.jupyter.widget-view+json": {
       "model_id": "decfd3326d6f42aa9fbb5cb4d03504e8",
       "version_major": 2,
       "version_minor": 0
      },
      "text/plain": [
       "HBox(children=(FloatProgress(value=0.0, max=1000.0), HTML(value='')))"
      ]
     },
     "metadata": {},
     "output_type": "display_data"
    },
    {
     "name": "stdout",
     "output_type": "stream",
     "text": [
      "\n"
     ]
    },
    {
     "data": {
      "application/vnd.jupyter.widget-view+json": {
       "model_id": "a5b2e9caf0744c7c9fa1fe74f63efcd3",
       "version_major": 2,
       "version_minor": 0
      },
      "text/plain": [
       "HBox(children=(FloatProgress(value=0.0, max=1000.0), HTML(value='')))"
      ]
     },
     "metadata": {},
     "output_type": "display_data"
    },
    {
     "name": "stdout",
     "output_type": "stream",
     "text": [
      "\n"
     ]
    },
    {
     "data": {
      "application/vnd.jupyter.widget-view+json": {
       "model_id": "541531a59f1c47baba6d477fb32b3d53",
       "version_major": 2,
       "version_minor": 0
      },
      "text/plain": [
       "HBox(children=(FloatProgress(value=0.0, max=1000.0), HTML(value='')))"
      ]
     },
     "metadata": {},
     "output_type": "display_data"
    },
    {
     "name": "stdout",
     "output_type": "stream",
     "text": [
      "\n"
     ]
    },
    {
     "data": {
      "application/vnd.jupyter.widget-view+json": {
       "model_id": "0594edd7a2d44b2bb31beaa68ab9d923",
       "version_major": 2,
       "version_minor": 0
      },
      "text/plain": [
       "HBox(children=(FloatProgress(value=0.0, max=1000.0), HTML(value='')))"
      ]
     },
     "metadata": {},
     "output_type": "display_data"
    },
    {
     "name": "stdout",
     "output_type": "stream",
     "text": [
      "\n"
     ]
    },
    {
     "data": {
      "application/vnd.jupyter.widget-view+json": {
       "model_id": "5a2c9619b94942c9b2eed4671a379ae3",
       "version_major": 2,
       "version_minor": 0
      },
      "text/plain": [
       "HBox(children=(FloatProgress(value=0.0, max=1000.0), HTML(value='')))"
      ]
     },
     "metadata": {},
     "output_type": "display_data"
    },
    {
     "name": "stdout",
     "output_type": "stream",
     "text": [
      "\n"
     ]
    },
    {
     "data": {
      "application/vnd.jupyter.widget-view+json": {
       "model_id": "202c118c07c64317a6067b7896a63778",
       "version_major": 2,
       "version_minor": 0
      },
      "text/plain": [
       "HBox(children=(FloatProgress(value=0.0, max=1000.0), HTML(value='')))"
      ]
     },
     "metadata": {},
     "output_type": "display_data"
    },
    {
     "name": "stdout",
     "output_type": "stream",
     "text": [
      "\n"
     ]
    },
    {
     "data": {
      "application/vnd.jupyter.widget-view+json": {
       "model_id": "7f9bb6be11014e05a11d942c47e3392a",
       "version_major": 2,
       "version_minor": 0
      },
      "text/plain": [
       "HBox(children=(FloatProgress(value=0.0, max=9.0), HTML(value='')))"
      ]
     },
     "metadata": {},
     "output_type": "display_data"
    },
    {
     "name": "stdout",
     "output_type": "stream",
     "text": [
      "\n"
     ]
    },
    {
     "data": {
      "application/vnd.jupyter.widget-view+json": {
       "model_id": "e181257176d04760baa26bbb95d74318",
       "version_major": 2,
       "version_minor": 0
      },
      "text/plain": [
       "HBox(children=(FloatProgress(value=0.0, max=9.0), HTML(value='')))"
      ]
     },
     "metadata": {},
     "output_type": "display_data"
    },
    {
     "name": "stdout",
     "output_type": "stream",
     "text": [
      "\n"
     ]
    },
    {
     "data": {
      "application/vnd.jupyter.widget-view+json": {
       "model_id": "c3c2674fd07d4cada2c0bee85b4f1bd3",
       "version_major": 2,
       "version_minor": 0
      },
      "text/plain": [
       "HBox(children=(FloatProgress(value=0.0, max=9.0), HTML(value='')))"
      ]
     },
     "metadata": {},
     "output_type": "display_data"
    },
    {
     "name": "stdout",
     "output_type": "stream",
     "text": [
      "\n"
     ]
    },
    {
     "data": {
      "application/vnd.jupyter.widget-view+json": {
       "model_id": "d1bc8152877a407b91dcbecb3b82fed6",
       "version_major": 2,
       "version_minor": 0
      },
      "text/plain": [
       "HBox(children=(FloatProgress(value=0.0, max=1000.0), HTML(value='')))"
      ]
     },
     "metadata": {},
     "output_type": "display_data"
    },
    {
     "name": "stdout",
     "output_type": "stream",
     "text": [
      "\n"
     ]
    },
    {
     "data": {
      "application/vnd.jupyter.widget-view+json": {
       "model_id": "cd7f4099040d423e99b33113194d0b40",
       "version_major": 2,
       "version_minor": 0
      },
      "text/plain": [
       "HBox(children=(FloatProgress(value=0.0, max=1000.0), HTML(value='')))"
      ]
     },
     "metadata": {},
     "output_type": "display_data"
    },
    {
     "name": "stdout",
     "output_type": "stream",
     "text": [
      "\n"
     ]
    },
    {
     "data": {
      "application/vnd.jupyter.widget-view+json": {
       "model_id": "04430eae03964d059a4010c93ffe55c8",
       "version_major": 2,
       "version_minor": 0
      },
      "text/plain": [
       "HBox(children=(FloatProgress(value=0.0, max=1000.0), HTML(value='')))"
      ]
     },
     "metadata": {},
     "output_type": "display_data"
    },
    {
     "name": "stdout",
     "output_type": "stream",
     "text": [
      "\n"
     ]
    },
    {
     "data": {
      "application/vnd.jupyter.widget-view+json": {
       "model_id": "c422ff38934a4f4ea42b77b395126dba",
       "version_major": 2,
       "version_minor": 0
      },
      "text/plain": [
       "HBox(children=(FloatProgress(value=0.0, max=1000.0), HTML(value='')))"
      ]
     },
     "metadata": {},
     "output_type": "display_data"
    },
    {
     "name": "stdout",
     "output_type": "stream",
     "text": [
      "\n"
     ]
    },
    {
     "data": {
      "application/vnd.jupyter.widget-view+json": {
       "model_id": "f0fc905dc452471d8a69a6fbfa179fb6",
       "version_major": 2,
       "version_minor": 0
      },
      "text/plain": [
       "HBox(children=(FloatProgress(value=0.0, max=1000.0), HTML(value='')))"
      ]
     },
     "metadata": {},
     "output_type": "display_data"
    },
    {
     "name": "stdout",
     "output_type": "stream",
     "text": [
      "\n"
     ]
    },
    {
     "data": {
      "application/vnd.jupyter.widget-view+json": {
       "model_id": "dcdf379ec7a34e6eb1bb36ca0d22135e",
       "version_major": 2,
       "version_minor": 0
      },
      "text/plain": [
       "HBox(children=(FloatProgress(value=0.0, max=1000.0), HTML(value='')))"
      ]
     },
     "metadata": {},
     "output_type": "display_data"
    },
    {
     "name": "stdout",
     "output_type": "stream",
     "text": [
      "\n"
     ]
    },
    {
     "data": {
      "application/vnd.jupyter.widget-view+json": {
       "model_id": "72f046006c514981b32e5d828f281d9e",
       "version_major": 2,
       "version_minor": 0
      },
      "text/plain": [
       "HBox(children=(FloatProgress(value=0.0, max=1000.0), HTML(value='')))"
      ]
     },
     "metadata": {},
     "output_type": "display_data"
    },
    {
     "name": "stdout",
     "output_type": "stream",
     "text": [
      "\n"
     ]
    },
    {
     "data": {
      "application/vnd.jupyter.widget-view+json": {
       "model_id": "46d4de15ebb5474897534acc079ddd8b",
       "version_major": 2,
       "version_minor": 0
      },
      "text/plain": [
       "HBox(children=(FloatProgress(value=0.0, max=1000.0), HTML(value='')))"
      ]
     },
     "metadata": {},
     "output_type": "display_data"
    },
    {
     "name": "stdout",
     "output_type": "stream",
     "text": [
      "\n"
     ]
    },
    {
     "data": {
      "application/vnd.jupyter.widget-view+json": {
       "model_id": "08ee2c70c9514f6da4beec5afab75eea",
       "version_major": 2,
       "version_minor": 0
      },
      "text/plain": [
       "HBox(children=(FloatProgress(value=0.0, max=1000.0), HTML(value='')))"
      ]
     },
     "metadata": {},
     "output_type": "display_data"
    },
    {
     "name": "stdout",
     "output_type": "stream",
     "text": [
      "\n"
     ]
    },
    {
     "data": {
      "application/vnd.jupyter.widget-view+json": {
       "model_id": "9889af94c9d843fe888367f318907540",
       "version_major": 2,
       "version_minor": 0
      },
      "text/plain": [
       "HBox(children=(FloatProgress(value=0.0, max=1000.0), HTML(value='')))"
      ]
     },
     "metadata": {},
     "output_type": "display_data"
    },
    {
     "name": "stdout",
     "output_type": "stream",
     "text": [
      "\n"
     ]
    },
    {
     "data": {
      "application/vnd.jupyter.widget-view+json": {
       "model_id": "f4f309a726f24254874349597c3203b6",
       "version_major": 2,
       "version_minor": 0
      },
      "text/plain": [
       "HBox(children=(FloatProgress(value=0.0, max=1000.0), HTML(value='')))"
      ]
     },
     "metadata": {},
     "output_type": "display_data"
    },
    {
     "name": "stdout",
     "output_type": "stream",
     "text": [
      "\n"
     ]
    },
    {
     "data": {
      "application/vnd.jupyter.widget-view+json": {
       "model_id": "697363d46b464aef8a8fce1bf04105d9",
       "version_major": 2,
       "version_minor": 0
      },
      "text/plain": [
       "HBox(children=(FloatProgress(value=0.0, max=1000.0), HTML(value='')))"
      ]
     },
     "metadata": {},
     "output_type": "display_data"
    },
    {
     "name": "stdout",
     "output_type": "stream",
     "text": [
      "\n"
     ]
    },
    {
     "data": {
      "application/vnd.jupyter.widget-view+json": {
       "model_id": "b270473aebb241ed8502407377aeccb6",
       "version_major": 2,
       "version_minor": 0
      },
      "text/plain": [
       "HBox(children=(FloatProgress(value=0.0, max=1000.0), HTML(value='')))"
      ]
     },
     "metadata": {},
     "output_type": "display_data"
    },
    {
     "name": "stdout",
     "output_type": "stream",
     "text": [
      "\n"
     ]
    },
    {
     "data": {
      "application/vnd.jupyter.widget-view+json": {
       "model_id": "6b768a4b7afb49f39d58227b942ab667",
       "version_major": 2,
       "version_minor": 0
      },
      "text/plain": [
       "HBox(children=(FloatProgress(value=0.0, max=1000.0), HTML(value='')))"
      ]
     },
     "metadata": {},
     "output_type": "display_data"
    },
    {
     "name": "stdout",
     "output_type": "stream",
     "text": [
      "\n"
     ]
    },
    {
     "data": {
      "application/vnd.jupyter.widget-view+json": {
       "model_id": "21152014a08846728f2ce3866d7b80d9",
       "version_major": 2,
       "version_minor": 0
      },
      "text/plain": [
       "HBox(children=(FloatProgress(value=0.0, max=1000.0), HTML(value='')))"
      ]
     },
     "metadata": {},
     "output_type": "display_data"
    },
    {
     "name": "stdout",
     "output_type": "stream",
     "text": [
      "\n"
     ]
    },
    {
     "data": {
      "application/vnd.jupyter.widget-view+json": {
       "model_id": "3ea5b20d2f904dc685dfffa151322a7a",
       "version_major": 2,
       "version_minor": 0
      },
      "text/plain": [
       "HBox(children=(FloatProgress(value=0.0, max=1000.0), HTML(value='')))"
      ]
     },
     "metadata": {},
     "output_type": "display_data"
    },
    {
     "name": "stdout",
     "output_type": "stream",
     "text": [
      "\n"
     ]
    },
    {
     "data": {
      "application/vnd.jupyter.widget-view+json": {
       "model_id": "a877e77a15eb4971a52403787f2434eb",
       "version_major": 2,
       "version_minor": 0
      },
      "text/plain": [
       "HBox(children=(FloatProgress(value=0.0, max=1000.0), HTML(value='')))"
      ]
     },
     "metadata": {},
     "output_type": "display_data"
    },
    {
     "name": "stdout",
     "output_type": "stream",
     "text": [
      "\n"
     ]
    },
    {
     "data": {
      "application/vnd.jupyter.widget-view+json": {
       "model_id": "4291d44cc5e647fba4f87412b57f3d53",
       "version_major": 2,
       "version_minor": 0
      },
      "text/plain": [
       "HBox(children=(FloatProgress(value=0.0, max=1000.0), HTML(value='')))"
      ]
     },
     "metadata": {},
     "output_type": "display_data"
    },
    {
     "name": "stdout",
     "output_type": "stream",
     "text": [
      "\n"
     ]
    },
    {
     "data": {
      "application/vnd.jupyter.widget-view+json": {
       "model_id": "dbc31dbe4ed84afd9dd3456551231ffe",
       "version_major": 2,
       "version_minor": 0
      },
      "text/plain": [
       "HBox(children=(FloatProgress(value=0.0, max=9.0), HTML(value='')))"
      ]
     },
     "metadata": {},
     "output_type": "display_data"
    },
    {
     "name": "stdout",
     "output_type": "stream",
     "text": [
      "\n"
     ]
    },
    {
     "data": {
      "application/vnd.jupyter.widget-view+json": {
       "model_id": "81694d1fdb294d05bf08d34385508c4b",
       "version_major": 2,
       "version_minor": 0
      },
      "text/plain": [
       "HBox(children=(FloatProgress(value=0.0, max=9.0), HTML(value='')))"
      ]
     },
     "metadata": {},
     "output_type": "display_data"
    },
    {
     "name": "stdout",
     "output_type": "stream",
     "text": [
      "\n"
     ]
    },
    {
     "data": {
      "application/vnd.jupyter.widget-view+json": {
       "model_id": "e3d5aae62481434f94d1375360dd32ff",
       "version_major": 2,
       "version_minor": 0
      },
      "text/plain": [
       "HBox(children=(FloatProgress(value=0.0, max=9.0), HTML(value='')))"
      ]
     },
     "metadata": {},
     "output_type": "display_data"
    },
    {
     "name": "stdout",
     "output_type": "stream",
     "text": [
      "\n"
     ]
    },
    {
     "data": {
      "application/vnd.jupyter.widget-view+json": {
       "model_id": "a13f22bfdb0143b2a3cd224206e65e09",
       "version_major": 2,
       "version_minor": 0
      },
      "text/plain": [
       "HBox(children=(FloatProgress(value=0.0, max=1000.0), HTML(value='')))"
      ]
     },
     "metadata": {},
     "output_type": "display_data"
    },
    {
     "name": "stdout",
     "output_type": "stream",
     "text": [
      "\n"
     ]
    },
    {
     "data": {
      "application/vnd.jupyter.widget-view+json": {
       "model_id": "72e71e1dabf648a79e67a9c8a960b88c",
       "version_major": 2,
       "version_minor": 0
      },
      "text/plain": [
       "HBox(children=(FloatProgress(value=0.0, max=1000.0), HTML(value='')))"
      ]
     },
     "metadata": {},
     "output_type": "display_data"
    },
    {
     "name": "stdout",
     "output_type": "stream",
     "text": [
      "\n"
     ]
    },
    {
     "data": {
      "application/vnd.jupyter.widget-view+json": {
       "model_id": "717539ed68574d3fa8b6d3aa4c13f01e",
       "version_major": 2,
       "version_minor": 0
      },
      "text/plain": [
       "HBox(children=(FloatProgress(value=0.0, max=1000.0), HTML(value='')))"
      ]
     },
     "metadata": {},
     "output_type": "display_data"
    },
    {
     "name": "stdout",
     "output_type": "stream",
     "text": [
      "\n"
     ]
    },
    {
     "data": {
      "application/vnd.jupyter.widget-view+json": {
       "model_id": "f691d66773764a91b2dfb9939dd7d317",
       "version_major": 2,
       "version_minor": 0
      },
      "text/plain": [
       "HBox(children=(FloatProgress(value=0.0, max=1000.0), HTML(value='')))"
      ]
     },
     "metadata": {},
     "output_type": "display_data"
    },
    {
     "name": "stdout",
     "output_type": "stream",
     "text": [
      "\n"
     ]
    },
    {
     "data": {
      "application/vnd.jupyter.widget-view+json": {
       "model_id": "2c9246f575d049f1937e18c02981b8c0",
       "version_major": 2,
       "version_minor": 0
      },
      "text/plain": [
       "HBox(children=(FloatProgress(value=0.0, max=1000.0), HTML(value='')))"
      ]
     },
     "metadata": {},
     "output_type": "display_data"
    },
    {
     "name": "stdout",
     "output_type": "stream",
     "text": [
      "\n"
     ]
    },
    {
     "data": {
      "application/vnd.jupyter.widget-view+json": {
       "model_id": "6998046e57bd43278aea8036b7335418",
       "version_major": 2,
       "version_minor": 0
      },
      "text/plain": [
       "HBox(children=(FloatProgress(value=0.0, max=1000.0), HTML(value='')))"
      ]
     },
     "metadata": {},
     "output_type": "display_data"
    },
    {
     "name": "stdout",
     "output_type": "stream",
     "text": [
      "\n"
     ]
    },
    {
     "data": {
      "application/vnd.jupyter.widget-view+json": {
       "model_id": "f830f7f1ea5e462db4c6c89a26df8db2",
       "version_major": 2,
       "version_minor": 0
      },
      "text/plain": [
       "HBox(children=(FloatProgress(value=0.0, max=1000.0), HTML(value='')))"
      ]
     },
     "metadata": {},
     "output_type": "display_data"
    },
    {
     "name": "stdout",
     "output_type": "stream",
     "text": [
      "\n"
     ]
    },
    {
     "data": {
      "application/vnd.jupyter.widget-view+json": {
       "model_id": "9bc78541162e48b39224451b94515359",
       "version_major": 2,
       "version_minor": 0
      },
      "text/plain": [
       "HBox(children=(FloatProgress(value=0.0, max=1000.0), HTML(value='')))"
      ]
     },
     "metadata": {},
     "output_type": "display_data"
    },
    {
     "name": "stdout",
     "output_type": "stream",
     "text": [
      "\n"
     ]
    },
    {
     "data": {
      "application/vnd.jupyter.widget-view+json": {
       "model_id": "a6649586293047b398907930cdd061b7",
       "version_major": 2,
       "version_minor": 0
      },
      "text/plain": [
       "HBox(children=(FloatProgress(value=0.0, max=1000.0), HTML(value='')))"
      ]
     },
     "metadata": {},
     "output_type": "display_data"
    },
    {
     "name": "stdout",
     "output_type": "stream",
     "text": [
      "\n"
     ]
    },
    {
     "data": {
      "application/vnd.jupyter.widget-view+json": {
       "model_id": "496e8a004738456e845cd427578fb71f",
       "version_major": 2,
       "version_minor": 0
      },
      "text/plain": [
       "HBox(children=(FloatProgress(value=0.0, max=1000.0), HTML(value='')))"
      ]
     },
     "metadata": {},
     "output_type": "display_data"
    },
    {
     "name": "stdout",
     "output_type": "stream",
     "text": [
      "\n"
     ]
    },
    {
     "data": {
      "application/vnd.jupyter.widget-view+json": {
       "model_id": "cda58ce174924ba6b15641318867d866",
       "version_major": 2,
       "version_minor": 0
      },
      "text/plain": [
       "HBox(children=(FloatProgress(value=0.0, max=1000.0), HTML(value='')))"
      ]
     },
     "metadata": {},
     "output_type": "display_data"
    },
    {
     "name": "stdout",
     "output_type": "stream",
     "text": [
      "\n"
     ]
    },
    {
     "data": {
      "application/vnd.jupyter.widget-view+json": {
       "model_id": "cfbf922d9b644eacbb7cf55a371c9e88",
       "version_major": 2,
       "version_minor": 0
      },
      "text/plain": [
       "HBox(children=(FloatProgress(value=0.0, max=1000.0), HTML(value='')))"
      ]
     },
     "metadata": {},
     "output_type": "display_data"
    },
    {
     "name": "stdout",
     "output_type": "stream",
     "text": [
      "\n"
     ]
    },
    {
     "data": {
      "application/vnd.jupyter.widget-view+json": {
       "model_id": "77cc2673762e40c6bf9b1f05ce0c2795",
       "version_major": 2,
       "version_minor": 0
      },
      "text/plain": [
       "HBox(children=(FloatProgress(value=0.0, max=1000.0), HTML(value='')))"
      ]
     },
     "metadata": {},
     "output_type": "display_data"
    },
    {
     "name": "stdout",
     "output_type": "stream",
     "text": [
      "\n"
     ]
    },
    {
     "data": {
      "application/vnd.jupyter.widget-view+json": {
       "model_id": "151bc431acce4fdc81201bf11e4419df",
       "version_major": 2,
       "version_minor": 0
      },
      "text/plain": [
       "HBox(children=(FloatProgress(value=0.0, max=1000.0), HTML(value='')))"
      ]
     },
     "metadata": {},
     "output_type": "display_data"
    },
    {
     "name": "stdout",
     "output_type": "stream",
     "text": [
      "\n"
     ]
    },
    {
     "data": {
      "application/vnd.jupyter.widget-view+json": {
       "model_id": "e7fc7a47212f4606a7a92415196a5182",
       "version_major": 2,
       "version_minor": 0
      },
      "text/plain": [
       "HBox(children=(FloatProgress(value=0.0, max=1000.0), HTML(value='')))"
      ]
     },
     "metadata": {},
     "output_type": "display_data"
    },
    {
     "name": "stdout",
     "output_type": "stream",
     "text": [
      "\n"
     ]
    },
    {
     "data": {
      "application/vnd.jupyter.widget-view+json": {
       "model_id": "1e0ede974a00445f9e32de05acfc6a69",
       "version_major": 2,
       "version_minor": 0
      },
      "text/plain": [
       "HBox(children=(FloatProgress(value=0.0, max=1000.0), HTML(value='')))"
      ]
     },
     "metadata": {},
     "output_type": "display_data"
    },
    {
     "name": "stdout",
     "output_type": "stream",
     "text": [
      "\n"
     ]
    },
    {
     "data": {
      "application/vnd.jupyter.widget-view+json": {
       "model_id": "f00e1dc0d68f4602aebf41c61e5ea6ba",
       "version_major": 2,
       "version_minor": 0
      },
      "text/plain": [
       "HBox(children=(FloatProgress(value=0.0, max=1000.0), HTML(value='')))"
      ]
     },
     "metadata": {},
     "output_type": "display_data"
    },
    {
     "name": "stdout",
     "output_type": "stream",
     "text": [
      "\n"
     ]
    },
    {
     "data": {
      "application/vnd.jupyter.widget-view+json": {
       "model_id": "e3800e901ea844f7ad61c1283f92183d",
       "version_major": 2,
       "version_minor": 0
      },
      "text/plain": [
       "HBox(children=(FloatProgress(value=0.0, max=1000.0), HTML(value='')))"
      ]
     },
     "metadata": {},
     "output_type": "display_data"
    },
    {
     "name": "stdout",
     "output_type": "stream",
     "text": [
      "\n"
     ]
    },
    {
     "data": {
      "application/vnd.jupyter.widget-view+json": {
       "model_id": "43bbf045f69d4a688e5286057429dbae",
       "version_major": 2,
       "version_minor": 0
      },
      "text/plain": [
       "HBox(children=(FloatProgress(value=0.0, max=9.0), HTML(value='')))"
      ]
     },
     "metadata": {},
     "output_type": "display_data"
    },
    {
     "name": "stdout",
     "output_type": "stream",
     "text": [
      "\n"
     ]
    },
    {
     "data": {
      "application/vnd.jupyter.widget-view+json": {
       "model_id": "dc56bb2252484c27884a632a2afee1b7",
       "version_major": 2,
       "version_minor": 0
      },
      "text/plain": [
       "HBox(children=(FloatProgress(value=0.0, max=9.0), HTML(value='')))"
      ]
     },
     "metadata": {},
     "output_type": "display_data"
    },
    {
     "name": "stdout",
     "output_type": "stream",
     "text": [
      "\n"
     ]
    },
    {
     "data": {
      "application/vnd.jupyter.widget-view+json": {
       "model_id": "18655e5f9f5a4022a8701d5fd7063e96",
       "version_major": 2,
       "version_minor": 0
      },
      "text/plain": [
       "HBox(children=(FloatProgress(value=0.0, max=9.0), HTML(value='')))"
      ]
     },
     "metadata": {},
     "output_type": "display_data"
    },
    {
     "name": "stdout",
     "output_type": "stream",
     "text": [
      "\n"
     ]
    },
    {
     "data": {
      "application/vnd.jupyter.widget-view+json": {
       "model_id": "7b979c3c2ddc4a4e9f0380a1f2222bff",
       "version_major": 2,
       "version_minor": 0
      },
      "text/plain": [
       "HBox(children=(FloatProgress(value=0.0, max=1000.0), HTML(value='')))"
      ]
     },
     "metadata": {},
     "output_type": "display_data"
    },
    {
     "name": "stdout",
     "output_type": "stream",
     "text": [
      "\n"
     ]
    },
    {
     "data": {
      "application/vnd.jupyter.widget-view+json": {
       "model_id": "98e98b1caf934508824645fdca517f14",
       "version_major": 2,
       "version_minor": 0
      },
      "text/plain": [
       "HBox(children=(FloatProgress(value=0.0, max=1000.0), HTML(value='')))"
      ]
     },
     "metadata": {},
     "output_type": "display_data"
    },
    {
     "name": "stdout",
     "output_type": "stream",
     "text": [
      "\n"
     ]
    },
    {
     "data": {
      "application/vnd.jupyter.widget-view+json": {
       "model_id": "610fa44488f44fe087b1ff4f501a9b26",
       "version_major": 2,
       "version_minor": 0
      },
      "text/plain": [
       "HBox(children=(FloatProgress(value=0.0, max=1000.0), HTML(value='')))"
      ]
     },
     "metadata": {},
     "output_type": "display_data"
    },
    {
     "name": "stdout",
     "output_type": "stream",
     "text": [
      "\n"
     ]
    },
    {
     "data": {
      "application/vnd.jupyter.widget-view+json": {
       "model_id": "83712871f7874a74928ca1813be5ad7d",
       "version_major": 2,
       "version_minor": 0
      },
      "text/plain": [
       "HBox(children=(FloatProgress(value=0.0, max=1000.0), HTML(value='')))"
      ]
     },
     "metadata": {},
     "output_type": "display_data"
    },
    {
     "name": "stdout",
     "output_type": "stream",
     "text": [
      "\n"
     ]
    },
    {
     "data": {
      "application/vnd.jupyter.widget-view+json": {
       "model_id": "fa90f433015e41559789fc1cef5eeed9",
       "version_major": 2,
       "version_minor": 0
      },
      "text/plain": [
       "HBox(children=(FloatProgress(value=0.0, max=1000.0), HTML(value='')))"
      ]
     },
     "metadata": {},
     "output_type": "display_data"
    },
    {
     "name": "stdout",
     "output_type": "stream",
     "text": [
      "\n"
     ]
    },
    {
     "data": {
      "application/vnd.jupyter.widget-view+json": {
       "model_id": "f0f917c66d2a4f97a5f9e92e6de7ef2f",
       "version_major": 2,
       "version_minor": 0
      },
      "text/plain": [
       "HBox(children=(FloatProgress(value=0.0, max=1000.0), HTML(value='')))"
      ]
     },
     "metadata": {},
     "output_type": "display_data"
    },
    {
     "name": "stdout",
     "output_type": "stream",
     "text": [
      "\n"
     ]
    },
    {
     "data": {
      "application/vnd.jupyter.widget-view+json": {
       "model_id": "280a8d2ff3c047f79307fbca6892a34c",
       "version_major": 2,
       "version_minor": 0
      },
      "text/plain": [
       "HBox(children=(FloatProgress(value=0.0, max=1000.0), HTML(value='')))"
      ]
     },
     "metadata": {},
     "output_type": "display_data"
    },
    {
     "name": "stdout",
     "output_type": "stream",
     "text": [
      "\n"
     ]
    },
    {
     "data": {
      "application/vnd.jupyter.widget-view+json": {
       "model_id": "ba9ce87ce213481092bbc51aedd9767a",
       "version_major": 2,
       "version_minor": 0
      },
      "text/plain": [
       "HBox(children=(FloatProgress(value=0.0, max=1000.0), HTML(value='')))"
      ]
     },
     "metadata": {},
     "output_type": "display_data"
    },
    {
     "name": "stdout",
     "output_type": "stream",
     "text": [
      "\n"
     ]
    },
    {
     "data": {
      "application/vnd.jupyter.widget-view+json": {
       "model_id": "599e687e34ff4cf1a5c32d7bb064f72e",
       "version_major": 2,
       "version_minor": 0
      },
      "text/plain": [
       "HBox(children=(FloatProgress(value=0.0, max=1000.0), HTML(value='')))"
      ]
     },
     "metadata": {},
     "output_type": "display_data"
    },
    {
     "name": "stdout",
     "output_type": "stream",
     "text": [
      "\n"
     ]
    },
    {
     "data": {
      "application/vnd.jupyter.widget-view+json": {
       "model_id": "6784402f70da488eaaa65d9fb27a394f",
       "version_major": 2,
       "version_minor": 0
      },
      "text/plain": [
       "HBox(children=(FloatProgress(value=0.0, max=1000.0), HTML(value='')))"
      ]
     },
     "metadata": {},
     "output_type": "display_data"
    },
    {
     "name": "stdout",
     "output_type": "stream",
     "text": [
      "\n"
     ]
    },
    {
     "data": {
      "application/vnd.jupyter.widget-view+json": {
       "model_id": "47d2abeede104b3196ccb7e77d8b118c",
       "version_major": 2,
       "version_minor": 0
      },
      "text/plain": [
       "HBox(children=(FloatProgress(value=0.0, max=1000.0), HTML(value='')))"
      ]
     },
     "metadata": {},
     "output_type": "display_data"
    },
    {
     "name": "stdout",
     "output_type": "stream",
     "text": [
      "\n"
     ]
    },
    {
     "data": {
      "application/vnd.jupyter.widget-view+json": {
       "model_id": "fa87756843dc4c9a8a866727d2694851",
       "version_major": 2,
       "version_minor": 0
      },
      "text/plain": [
       "HBox(children=(FloatProgress(value=0.0, max=1000.0), HTML(value='')))"
      ]
     },
     "metadata": {},
     "output_type": "display_data"
    },
    {
     "name": "stdout",
     "output_type": "stream",
     "text": [
      "\n"
     ]
    },
    {
     "data": {
      "application/vnd.jupyter.widget-view+json": {
       "model_id": "4a18ef1f695d4e339d16f3aa71f8fc16",
       "version_major": 2,
       "version_minor": 0
      },
      "text/plain": [
       "HBox(children=(FloatProgress(value=0.0, max=1000.0), HTML(value='')))"
      ]
     },
     "metadata": {},
     "output_type": "display_data"
    },
    {
     "name": "stdout",
     "output_type": "stream",
     "text": [
      "\n"
     ]
    },
    {
     "data": {
      "application/vnd.jupyter.widget-view+json": {
       "model_id": "7da99323fecc46faa959723ae0ebb695",
       "version_major": 2,
       "version_minor": 0
      },
      "text/plain": [
       "HBox(children=(FloatProgress(value=0.0, max=1000.0), HTML(value='')))"
      ]
     },
     "metadata": {},
     "output_type": "display_data"
    },
    {
     "name": "stdout",
     "output_type": "stream",
     "text": [
      "\n"
     ]
    },
    {
     "data": {
      "application/vnd.jupyter.widget-view+json": {
       "model_id": "e51986687df7413f89f41bb321de25a2",
       "version_major": 2,
       "version_minor": 0
      },
      "text/plain": [
       "HBox(children=(FloatProgress(value=0.0, max=1000.0), HTML(value='')))"
      ]
     },
     "metadata": {},
     "output_type": "display_data"
    },
    {
     "name": "stdout",
     "output_type": "stream",
     "text": [
      "\n"
     ]
    },
    {
     "data": {
      "application/vnd.jupyter.widget-view+json": {
       "model_id": "1a56eab374a64cfebe785c8034a8c3b6",
       "version_major": 2,
       "version_minor": 0
      },
      "text/plain": [
       "HBox(children=(FloatProgress(value=0.0, max=1000.0), HTML(value='')))"
      ]
     },
     "metadata": {},
     "output_type": "display_data"
    },
    {
     "name": "stdout",
     "output_type": "stream",
     "text": [
      "\n"
     ]
    },
    {
     "data": {
      "application/vnd.jupyter.widget-view+json": {
       "model_id": "2c055809571740ca981cfe0ca0473c17",
       "version_major": 2,
       "version_minor": 0
      },
      "text/plain": [
       "HBox(children=(FloatProgress(value=0.0, max=1000.0), HTML(value='')))"
      ]
     },
     "metadata": {},
     "output_type": "display_data"
    },
    {
     "name": "stdout",
     "output_type": "stream",
     "text": [
      "\n"
     ]
    },
    {
     "data": {
      "application/vnd.jupyter.widget-view+json": {
       "model_id": "a46f97d2ccb54755b1607ab2c41930a2",
       "version_major": 2,
       "version_minor": 0
      },
      "text/plain": [
       "HBox(children=(FloatProgress(value=0.0, max=1000.0), HTML(value='')))"
      ]
     },
     "metadata": {},
     "output_type": "display_data"
    },
    {
     "name": "stdout",
     "output_type": "stream",
     "text": [
      "\n"
     ]
    },
    {
     "data": {
      "application/vnd.jupyter.widget-view+json": {
       "model_id": "eb7a3aefb779473fad1ca53fc886454a",
       "version_major": 2,
       "version_minor": 0
      },
      "text/plain": [
       "HBox(children=(FloatProgress(value=0.0, max=9.0), HTML(value='')))"
      ]
     },
     "metadata": {},
     "output_type": "display_data"
    },
    {
     "name": "stdout",
     "output_type": "stream",
     "text": [
      "\n"
     ]
    },
    {
     "data": {
      "application/vnd.jupyter.widget-view+json": {
       "model_id": "250e06d5bda84efc8bd0de52274b649f",
       "version_major": 2,
       "version_minor": 0
      },
      "text/plain": [
       "HBox(children=(FloatProgress(value=0.0, max=9.0), HTML(value='')))"
      ]
     },
     "metadata": {},
     "output_type": "display_data"
    },
    {
     "name": "stdout",
     "output_type": "stream",
     "text": [
      "\n"
     ]
    },
    {
     "data": {
      "application/vnd.jupyter.widget-view+json": {
       "model_id": "6c8edd2b1fa44fdeb48ed484362f35e1",
       "version_major": 2,
       "version_minor": 0
      },
      "text/plain": [
       "HBox(children=(FloatProgress(value=0.0, max=9.0), HTML(value='')))"
      ]
     },
     "metadata": {},
     "output_type": "display_data"
    },
    {
     "name": "stdout",
     "output_type": "stream",
     "text": [
      "\n"
     ]
    },
    {
     "data": {
      "application/vnd.jupyter.widget-view+json": {
       "model_id": "2f042c07abda49c8b23c243f4404cd54",
       "version_major": 2,
       "version_minor": 0
      },
      "text/plain": [
       "HBox(children=(FloatProgress(value=0.0, max=1000.0), HTML(value='')))"
      ]
     },
     "metadata": {},
     "output_type": "display_data"
    },
    {
     "name": "stdout",
     "output_type": "stream",
     "text": [
      "\n"
     ]
    },
    {
     "data": {
      "application/vnd.jupyter.widget-view+json": {
       "model_id": "cb891729cf70452cbe399a0c1adb00a7",
       "version_major": 2,
       "version_minor": 0
      },
      "text/plain": [
       "HBox(children=(FloatProgress(value=0.0, max=1000.0), HTML(value='')))"
      ]
     },
     "metadata": {},
     "output_type": "display_data"
    },
    {
     "name": "stdout",
     "output_type": "stream",
     "text": [
      "\n"
     ]
    },
    {
     "data": {
      "application/vnd.jupyter.widget-view+json": {
       "model_id": "7271f597c9cc42db82a19c9d667833e1",
       "version_major": 2,
       "version_minor": 0
      },
      "text/plain": [
       "HBox(children=(FloatProgress(value=0.0, max=1000.0), HTML(value='')))"
      ]
     },
     "metadata": {},
     "output_type": "display_data"
    },
    {
     "name": "stdout",
     "output_type": "stream",
     "text": [
      "\n"
     ]
    },
    {
     "data": {
      "application/vnd.jupyter.widget-view+json": {
       "model_id": "417d49aefbc24c1c9c4bfdbb47e45e9c",
       "version_major": 2,
       "version_minor": 0
      },
      "text/plain": [
       "HBox(children=(FloatProgress(value=0.0, max=1000.0), HTML(value='')))"
      ]
     },
     "metadata": {},
     "output_type": "display_data"
    },
    {
     "name": "stdout",
     "output_type": "stream",
     "text": [
      "\n"
     ]
    },
    {
     "data": {
      "application/vnd.jupyter.widget-view+json": {
       "model_id": "e919025c13844f0da0cb24e4ebbb97fa",
       "version_major": 2,
       "version_minor": 0
      },
      "text/plain": [
       "HBox(children=(FloatProgress(value=0.0, max=1000.0), HTML(value='')))"
      ]
     },
     "metadata": {},
     "output_type": "display_data"
    },
    {
     "name": "stdout",
     "output_type": "stream",
     "text": [
      "\n"
     ]
    },
    {
     "data": {
      "application/vnd.jupyter.widget-view+json": {
       "model_id": "63caa6af3cc94577a7b18267ab626209",
       "version_major": 2,
       "version_minor": 0
      },
      "text/plain": [
       "HBox(children=(FloatProgress(value=0.0, max=1000.0), HTML(value='')))"
      ]
     },
     "metadata": {},
     "output_type": "display_data"
    },
    {
     "name": "stdout",
     "output_type": "stream",
     "text": [
      "\n"
     ]
    },
    {
     "data": {
      "application/vnd.jupyter.widget-view+json": {
       "model_id": "2c1d53840b9f42068809b16b94597c68",
       "version_major": 2,
       "version_minor": 0
      },
      "text/plain": [
       "HBox(children=(FloatProgress(value=0.0, max=1000.0), HTML(value='')))"
      ]
     },
     "metadata": {},
     "output_type": "display_data"
    },
    {
     "name": "stdout",
     "output_type": "stream",
     "text": [
      "\n"
     ]
    },
    {
     "data": {
      "application/vnd.jupyter.widget-view+json": {
       "model_id": "dadb2b673a7b4956a75b0ed0b2297040",
       "version_major": 2,
       "version_minor": 0
      },
      "text/plain": [
       "HBox(children=(FloatProgress(value=0.0, max=1000.0), HTML(value='')))"
      ]
     },
     "metadata": {},
     "output_type": "display_data"
    },
    {
     "name": "stdout",
     "output_type": "stream",
     "text": [
      "\n"
     ]
    },
    {
     "data": {
      "application/vnd.jupyter.widget-view+json": {
       "model_id": "cdd064cb15714a609fee4d23298af742",
       "version_major": 2,
       "version_minor": 0
      },
      "text/plain": [
       "HBox(children=(FloatProgress(value=0.0, max=1000.0), HTML(value='')))"
      ]
     },
     "metadata": {},
     "output_type": "display_data"
    },
    {
     "name": "stdout",
     "output_type": "stream",
     "text": [
      "\n"
     ]
    },
    {
     "data": {
      "application/vnd.jupyter.widget-view+json": {
       "model_id": "64f23deb80a04b2c9331936dcf71f63f",
       "version_major": 2,
       "version_minor": 0
      },
      "text/plain": [
       "HBox(children=(FloatProgress(value=0.0, max=1000.0), HTML(value='')))"
      ]
     },
     "metadata": {},
     "output_type": "display_data"
    },
    {
     "name": "stdout",
     "output_type": "stream",
     "text": [
      "\n"
     ]
    },
    {
     "data": {
      "application/vnd.jupyter.widget-view+json": {
       "model_id": "ec2ed45ef9f24be28f4eccc80d658141",
       "version_major": 2,
       "version_minor": 0
      },
      "text/plain": [
       "HBox(children=(FloatProgress(value=0.0, max=1000.0), HTML(value='')))"
      ]
     },
     "metadata": {},
     "output_type": "display_data"
    },
    {
     "name": "stdout",
     "output_type": "stream",
     "text": [
      "\n"
     ]
    },
    {
     "data": {
      "application/vnd.jupyter.widget-view+json": {
       "model_id": "97dcb363ba874cdeb8c1f12fbf7ef7cb",
       "version_major": 2,
       "version_minor": 0
      },
      "text/plain": [
       "HBox(children=(FloatProgress(value=0.0, max=1000.0), HTML(value='')))"
      ]
     },
     "metadata": {},
     "output_type": "display_data"
    },
    {
     "name": "stdout",
     "output_type": "stream",
     "text": [
      "\n"
     ]
    },
    {
     "data": {
      "application/vnd.jupyter.widget-view+json": {
       "model_id": "d523f1057ce24af2a2b9c4dbebb69362",
       "version_major": 2,
       "version_minor": 0
      },
      "text/plain": [
       "HBox(children=(FloatProgress(value=0.0, max=1000.0), HTML(value='')))"
      ]
     },
     "metadata": {},
     "output_type": "display_data"
    },
    {
     "name": "stdout",
     "output_type": "stream",
     "text": [
      "\n"
     ]
    },
    {
     "data": {
      "application/vnd.jupyter.widget-view+json": {
       "model_id": "f403ed4eeb254ac9bb575448c078ba0e",
       "version_major": 2,
       "version_minor": 0
      },
      "text/plain": [
       "HBox(children=(FloatProgress(value=0.0, max=1000.0), HTML(value='')))"
      ]
     },
     "metadata": {},
     "output_type": "display_data"
    },
    {
     "name": "stdout",
     "output_type": "stream",
     "text": [
      "\n"
     ]
    },
    {
     "data": {
      "application/vnd.jupyter.widget-view+json": {
       "model_id": "d68eb1f03ed14ef39e84036381fd71ac",
       "version_major": 2,
       "version_minor": 0
      },
      "text/plain": [
       "HBox(children=(FloatProgress(value=0.0, max=1000.0), HTML(value='')))"
      ]
     },
     "metadata": {},
     "output_type": "display_data"
    },
    {
     "name": "stdout",
     "output_type": "stream",
     "text": [
      "\n"
     ]
    },
    {
     "data": {
      "application/vnd.jupyter.widget-view+json": {
       "model_id": "c019b35e57e944f8aa2505bfccb9f610",
       "version_major": 2,
       "version_minor": 0
      },
      "text/plain": [
       "HBox(children=(FloatProgress(value=0.0, max=1000.0), HTML(value='')))"
      ]
     },
     "metadata": {},
     "output_type": "display_data"
    },
    {
     "name": "stdout",
     "output_type": "stream",
     "text": [
      "\n"
     ]
    },
    {
     "data": {
      "application/vnd.jupyter.widget-view+json": {
       "model_id": "af6158c6a1d148ae984beca1ea6df10f",
       "version_major": 2,
       "version_minor": 0
      },
      "text/plain": [
       "HBox(children=(FloatProgress(value=0.0, max=1000.0), HTML(value='')))"
      ]
     },
     "metadata": {},
     "output_type": "display_data"
    },
    {
     "name": "stdout",
     "output_type": "stream",
     "text": [
      "\n"
     ]
    },
    {
     "data": {
      "application/vnd.jupyter.widget-view+json": {
       "model_id": "ba425fcde6bc462da3287fe7749d9bbd",
       "version_major": 2,
       "version_minor": 0
      },
      "text/plain": [
       "HBox(children=(FloatProgress(value=0.0, max=1000.0), HTML(value='')))"
      ]
     },
     "metadata": {},
     "output_type": "display_data"
    },
    {
     "name": "stdout",
     "output_type": "stream",
     "text": [
      "\n"
     ]
    },
    {
     "data": {
      "application/vnd.jupyter.widget-view+json": {
       "model_id": "16b5d3fc06cc4427b3d6cb4443aa6c88",
       "version_major": 2,
       "version_minor": 0
      },
      "text/plain": [
       "HBox(children=(FloatProgress(value=0.0, max=9.0), HTML(value='')))"
      ]
     },
     "metadata": {},
     "output_type": "display_data"
    },
    {
     "name": "stdout",
     "output_type": "stream",
     "text": [
      "\n"
     ]
    },
    {
     "data": {
      "application/vnd.jupyter.widget-view+json": {
       "model_id": "9e7041d225594eb1b6e841a35506f7ce",
       "version_major": 2,
       "version_minor": 0
      },
      "text/plain": [
       "HBox(children=(FloatProgress(value=0.0, max=9.0), HTML(value='')))"
      ]
     },
     "metadata": {},
     "output_type": "display_data"
    },
    {
     "name": "stdout",
     "output_type": "stream",
     "text": [
      "\n"
     ]
    },
    {
     "data": {
      "application/vnd.jupyter.widget-view+json": {
       "model_id": "a8027411c6d54ff389e5aa3d2ddedc44",
       "version_major": 2,
       "version_minor": 0
      },
      "text/plain": [
       "HBox(children=(FloatProgress(value=0.0, max=9.0), HTML(value='')))"
      ]
     },
     "metadata": {},
     "output_type": "display_data"
    },
    {
     "name": "stdout",
     "output_type": "stream",
     "text": [
      "\n"
     ]
    },
    {
     "data": {
      "application/vnd.jupyter.widget-view+json": {
       "model_id": "934f2fc2781e43f09f5aa75f457db662",
       "version_major": 2,
       "version_minor": 0
      },
      "text/plain": [
       "HBox(children=(FloatProgress(value=0.0, max=1000.0), HTML(value='')))"
      ]
     },
     "metadata": {},
     "output_type": "display_data"
    },
    {
     "name": "stdout",
     "output_type": "stream",
     "text": [
      "\n"
     ]
    },
    {
     "data": {
      "application/vnd.jupyter.widget-view+json": {
       "model_id": "65346ffaf75f4104864bf3eccf77681e",
       "version_major": 2,
       "version_minor": 0
      },
      "text/plain": [
       "HBox(children=(FloatProgress(value=0.0, max=1000.0), HTML(value='')))"
      ]
     },
     "metadata": {},
     "output_type": "display_data"
    },
    {
     "name": "stdout",
     "output_type": "stream",
     "text": [
      "\n"
     ]
    },
    {
     "data": {
      "application/vnd.jupyter.widget-view+json": {
       "model_id": "96ff62d55ea74057a256e59cbf607bab",
       "version_major": 2,
       "version_minor": 0
      },
      "text/plain": [
       "HBox(children=(FloatProgress(value=0.0, max=1000.0), HTML(value='')))"
      ]
     },
     "metadata": {},
     "output_type": "display_data"
    },
    {
     "name": "stdout",
     "output_type": "stream",
     "text": [
      "\n"
     ]
    },
    {
     "data": {
      "application/vnd.jupyter.widget-view+json": {
       "model_id": "710c02d71c4945acb0a134537bccc8da",
       "version_major": 2,
       "version_minor": 0
      },
      "text/plain": [
       "HBox(children=(FloatProgress(value=0.0, max=1000.0), HTML(value='')))"
      ]
     },
     "metadata": {},
     "output_type": "display_data"
    },
    {
     "name": "stdout",
     "output_type": "stream",
     "text": [
      "\n"
     ]
    },
    {
     "data": {
      "application/vnd.jupyter.widget-view+json": {
       "model_id": "b88e3ab423864cb4b6c58a30831e55b8",
       "version_major": 2,
       "version_minor": 0
      },
      "text/plain": [
       "HBox(children=(FloatProgress(value=0.0, max=1000.0), HTML(value='')))"
      ]
     },
     "metadata": {},
     "output_type": "display_data"
    },
    {
     "name": "stdout",
     "output_type": "stream",
     "text": [
      "\n"
     ]
    },
    {
     "data": {
      "application/vnd.jupyter.widget-view+json": {
       "model_id": "53ce50d9fa6f4e188fea41ae5ffe0d21",
       "version_major": 2,
       "version_minor": 0
      },
      "text/plain": [
       "HBox(children=(FloatProgress(value=0.0, max=1000.0), HTML(value='')))"
      ]
     },
     "metadata": {},
     "output_type": "display_data"
    },
    {
     "name": "stdout",
     "output_type": "stream",
     "text": [
      "\n"
     ]
    },
    {
     "data": {
      "application/vnd.jupyter.widget-view+json": {
       "model_id": "bc7b7575ba4c40f7aa0c7a7847838ff5",
       "version_major": 2,
       "version_minor": 0
      },
      "text/plain": [
       "HBox(children=(FloatProgress(value=0.0, max=1000.0), HTML(value='')))"
      ]
     },
     "metadata": {},
     "output_type": "display_data"
    },
    {
     "name": "stdout",
     "output_type": "stream",
     "text": [
      "\n"
     ]
    },
    {
     "data": {
      "application/vnd.jupyter.widget-view+json": {
       "model_id": "89dc347527174d018031c086234476d2",
       "version_major": 2,
       "version_minor": 0
      },
      "text/plain": [
       "HBox(children=(FloatProgress(value=0.0, max=1000.0), HTML(value='')))"
      ]
     },
     "metadata": {},
     "output_type": "display_data"
    },
    {
     "name": "stdout",
     "output_type": "stream",
     "text": [
      "\n"
     ]
    },
    {
     "data": {
      "application/vnd.jupyter.widget-view+json": {
       "model_id": "b333cbdb8b7c42a9929e4a0a935f9ae8",
       "version_major": 2,
       "version_minor": 0
      },
      "text/plain": [
       "HBox(children=(FloatProgress(value=0.0, max=1000.0), HTML(value='')))"
      ]
     },
     "metadata": {},
     "output_type": "display_data"
    },
    {
     "name": "stdout",
     "output_type": "stream",
     "text": [
      "\n"
     ]
    },
    {
     "data": {
      "application/vnd.jupyter.widget-view+json": {
       "model_id": "05af3b21a8464680bb100e0b9fe7b7e1",
       "version_major": 2,
       "version_minor": 0
      },
      "text/plain": [
       "HBox(children=(FloatProgress(value=0.0, max=1000.0), HTML(value='')))"
      ]
     },
     "metadata": {},
     "output_type": "display_data"
    },
    {
     "name": "stdout",
     "output_type": "stream",
     "text": [
      "\n"
     ]
    },
    {
     "data": {
      "application/vnd.jupyter.widget-view+json": {
       "model_id": "c20908de18f948cfad13feb7a92502db",
       "version_major": 2,
       "version_minor": 0
      },
      "text/plain": [
       "HBox(children=(FloatProgress(value=0.0, max=1000.0), HTML(value='')))"
      ]
     },
     "metadata": {},
     "output_type": "display_data"
    },
    {
     "name": "stdout",
     "output_type": "stream",
     "text": [
      "\n"
     ]
    },
    {
     "data": {
      "application/vnd.jupyter.widget-view+json": {
       "model_id": "733be08c479c4b808d799db1283af8ad",
       "version_major": 2,
       "version_minor": 0
      },
      "text/plain": [
       "HBox(children=(FloatProgress(value=0.0, max=1000.0), HTML(value='')))"
      ]
     },
     "metadata": {},
     "output_type": "display_data"
    },
    {
     "name": "stdout",
     "output_type": "stream",
     "text": [
      "\n"
     ]
    },
    {
     "data": {
      "application/vnd.jupyter.widget-view+json": {
       "model_id": "9ac05075f0c949f88ac9f6f4b63b32ab",
       "version_major": 2,
       "version_minor": 0
      },
      "text/plain": [
       "HBox(children=(FloatProgress(value=0.0, max=1000.0), HTML(value='')))"
      ]
     },
     "metadata": {},
     "output_type": "display_data"
    },
    {
     "name": "stdout",
     "output_type": "stream",
     "text": [
      "\n"
     ]
    },
    {
     "data": {
      "application/vnd.jupyter.widget-view+json": {
       "model_id": "a42c7532ade540f98545dd20b7055c9a",
       "version_major": 2,
       "version_minor": 0
      },
      "text/plain": [
       "HBox(children=(FloatProgress(value=0.0, max=1000.0), HTML(value='')))"
      ]
     },
     "metadata": {},
     "output_type": "display_data"
    },
    {
     "name": "stdout",
     "output_type": "stream",
     "text": [
      "\n"
     ]
    },
    {
     "data": {
      "application/vnd.jupyter.widget-view+json": {
       "model_id": "ba90936c423040dbb1066723942d72c2",
       "version_major": 2,
       "version_minor": 0
      },
      "text/plain": [
       "HBox(children=(FloatProgress(value=0.0, max=1000.0), HTML(value='')))"
      ]
     },
     "metadata": {},
     "output_type": "display_data"
    },
    {
     "name": "stdout",
     "output_type": "stream",
     "text": [
      "\n"
     ]
    },
    {
     "data": {
      "application/vnd.jupyter.widget-view+json": {
       "model_id": "5a94e37f293448bfb956b3c6003be20f",
       "version_major": 2,
       "version_minor": 0
      },
      "text/plain": [
       "HBox(children=(FloatProgress(value=0.0, max=1000.0), HTML(value='')))"
      ]
     },
     "metadata": {},
     "output_type": "display_data"
    },
    {
     "name": "stdout",
     "output_type": "stream",
     "text": [
      "\n"
     ]
    },
    {
     "data": {
      "application/vnd.jupyter.widget-view+json": {
       "model_id": "4ec8df26c5f447eb87fa205ce9e4c311",
       "version_major": 2,
       "version_minor": 0
      },
      "text/plain": [
       "HBox(children=(FloatProgress(value=0.0, max=1000.0), HTML(value='')))"
      ]
     },
     "metadata": {},
     "output_type": "display_data"
    },
    {
     "name": "stdout",
     "output_type": "stream",
     "text": [
      "\n"
     ]
    },
    {
     "data": {
      "application/vnd.jupyter.widget-view+json": {
       "model_id": "b35de51dc6964d659ea692ce57595a0a",
       "version_major": 2,
       "version_minor": 0
      },
      "text/plain": [
       "HBox(children=(FloatProgress(value=0.0, max=1000.0), HTML(value='')))"
      ]
     },
     "metadata": {},
     "output_type": "display_data"
    },
    {
     "name": "stdout",
     "output_type": "stream",
     "text": [
      "\n"
     ]
    },
    {
     "data": {
      "application/vnd.jupyter.widget-view+json": {
       "model_id": "7010ac9cf2694ac89b425b9c415e5eac",
       "version_major": 2,
       "version_minor": 0
      },
      "text/plain": [
       "HBox(children=(FloatProgress(value=0.0, max=9.0), HTML(value='')))"
      ]
     },
     "metadata": {},
     "output_type": "display_data"
    },
    {
     "name": "stdout",
     "output_type": "stream",
     "text": [
      "\n"
     ]
    },
    {
     "data": {
      "application/vnd.jupyter.widget-view+json": {
       "model_id": "5166d708368d429d8aa719449fee8a5c",
       "version_major": 2,
       "version_minor": 0
      },
      "text/plain": [
       "HBox(children=(FloatProgress(value=0.0, max=9.0), HTML(value='')))"
      ]
     },
     "metadata": {},
     "output_type": "display_data"
    },
    {
     "name": "stdout",
     "output_type": "stream",
     "text": [
      "\n"
     ]
    },
    {
     "data": {
      "application/vnd.jupyter.widget-view+json": {
       "model_id": "93635966e7da48079229901e418c6ece",
       "version_major": 2,
       "version_minor": 0
      },
      "text/plain": [
       "HBox(children=(FloatProgress(value=0.0, max=9.0), HTML(value='')))"
      ]
     },
     "metadata": {},
     "output_type": "display_data"
    },
    {
     "name": "stdout",
     "output_type": "stream",
     "text": [
      "\n"
     ]
    },
    {
     "data": {
      "application/vnd.jupyter.widget-view+json": {
       "model_id": "01e5ab63416b47ce9d6095d77c4a1d7c",
       "version_major": 2,
       "version_minor": 0
      },
      "text/plain": [
       "HBox(children=(FloatProgress(value=0.0, max=1000.0), HTML(value='')))"
      ]
     },
     "metadata": {},
     "output_type": "display_data"
    },
    {
     "name": "stdout",
     "output_type": "stream",
     "text": [
      "\n"
     ]
    },
    {
     "data": {
      "application/vnd.jupyter.widget-view+json": {
       "model_id": "89fcad6d3be94a43b1d26f17fe20a447",
       "version_major": 2,
       "version_minor": 0
      },
      "text/plain": [
       "HBox(children=(FloatProgress(value=0.0, max=1000.0), HTML(value='')))"
      ]
     },
     "metadata": {},
     "output_type": "display_data"
    },
    {
     "name": "stdout",
     "output_type": "stream",
     "text": [
      "\n"
     ]
    },
    {
     "data": {
      "application/vnd.jupyter.widget-view+json": {
       "model_id": "e67fa942f6bc4826862b3cb3f93bc533",
       "version_major": 2,
       "version_minor": 0
      },
      "text/plain": [
       "HBox(children=(FloatProgress(value=0.0, max=1000.0), HTML(value='')))"
      ]
     },
     "metadata": {},
     "output_type": "display_data"
    },
    {
     "name": "stdout",
     "output_type": "stream",
     "text": [
      "\n"
     ]
    },
    {
     "data": {
      "application/vnd.jupyter.widget-view+json": {
       "model_id": "e7fa48f405bd46b4aa05ccbc52b91f09",
       "version_major": 2,
       "version_minor": 0
      },
      "text/plain": [
       "HBox(children=(FloatProgress(value=0.0, max=1000.0), HTML(value='')))"
      ]
     },
     "metadata": {},
     "output_type": "display_data"
    },
    {
     "name": "stdout",
     "output_type": "stream",
     "text": [
      "\n"
     ]
    },
    {
     "data": {
      "application/vnd.jupyter.widget-view+json": {
       "model_id": "1e68a7f539e148ac8e99230f2432a8e9",
       "version_major": 2,
       "version_minor": 0
      },
      "text/plain": [
       "HBox(children=(FloatProgress(value=0.0, max=1000.0), HTML(value='')))"
      ]
     },
     "metadata": {},
     "output_type": "display_data"
    },
    {
     "name": "stdout",
     "output_type": "stream",
     "text": [
      "\n"
     ]
    },
    {
     "data": {
      "application/vnd.jupyter.widget-view+json": {
       "model_id": "4da9a3876fb549eaa1bf4efba269df0f",
       "version_major": 2,
       "version_minor": 0
      },
      "text/plain": [
       "HBox(children=(FloatProgress(value=0.0, max=1000.0), HTML(value='')))"
      ]
     },
     "metadata": {},
     "output_type": "display_data"
    },
    {
     "name": "stdout",
     "output_type": "stream",
     "text": [
      "\n"
     ]
    },
    {
     "data": {
      "application/vnd.jupyter.widget-view+json": {
       "model_id": "0d6589775e88409d8b45b44f5c193a5b",
       "version_major": 2,
       "version_minor": 0
      },
      "text/plain": [
       "HBox(children=(FloatProgress(value=0.0, max=1000.0), HTML(value='')))"
      ]
     },
     "metadata": {},
     "output_type": "display_data"
    },
    {
     "name": "stdout",
     "output_type": "stream",
     "text": [
      "\n"
     ]
    },
    {
     "data": {
      "application/vnd.jupyter.widget-view+json": {
       "model_id": "fa8a816b825f4db38c54f68252c1233b",
       "version_major": 2,
       "version_minor": 0
      },
      "text/plain": [
       "HBox(children=(FloatProgress(value=0.0, max=1000.0), HTML(value='')))"
      ]
     },
     "metadata": {},
     "output_type": "display_data"
    },
    {
     "name": "stdout",
     "output_type": "stream",
     "text": [
      "\n"
     ]
    },
    {
     "data": {
      "application/vnd.jupyter.widget-view+json": {
       "model_id": "003a656496f64c83981e1d4c77ac2151",
       "version_major": 2,
       "version_minor": 0
      },
      "text/plain": [
       "HBox(children=(FloatProgress(value=0.0, max=1000.0), HTML(value='')))"
      ]
     },
     "metadata": {},
     "output_type": "display_data"
    },
    {
     "name": "stdout",
     "output_type": "stream",
     "text": [
      "\n"
     ]
    },
    {
     "data": {
      "application/vnd.jupyter.widget-view+json": {
       "model_id": "2858b217d83e4c399a7541e8020ca8a2",
       "version_major": 2,
       "version_minor": 0
      },
      "text/plain": [
       "HBox(children=(FloatProgress(value=0.0, max=1000.0), HTML(value='')))"
      ]
     },
     "metadata": {},
     "output_type": "display_data"
    },
    {
     "name": "stdout",
     "output_type": "stream",
     "text": [
      "\n"
     ]
    },
    {
     "data": {
      "application/vnd.jupyter.widget-view+json": {
       "model_id": "7b69b22891f44446a17ed42a0fddcd3e",
       "version_major": 2,
       "version_minor": 0
      },
      "text/plain": [
       "HBox(children=(FloatProgress(value=0.0, max=1000.0), HTML(value='')))"
      ]
     },
     "metadata": {},
     "output_type": "display_data"
    },
    {
     "name": "stdout",
     "output_type": "stream",
     "text": [
      "\n"
     ]
    },
    {
     "data": {
      "application/vnd.jupyter.widget-view+json": {
       "model_id": "6abb42db4fd344c385de7ddcf4ed5c3e",
       "version_major": 2,
       "version_minor": 0
      },
      "text/plain": [
       "HBox(children=(FloatProgress(value=0.0, max=1000.0), HTML(value='')))"
      ]
     },
     "metadata": {},
     "output_type": "display_data"
    },
    {
     "name": "stdout",
     "output_type": "stream",
     "text": [
      "\n"
     ]
    },
    {
     "data": {
      "application/vnd.jupyter.widget-view+json": {
       "model_id": "2fe60e20dad74e3389122726f6c72e8c",
       "version_major": 2,
       "version_minor": 0
      },
      "text/plain": [
       "HBox(children=(FloatProgress(value=0.0, max=1000.0), HTML(value='')))"
      ]
     },
     "metadata": {},
     "output_type": "display_data"
    },
    {
     "name": "stdout",
     "output_type": "stream",
     "text": [
      "\n"
     ]
    },
    {
     "data": {
      "application/vnd.jupyter.widget-view+json": {
       "model_id": "da48b678bc5e48469bb5084fe4e46ed7",
       "version_major": 2,
       "version_minor": 0
      },
      "text/plain": [
       "HBox(children=(FloatProgress(value=0.0, max=1000.0), HTML(value='')))"
      ]
     },
     "metadata": {},
     "output_type": "display_data"
    },
    {
     "name": "stdout",
     "output_type": "stream",
     "text": [
      "\n"
     ]
    },
    {
     "data": {
      "application/vnd.jupyter.widget-view+json": {
       "model_id": "8330c623424246389ab8a8f385324327",
       "version_major": 2,
       "version_minor": 0
      },
      "text/plain": [
       "HBox(children=(FloatProgress(value=0.0, max=1000.0), HTML(value='')))"
      ]
     },
     "metadata": {},
     "output_type": "display_data"
    },
    {
     "name": "stdout",
     "output_type": "stream",
     "text": [
      "\n"
     ]
    },
    {
     "data": {
      "application/vnd.jupyter.widget-view+json": {
       "model_id": "d858925efbbe4f6fb90e67ed5af1c826",
       "version_major": 2,
       "version_minor": 0
      },
      "text/plain": [
       "HBox(children=(FloatProgress(value=0.0, max=1000.0), HTML(value='')))"
      ]
     },
     "metadata": {},
     "output_type": "display_data"
    },
    {
     "name": "stdout",
     "output_type": "stream",
     "text": [
      "\n"
     ]
    },
    {
     "data": {
      "application/vnd.jupyter.widget-view+json": {
       "model_id": "bad30aab21034f95938c69217216b962",
       "version_major": 2,
       "version_minor": 0
      },
      "text/plain": [
       "HBox(children=(FloatProgress(value=0.0, max=1000.0), HTML(value='')))"
      ]
     },
     "metadata": {},
     "output_type": "display_data"
    },
    {
     "name": "stdout",
     "output_type": "stream",
     "text": [
      "\n"
     ]
    },
    {
     "data": {
      "application/vnd.jupyter.widget-view+json": {
       "model_id": "e694ad72c3534fb690db2c99571ef6b8",
       "version_major": 2,
       "version_minor": 0
      },
      "text/plain": [
       "HBox(children=(FloatProgress(value=0.0, max=1000.0), HTML(value='')))"
      ]
     },
     "metadata": {},
     "output_type": "display_data"
    },
    {
     "name": "stdout",
     "output_type": "stream",
     "text": [
      "\n"
     ]
    },
    {
     "data": {
      "application/vnd.jupyter.widget-view+json": {
       "model_id": "55a71f40eea84e5ea51ebf94f590aa10",
       "version_major": 2,
       "version_minor": 0
      },
      "text/plain": [
       "HBox(children=(FloatProgress(value=0.0, max=9.0), HTML(value='')))"
      ]
     },
     "metadata": {},
     "output_type": "display_data"
    },
    {
     "name": "stdout",
     "output_type": "stream",
     "text": [
      "\n",
      "\n"
     ]
    }
   ],
   "source": [
    "n_vals = np.array([50,100,150,200,250,300,350,400,450,500])\n",
    "ecc_dists = np.zeros((len(rvs),len(n_vals), n_loops))\n",
    "#ecc_dists = np.zeros((len(rvs),n_loops))\n",
    "for j in tqdm(range(0,len(n_vals))):\n",
    "    n = n_vals[j]\n",
    "    samples = [(n**(1/3)) * np.array(gen_rv(rv,n,n_loops)) for rv in tqdm(rvs)]\n",
    "    samples2 = [(n**(1/3)) * np.array(gen_rv(rv,n,n_loops)) for rv in tqdm(rvs)]\n",
    "    eccs1 = np.array([get_ecc(s, 101,0.5) for s in samples])\n",
    "    eccs2 = np.array([get_ecc(s, 101,0.5) for s in samples2])\n",
    "\n",
    "    eccs_mean = np.mean(eccs1, axis =1)\n",
    "\n",
    "    for i in tqdm(range(0,len(samples))):\n",
    "        ecc_dists[i][j] = pairwise_distances(eccs_mean[i].reshape(1,-1), eccs2[i], n_jobs = -1, metric = spdists.chebyshev)"
   ]
  },
  {
   "cell_type": "code",
   "execution_count": 10,
   "metadata": {},
   "outputs": [
    {
     "data": {
      "text/plain": [
       "2.0918239150741154"
      ]
     },
     "execution_count": 10,
     "metadata": {},
     "output_type": "execute_result"
    }
   ],
   "source": [
    "ecc_dists[0][0].std()"
   ]
  },
  {
   "cell_type": "code",
   "execution_count": 11,
   "metadata": {},
   "outputs": [],
   "source": [
    "def func(X,a):\n",
    "    x = X[0]\n",
    "    n = X[1]\n",
    "    return 2 * np.exp(-a*x**2 /n)"
   ]
  },
  {
   "cell_type": "code",
   "execution_count": 13,
   "metadata": {
    "collapsed": true,
    "jupyter": {
     "outputs_hidden": true
    },
    "tags": []
   },
   "outputs": [
    {
     "data": {
      "application/vnd.jupyter.widget-view+json": {
       "model_id": "6df5ca9bf2344665a2160ac372259c39",
       "version_major": 2,
       "version_minor": 0
      },
      "text/plain": [
       "Canvas(toolbar=Toolbar(toolitems=[('Home', 'Reset original view', 'home', 'home'), ('Back', 'Back to previous …"
      ]
     },
     "metadata": {},
     "output_type": "display_data"
    }
   ],
   "source": [
    "f,axs = plt.subplots(len(rvs), 1, figsize =(8,64))\n",
    "colors = [\"tab:blue\", \"tab:orange\", \"tab:green\", \"tab:red\", \"tab:purple\", \"tab:brown\", \"tab:pink\", \"tab:grey\", \"tab:olive\", \"tab:cyan\"]\n",
    "for i in range(0,len(rvs)):\n",
    "    axs[i].set_ylabel(rv_names[i])\n",
    "    for j in range(0,len(n_vals)):\n",
    "        ts = np.linspace(0, np.max(ecc_dists[i])/np.sqrt(n_vals[j]),100)\n",
    "        axs[i].plot(ts,[tail_frequency(ecc_dists[i][j]/np.sqrt(n_vals[j]), t) for t in ts], label = n_vals[j], c=colors[j])\n",
    "        #popt, pcov = curve_fit(func, [ts, [n_vals[j]]*len(ts)], [tail_frequency(ecc_dists[i][j],t) for t in ts], bounds=(0, 5))\n",
    "        #axs[i].plot(ts,func([ts,[n_vals[j]]*len(ts)], *popt), c=colors[j], ls=\"--\")\n",
    "\n",
    "    \n",
    "    axs[i].legend()\n",
    "    axs[i].set_ylim((-0.1,1.1))\n",
    "    \n",
    "\n",
    "plt.show()"
   ]
  },
  {
   "cell_type": "code",
   "execution_count": 20,
   "metadata": {},
   "outputs": [],
   "source": [
    "def func(X, a, b):\n",
    "    x = X[0]\n",
    "    n= X[1]\n",
    "    return 2*np.exp(-a*(x+0*n)**2/n)"
   ]
  },
  {
   "cell_type": "code",
   "execution_count": 14,
   "metadata": {},
   "outputs": [
    {
     "data": {
      "application/vnd.jupyter.widget-view+json": {
       "model_id": "ecbbc74a45c04826973bffdecad48d27",
       "version_major": 2,
       "version_minor": 0
      },
      "text/plain": [
       "  0%|          | 0/10 [00:00<?, ?it/s]"
      ]
     },
     "metadata": {},
     "output_type": "display_data"
    },
    {
     "data": {
      "application/vnd.jupyter.widget-view+json": {
       "model_id": "329b75112f1d4f97acd9a0d5d1edae2b",
       "version_major": 2,
       "version_minor": 0
      },
      "text/plain": [
       "  0%|          | 0/1000 [00:00<?, ?it/s]"
      ]
     },
     "metadata": {},
     "output_type": "display_data"
    },
    {
     "data": {
      "application/vnd.jupyter.widget-view+json": {
       "model_id": "83a5bceed54a4e2283f74340d1ea1f62",
       "version_major": 2,
       "version_minor": 0
      },
      "text/plain": [
       "  0%|          | 0/1000 [00:00<?, ?it/s]"
      ]
     },
     "metadata": {},
     "output_type": "display_data"
    },
    {
     "data": {
      "application/vnd.jupyter.widget-view+json": {
       "model_id": "cbf9975bfa0044a0918f150e7630d2aa",
       "version_major": 2,
       "version_minor": 0
      },
      "text/plain": [
       "  0%|          | 0/1000 [00:00<?, ?it/s]"
      ]
     },
     "metadata": {},
     "output_type": "display_data"
    },
    {
     "data": {
      "application/vnd.jupyter.widget-view+json": {
       "model_id": "ee35d33ca0c242ef9a26094bb12ed12b",
       "version_major": 2,
       "version_minor": 0
      },
      "text/plain": [
       "  0%|          | 0/1000 [00:00<?, ?it/s]"
      ]
     },
     "metadata": {},
     "output_type": "display_data"
    },
    {
     "data": {
      "application/vnd.jupyter.widget-view+json": {
       "model_id": "dfa9dff051da4902b5830aeb91c9f1b2",
       "version_major": 2,
       "version_minor": 0
      },
      "text/plain": [
       "  0%|          | 0/1000 [00:00<?, ?it/s]"
      ]
     },
     "metadata": {},
     "output_type": "display_data"
    },
    {
     "data": {
      "application/vnd.jupyter.widget-view+json": {
       "model_id": "e9b41e9a513042218fa95a28a65a7952",
       "version_major": 2,
       "version_minor": 0
      },
      "text/plain": [
       "  0%|          | 0/1000 [00:00<?, ?it/s]"
      ]
     },
     "metadata": {},
     "output_type": "display_data"
    },
    {
     "data": {
      "application/vnd.jupyter.widget-view+json": {
       "model_id": "7c21172769854b5c9fad325a1e60d334",
       "version_major": 2,
       "version_minor": 0
      },
      "text/plain": [
       "  0%|          | 0/1000 [00:00<?, ?it/s]"
      ]
     },
     "metadata": {},
     "output_type": "display_data"
    },
    {
     "data": {
      "application/vnd.jupyter.widget-view+json": {
       "model_id": "063723d8aac94b819fdadb823f57a1f8",
       "version_major": 2,
       "version_minor": 0
      },
      "text/plain": [
       "  0%|          | 0/1000 [00:00<?, ?it/s]"
      ]
     },
     "metadata": {},
     "output_type": "display_data"
    },
    {
     "data": {
      "application/vnd.jupyter.widget-view+json": {
       "model_id": "b76d9eb260cd4ed4aae44170c5d43900",
       "version_major": 2,
       "version_minor": 0
      },
      "text/plain": [
       "  0%|          | 0/1000 [00:00<?, ?it/s]"
      ]
     },
     "metadata": {},
     "output_type": "display_data"
    },
    {
     "data": {
      "application/vnd.jupyter.widget-view+json": {
       "model_id": "c8d6aaa22a054481b2552e3e00c66a96",
       "version_major": 2,
       "version_minor": 0
      },
      "text/plain": [
       "  0%|          | 0/1000 [00:00<?, ?it/s]"
      ]
     },
     "metadata": {},
     "output_type": "display_data"
    },
    {
     "data": {
      "application/vnd.jupyter.widget-view+json": {
       "model_id": "923d32bad5da421292d7fb0b4961ac38",
       "version_major": 2,
       "version_minor": 0
      },
      "text/plain": [
       "  0%|          | 0/1000 [00:00<?, ?it/s]"
      ]
     },
     "metadata": {},
     "output_type": "display_data"
    },
    {
     "data": {
      "application/vnd.jupyter.widget-view+json": {
       "model_id": "10a2e4d5c0a6436881040e7fe35549b8",
       "version_major": 2,
       "version_minor": 0
      },
      "text/plain": [
       "  0%|          | 0/1000 [00:00<?, ?it/s]"
      ]
     },
     "metadata": {},
     "output_type": "display_data"
    },
    {
     "data": {
      "application/vnd.jupyter.widget-view+json": {
       "model_id": "1902fe3cb37d45dca362732d170332e0",
       "version_major": 2,
       "version_minor": 0
      },
      "text/plain": [
       "  0%|          | 0/1000 [00:00<?, ?it/s]"
      ]
     },
     "metadata": {},
     "output_type": "display_data"
    },
    {
     "data": {
      "application/vnd.jupyter.widget-view+json": {
       "model_id": "c82324f1303643528e556bb2b12dd019",
       "version_major": 2,
       "version_minor": 0
      },
      "text/plain": [
       "  0%|          | 0/1000 [00:00<?, ?it/s]"
      ]
     },
     "metadata": {},
     "output_type": "display_data"
    },
    {
     "data": {
      "application/vnd.jupyter.widget-view+json": {
       "model_id": "2a1a209ca35748e4a77a4c3277644551",
       "version_major": 2,
       "version_minor": 0
      },
      "text/plain": [
       "  0%|          | 0/1000 [00:00<?, ?it/s]"
      ]
     },
     "metadata": {},
     "output_type": "display_data"
    },
    {
     "data": {
      "application/vnd.jupyter.widget-view+json": {
       "model_id": "a83d72537f1947cfbf5c28d3034618fb",
       "version_major": 2,
       "version_minor": 0
      },
      "text/plain": [
       "  0%|          | 0/1000 [00:00<?, ?it/s]"
      ]
     },
     "metadata": {},
     "output_type": "display_data"
    },
    {
     "data": {
      "application/vnd.jupyter.widget-view+json": {
       "model_id": "413b0ce8ab714fe0ac8c3b2cd8c51574",
       "version_major": 2,
       "version_minor": 0
      },
      "text/plain": [
       "  0%|          | 0/1000 [00:00<?, ?it/s]"
      ]
     },
     "metadata": {},
     "output_type": "display_data"
    },
    {
     "data": {
      "application/vnd.jupyter.widget-view+json": {
       "model_id": "fa90ad83950240da8b3d63195b3b325d",
       "version_major": 2,
       "version_minor": 0
      },
      "text/plain": [
       "  0%|          | 0/1000 [00:00<?, ?it/s]"
      ]
     },
     "metadata": {},
     "output_type": "display_data"
    },
    {
     "data": {
      "application/vnd.jupyter.widget-view+json": {
       "model_id": "9a76c3ec935f4a3d92e6b4361b916d37",
       "version_major": 2,
       "version_minor": 0
      },
      "text/plain": [
       "  0%|          | 0/1000 [00:00<?, ?it/s]"
      ]
     },
     "metadata": {},
     "output_type": "display_data"
    },
    {
     "data": {
      "application/vnd.jupyter.widget-view+json": {
       "model_id": "dfcb2002b4684632bd68aeda5fd3c948",
       "version_major": 2,
       "version_minor": 0
      },
      "text/plain": [
       "  0%|          | 0/1000 [00:00<?, ?it/s]"
      ]
     },
     "metadata": {},
     "output_type": "display_data"
    },
    {
     "data": {
      "application/vnd.jupyter.widget-view+json": {
       "model_id": "b8661fa681e449f69a147299740f98d5",
       "version_major": 2,
       "version_minor": 0
      },
      "text/plain": [
       "  0%|          | 0/1000 [00:00<?, ?it/s]"
      ]
     },
     "metadata": {},
     "output_type": "display_data"
    },
    {
     "data": {
      "application/vnd.jupyter.widget-view+json": {
       "model_id": "8e8aa3d1b81a4e4ea7ec9d038fec1831",
       "version_major": 2,
       "version_minor": 0
      },
      "text/plain": [
       "  0%|          | 0/1000 [00:00<?, ?it/s]"
      ]
     },
     "metadata": {},
     "output_type": "display_data"
    },
    {
     "data": {
      "application/vnd.jupyter.widget-view+json": {
       "model_id": "31eef0a5ff3942dc9c3b72a6b2b09ea4",
       "version_major": 2,
       "version_minor": 0
      },
      "text/plain": [
       "  0%|          | 0/1000 [00:00<?, ?it/s]"
      ]
     },
     "metadata": {},
     "output_type": "display_data"
    },
    {
     "data": {
      "application/vnd.jupyter.widget-view+json": {
       "model_id": "b84a5066b1fc4901b7d5479ce2e37aef",
       "version_major": 2,
       "version_minor": 0
      },
      "text/plain": [
       "  0%|          | 0/1000 [00:00<?, ?it/s]"
      ]
     },
     "metadata": {},
     "output_type": "display_data"
    },
    {
     "data": {
      "application/vnd.jupyter.widget-view+json": {
       "model_id": "b001e87022ad455686b77ad9065ea621",
       "version_major": 2,
       "version_minor": 0
      },
      "text/plain": [
       "  0%|          | 0/1000 [00:00<?, ?it/s]"
      ]
     },
     "metadata": {},
     "output_type": "display_data"
    },
    {
     "data": {
      "application/vnd.jupyter.widget-view+json": {
       "model_id": "ffbdb551a5594da2bb1965520c0dda66",
       "version_major": 2,
       "version_minor": 0
      },
      "text/plain": [
       "  0%|          | 0/1000 [00:00<?, ?it/s]"
      ]
     },
     "metadata": {},
     "output_type": "display_data"
    },
    {
     "data": {
      "application/vnd.jupyter.widget-view+json": {
       "model_id": "49e81ab50dfc4231afe4d5e38203556c",
       "version_major": 2,
       "version_minor": 0
      },
      "text/plain": [
       "  0%|          | 0/1000 [00:00<?, ?it/s]"
      ]
     },
     "metadata": {},
     "output_type": "display_data"
    },
    {
     "data": {
      "application/vnd.jupyter.widget-view+json": {
       "model_id": "492057937f5d4b2c865bccd01d85aedd",
       "version_major": 2,
       "version_minor": 0
      },
      "text/plain": [
       "  0%|          | 0/1000 [00:00<?, ?it/s]"
      ]
     },
     "metadata": {},
     "output_type": "display_data"
    },
    {
     "data": {
      "application/vnd.jupyter.widget-view+json": {
       "model_id": "7826b5da9cb24444aabd7c00311999e7",
       "version_major": 2,
       "version_minor": 0
      },
      "text/plain": [
       "  0%|          | 0/1000 [00:00<?, ?it/s]"
      ]
     },
     "metadata": {},
     "output_type": "display_data"
    },
    {
     "data": {
      "application/vnd.jupyter.widget-view+json": {
       "model_id": "020362ea7b994c96930a0b7da74d8dfb",
       "version_major": 2,
       "version_minor": 0
      },
      "text/plain": [
       "  0%|          | 0/1000 [00:00<?, ?it/s]"
      ]
     },
     "metadata": {},
     "output_type": "display_data"
    },
    {
     "data": {
      "application/vnd.jupyter.widget-view+json": {
       "model_id": "0d4e2eecde244d108d2a0fcbbda3ad66",
       "version_major": 2,
       "version_minor": 0
      },
      "text/plain": [
       "  0%|          | 0/1000 [00:00<?, ?it/s]"
      ]
     },
     "metadata": {},
     "output_type": "display_data"
    },
    {
     "data": {
      "application/vnd.jupyter.widget-view+json": {
       "model_id": "09ff8c261a9f41cdbe34a996685e5cec",
       "version_major": 2,
       "version_minor": 0
      },
      "text/plain": [
       "  0%|          | 0/1000 [00:00<?, ?it/s]"
      ]
     },
     "metadata": {},
     "output_type": "display_data"
    },
    {
     "data": {
      "application/vnd.jupyter.widget-view+json": {
       "model_id": "243fa8c6c6034f728357a76ca3bbb21d",
       "version_major": 2,
       "version_minor": 0
      },
      "text/plain": [
       "  0%|          | 0/1000 [00:00<?, ?it/s]"
      ]
     },
     "metadata": {},
     "output_type": "display_data"
    },
    {
     "data": {
      "application/vnd.jupyter.widget-view+json": {
       "model_id": "fcf881bcfc7042dba77fab5cd1e4b570",
       "version_major": 2,
       "version_minor": 0
      },
      "text/plain": [
       "  0%|          | 0/1000 [00:00<?, ?it/s]"
      ]
     },
     "metadata": {},
     "output_type": "display_data"
    },
    {
     "data": {
      "application/vnd.jupyter.widget-view+json": {
       "model_id": "2157bfae052f45dc9739d3966a50d236",
       "version_major": 2,
       "version_minor": 0
      },
      "text/plain": [
       "  0%|          | 0/1000 [00:00<?, ?it/s]"
      ]
     },
     "metadata": {},
     "output_type": "display_data"
    },
    {
     "data": {
      "application/vnd.jupyter.widget-view+json": {
       "model_id": "7987162570ca4753915e1d1ab8c490a1",
       "version_major": 2,
       "version_minor": 0
      },
      "text/plain": [
       "  0%|          | 0/1000 [00:00<?, ?it/s]"
      ]
     },
     "metadata": {},
     "output_type": "display_data"
    },
    {
     "data": {
      "application/vnd.jupyter.widget-view+json": {
       "model_id": "4f34e472962d4b289de4d479c98324cd",
       "version_major": 2,
       "version_minor": 0
      },
      "text/plain": [
       "  0%|          | 0/1000 [00:00<?, ?it/s]"
      ]
     },
     "metadata": {},
     "output_type": "display_data"
    },
    {
     "data": {
      "application/vnd.jupyter.widget-view+json": {
       "model_id": "980ef1ef171a47989e2363900f98ff0c",
       "version_major": 2,
       "version_minor": 0
      },
      "text/plain": [
       "  0%|          | 0/1000 [00:00<?, ?it/s]"
      ]
     },
     "metadata": {},
     "output_type": "display_data"
    },
    {
     "data": {
      "application/vnd.jupyter.widget-view+json": {
       "model_id": "c916023156b24f7aaa99aef6fe681a9d",
       "version_major": 2,
       "version_minor": 0
      },
      "text/plain": [
       "  0%|          | 0/1000 [00:00<?, ?it/s]"
      ]
     },
     "metadata": {},
     "output_type": "display_data"
    },
    {
     "data": {
      "application/vnd.jupyter.widget-view+json": {
       "model_id": "55a39357f5174672b080404ccd25d416",
       "version_major": 2,
       "version_minor": 0
      },
      "text/plain": [
       "  0%|          | 0/1000 [00:00<?, ?it/s]"
      ]
     },
     "metadata": {},
     "output_type": "display_data"
    },
    {
     "data": {
      "application/vnd.jupyter.widget-view+json": {
       "model_id": "d1b4116e18604956a162d47b9cdf0cef",
       "version_major": 2,
       "version_minor": 0
      },
      "image/png": "[encoded data removed]",
      "text/html": [
       "\n",
       "            <div style=\"display: inline-block;\">\n",
       "                <div class=\"jupyter-widgets widget-label\" style=\"text-align: center;\">\n",
       "                    Figure\n",
       "                </div>\n",
       "                <img src='data:image/png;base64,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' width=640.0/>\n",
       "            </div>\n",
       "        "
      ],
      "text/plain": [
       "Canvas(toolbar=Toolbar(toolitems=[('Home', 'Reset original view', 'home', 'home'), ('Back', 'Back to previous …"
      ]
     },
     "metadata": {},
     "output_type": "display_data"
    }
   ],
   "source": [
    "n_vals = np.array([50,100,150,200,250,300,350,400,450,500])\n",
    "tailfreqs = []\n",
    "beta_tailfreqs = []\n",
    "stds = []\n",
    "beta_stds = []\n",
    "\n",
    "t_arrays = []\n",
    "bt_arrays = []\n",
    "\n",
    "f,ax = plt.subplots()\n",
    "a_vals = []\n",
    "b_vals = []\n",
    "max_abs_difs = np.zeros_like(n_vals)\n",
    "\n",
    "for j in tqdm(range(0,len(n_vals))):\n",
    "    n = n_vals[j]\n",
    "    rv = rvs[2]\n",
    "    samplesUnif = (n**(1/3)) * np.array(gen_rv(rv,n,n_loops))\n",
    "    rv=rvs[3]\n",
    "    samplesBetaTrain = (n**(1/3)) * np.array(gen_rv(rv,n,n_loops))\n",
    "    samplesBetaTest = (n**(1/3)) * np.array(gen_rv(rv,n,n_loops))\n",
    "    eccsUnif = get_ecc(samplesUnif, 101,0.9)\n",
    "    eccsBetaTrain = get_ecc(samplesBetaTrain, 101,0.9)\n",
    "    eccsBetaTest = get_ecc(samplesBetaTest, 101,0.9)\n",
    "    eccsBetaTest2 = get_ecc(samplesBetaTest, 101,0.9)\n",
    "\n",
    "    eccs_unif_mean = np.mean(eccsUnif, axis= 0)\n",
    "    eccs_beta_mean = np.mean(eccsBetaTrain, axis = 0)\n",
    "    \n",
    "    ecc_dists_unif_beta_train = pairwise_distances(eccs_unif_mean.reshape(1,-1), eccsBetaTrain, n_jobs = -1, metric = spdists.chebyshev)\n",
    "    ecc_dists_unif_beta_test = pairwise_distances(eccs_unif_mean.reshape(1,-1), eccsBetaTest, n_jobs = -1, metric = spdists.chebyshev)\n",
    "    ecc_dists_beta_mean_test = pairwise_distances(eccs_beta_mean.reshape(1,-1), eccsBetaTest, n_jobs = -1, metric = spdists.chebyshev)\n",
    "    ecc_dists_beta_mean_test2 = pairwise_distances(eccs_beta_mean.reshape(1,-1), eccsBetaTest2, n_jobs = -1, metric = spdists.chebyshev)\n",
    "    \n",
    "    deviation_from_avg = np.abs(ecc_dists_unif_beta_test - np.mean(ecc_dists_unif_beta_train))\n",
    "    beta_deviation_from_avg = np.abs(ecc_dists_beta_mean_test - np.mean(ecc_dists_beta_mean_test2))\n",
    "    \n",
    "    ts = np.linspace(0, np.max(deviation_from_avg[0]),100)\n",
    "    bts = np.linspace(0, np.max(beta_deviation_from_avg[0]),100)\n",
    "    t_arrays.append(ts)\n",
    "    bt_arrays.append(bts)\n",
    "    tailfreqs.append([tail_frequency(deviation_from_avg[0],t) for t in ts])\n",
    "    beta_tailfreqs.append([tail_frequency(beta_deviation_from_avg[0],t) for t in bts])\n",
    "    stds.append(np.std(deviation_from_avg[0]))\n",
    "    beta_stds.append(np.std(beta_deviation_from_avg[0]))\n",
    "    \n",
    "    ax.plot(ts, [tail_frequency(deviation_from_avg[0],t) for t in ts], c= colors[j])\n",
    "    ax.plot(bts, [tail_frequency(beta_deviation_from_avg[0],t) for t in bts], c= colors[j], ls = \"--\")\n",
    "    #popt, pcov = curve_fit(func, [ts, [n_vals[j]]*len(ts)], [tail_frequency(deviation_from_avg[0],t) for t in ts], bounds=(0, [5,0.1]))\n",
    "    #ax.plot(ts,func([ts,np.array([n_vals[j]]*len(ts))], *popt), c=colors[j], ls=\"--\")\n",
    "    #ax.plot(ts,2*np.exp(-3*ts**2/(n_vals[j])), c=colors[j], ls=\"--\")\n",
    "    ax.set_ylim((-0.1,1.1))\n",
    "    #a_vals.append(popt[0])\n",
    "    #b_vals.append(popt[1])\n",
    "    max_abs_difs[j] = np.max(np.abs(np.mean(eccsBetaTrain, axis = 0)-eccs_unif_mean))\n",
    "    \n",
    "plt.show()"
   ]
  },
  {
   "cell_type": "code",
   "execution_count": 10,
   "metadata": {},
   "outputs": [
    {
     "data": {
      "application/vnd.jupyter.widget-view+json": {
       "model_id": "82f74b46ee734849b45d7f5278bc063a",
       "version_major": 2,
       "version_minor": 0
      },
      "text/plain": [
       "Canvas(toolbar=Toolbar(toolitems=[('Home', 'Reset original view', 'home', 'home'), ('Back', 'Back to previous …"
      ]
     },
     "metadata": {},
     "output_type": "display_data"
    },
    {
     "ename": "NameError",
     "evalue": "name 't_arrays' is not defined",
     "output_type": "error",
     "traceback": [
      "\u001b[1;31m---------------------------------------------------------------------------\u001b[0m",
      "\u001b[1;31mNameError\u001b[0m                                 Traceback (most recent call last)",
      "\u001b[1;32m<ipython-input-10-72c0b7d9cf45>\u001b[0m in \u001b[0;36m<module>\u001b[1;34m\u001b[0m\n\u001b[0;32m      1\u001b[0m \u001b[0mf\u001b[0m\u001b[1;33m,\u001b[0m\u001b[0max\u001b[0m \u001b[1;33m=\u001b[0m \u001b[0mplt\u001b[0m\u001b[1;33m.\u001b[0m\u001b[0msubplots\u001b[0m\u001b[1;33m(\u001b[0m\u001b[1;33m)\u001b[0m\u001b[1;33m\u001b[0m\u001b[1;33m\u001b[0m\u001b[0m\n\u001b[0;32m      2\u001b[0m \u001b[1;32mfor\u001b[0m \u001b[0mi\u001b[0m \u001b[1;32min\u001b[0m \u001b[0mrange\u001b[0m\u001b[1;33m(\u001b[0m\u001b[1;36m0\u001b[0m\u001b[1;33m,\u001b[0m\u001b[0mlen\u001b[0m\u001b[1;33m(\u001b[0m\u001b[0mn_vals\u001b[0m\u001b[1;33m)\u001b[0m\u001b[1;33m)\u001b[0m\u001b[1;33m:\u001b[0m\u001b[1;33m\u001b[0m\u001b[1;33m\u001b[0m\u001b[0m\n\u001b[1;32m----> 3\u001b[1;33m     \u001b[0max\u001b[0m\u001b[1;33m.\u001b[0m\u001b[0mplot\u001b[0m\u001b[1;33m(\u001b[0m\u001b[0mt_arrays\u001b[0m\u001b[1;33m[\u001b[0m\u001b[0mi\u001b[0m\u001b[1;33m]\u001b[0m\u001b[1;33m,\u001b[0m \u001b[0mtailfreqs\u001b[0m\u001b[1;33m[\u001b[0m\u001b[0mi\u001b[0m\u001b[1;33m]\u001b[0m\u001b[1;33m,\u001b[0m \u001b[0mlabel\u001b[0m \u001b[1;33m=\u001b[0m \u001b[0mn_vals\u001b[0m\u001b[1;33m[\u001b[0m\u001b[0mi\u001b[0m\u001b[1;33m]\u001b[0m\u001b[1;33m,\u001b[0m \u001b[0mc\u001b[0m \u001b[1;33m=\u001b[0m \u001b[0mcolors\u001b[0m\u001b[1;33m[\u001b[0m\u001b[0mi\u001b[0m\u001b[1;33m]\u001b[0m\u001b[1;33m)\u001b[0m\u001b[1;33m\u001b[0m\u001b[1;33m\u001b[0m\u001b[0m\n\u001b[0m\u001b[0;32m      4\u001b[0m     \u001b[0max\u001b[0m\u001b[1;33m.\u001b[0m\u001b[0mplot\u001b[0m\u001b[1;33m(\u001b[0m\u001b[0mbt_arrays\u001b[0m\u001b[1;33m[\u001b[0m\u001b[0mi\u001b[0m\u001b[1;33m]\u001b[0m\u001b[1;33m,\u001b[0m \u001b[0mbeta_tailfreqs\u001b[0m\u001b[1;33m[\u001b[0m\u001b[0mi\u001b[0m\u001b[1;33m]\u001b[0m\u001b[1;33m,\u001b[0m \u001b[0mc\u001b[0m \u001b[1;33m=\u001b[0m \u001b[0mcolors\u001b[0m\u001b[1;33m[\u001b[0m\u001b[0mi\u001b[0m\u001b[1;33m]\u001b[0m\u001b[1;33m,\u001b[0m \u001b[0mls\u001b[0m \u001b[1;33m=\u001b[0m \u001b[1;34m\"--\"\u001b[0m\u001b[1;33m)\u001b[0m\u001b[1;33m\u001b[0m\u001b[1;33m\u001b[0m\u001b[0m\n\u001b[0;32m      5\u001b[0m     \u001b[1;31m#ax.plot(t_arrays[i], 2*np.exp(-t_arrays[i]**2/n_vals[i]), c=colors[i], label = \"exp upper bound\", ls = \":\")\u001b[0m\u001b[1;33m\u001b[0m\u001b[1;33m\u001b[0m\u001b[1;33m\u001b[0m\u001b[0m\n",
      "\u001b[1;31mNameError\u001b[0m: name 't_arrays' is not defined"
     ]
    }
   ],
   "source": [
    "\n",
    "f,ax = plt.subplots()\n",
    "for i in range(0,len(n_vals)):\n",
    "    ax.plot(t_arrays[i], tailfreqs[i], label = n_vals[i], c = colors[i])\n",
    "    ax.plot(bt_arrays[i], beta_tailfreqs[i], c = colors[i], ls = \"--\")\n",
    "    #ax.plot(t_arrays[i], 2*np.exp(-t_arrays[i]**2/n_vals[i]), c=colors[i], label = \"exp upper bound\", ls = \":\")\n",
    "#ax.plot(ts, 2*np.exp(-0.005*(ts-2*max_abs_difs[-1])**2/n_vals[j]), ls=\"--\")\n",
    "ax.legend()\n",
    "ax.set_title(\"$P(|\\|\\chi(Y)-E_P\\|-E(\\|\\chi(Y)-E_P\\|)|>t)$ vs $P(|\\|\\chi(Y) - E_Q\\|-E(\\|\\chi(Y)-E_Q\\|)|>t)$\")\n",
    "plt.show()"
   ]
  },
  {
   "cell_type": "code",
   "execution_count": 19,
   "metadata": {},
   "outputs": [],
   "source": [
    "def func(x, a):\n",
    "    return a*np.sqrt(x)"
   ]
  },
  {
   "cell_type": "code",
   "execution_count": 21,
   "metadata": {},
   "outputs": [
    {
     "data": {
      "application/vnd.jupyter.widget-view+json": {
       "model_id": "9744e23134d84b7499eda97d835f655e",
       "version_major": 2,
       "version_minor": 0
      },
      "image/png": "[encoded data removed]",
      "text/html": [
       "\n",
       "            <div style=\"display: inline-block;\">\n",
       "                <div class=\"jupyter-widgets widget-label\" style=\"text-align: center;\">\n",
       "                    Figure\n",
       "                </div>\n",
       "                <img src='data:image/png;base64,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' width=640.0/>\n",
       "            </div>\n",
       "        "
      ],
      "text/plain": [
       "Canvas(toolbar=Toolbar(toolitems=[('Home', 'Reset original view', 'home', 'home'), ('Back', 'Back to previous …"
      ]
     },
     "metadata": {},
     "output_type": "display_data"
    }
   ],
   "source": [
    "popt, pcov = curve_fit(func, n_vals, stds, bounds=(0, 5))\n",
    "bopt, bcov = curve_fit(func, n_vals, beta_stds, bounds=(0, 5))\n",
    "\n",
    "f,ax = plt.subplots()\n",
    "ax.scatter(n_vals, stds, label = \"shifted stds\")\n",
    "ax.scatter(n_vals, beta_stds, label = \"centered stds\")\n",
    "x = np.linspace(0,500,501)\n",
    "ax.plot(x, func(x,popt))\n",
    "ax.plot(x, func(x,bopt))\n",
    "ax.legend()\n",
    "plt.show()"
   ]
  },
  {
   "cell_type": "code",
   "execution_count": 17,
   "metadata": {},
   "outputs": [
    {
     "data": {
      "application/vnd.jupyter.widget-view+json": {
       "model_id": "5c46877d65464d8ea4d578f03a19828d",
       "version_major": 2,
       "version_minor": 0
      },
      "image/png": "[encoded data removed]",
      "text/html": [
       "\n",
       "            <div style=\"display: inline-block;\">\n",
       "                <div class=\"jupyter-widgets widget-label\" style=\"text-align: center;\">\n",
       "                    Figure\n",
       "                </div>\n",
       "                <img src='data:image/png;base64,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' width=640.0/>\n",
       "            </div>\n",
       "        "
      ],
      "text/plain": [
       "Canvas(toolbar=Toolbar(toolitems=[('Home', 'Reset original view', 'home', 'home'), ('Back', 'Back to previous …"
      ]
     },
     "metadata": {},
     "output_type": "display_data"
    }
   ],
   "source": [
    "from scipy import interpolate\n",
    "i=-1\n",
    "f = interpolate.interp1d(t_arrays[i], tailfreqs[i])\n",
    "g = interpolate.interp1d(bt_arrays[i], beta_tailfreqs[i])\n",
    "fig,ax = plt.subplots()\n",
    "x=np.linspace(0,30,100)\n",
    "ax.plot(x,g(x)/f(x))\n",
    "plt.show()"
   ]
  },
  {
   "cell_type": "code",
   "execution_count": 17,
   "metadata": {},
   "outputs": [
    {
     "data": {
      "application/vnd.jupyter.widget-view+json": {
       "model_id": "263f3fc87edd41da8c7cc0763f514a90",
       "version_major": 2,
       "version_minor": 0
      },
      "image/png": "[encoded data removed]",
      "text/html": [
       "\n",
       "            <div style=\"display: inline-block;\">\n",
       "                <div class=\"jupyter-widgets widget-label\" style=\"text-align: center;\">\n",
       "                    Figure\n",
       "                </div>\n",
       "                <img src='data:image/png;base64,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' width=640.0/>\n",
       "            </div>\n",
       "        "
      ],
      "text/plain": [
       "Canvas(toolbar=Toolbar(toolitems=[('Home', 'Reset original view', 'home', 'home'), ('Back', 'Back to previous …"
      ]
     },
     "metadata": {},
     "output_type": "display_data"
    }
   ],
   "source": [
    "f,ax = plt.subplots()\n",
    "ax.scatter(n_vals, a_vals, label=\"a\")\n",
    "ax.scatter(n_vals, b_vals, label=\"b\")\n",
    "ax.scatter(n_vals, max_abs_difs/n_vals, label = \"max abs dif\")\n",
    "ax.legend()\n",
    "plt.show()"
   ]
  },
  {
   "cell_type": "code",
   "execution_count": 104,
   "metadata": {},
   "outputs": [
    {
     "name": "stdout",
     "output_type": "stream",
     "text": [
      "[1.2637774712702503, 0.9492599193951576, 0.9822911083705168, 0.8744260610211897, 0.7458925218667892, 0.8097794355719419, 0.8393698665460819, 0.6852388716253891, 1.0080281134590712, 0.69021529453798]\n",
      "[0.09999999999999999, 0.08658758680075888, 0.06915197737343678, 0.06115300020587013, 0.06060192713403648, 0.052527437052685144, 0.04738312350881669, 0.0502917663430039, 0.03903971835709629, 0.044687719757309424]\n",
      "[ 14  29  45  57  71  86 101 114 129 140]\n"
     ]
    }
   ],
   "source": [
    "print(a_vals)\n",
    "print(b_vals)\n",
    "print(max_abs_difs)"
   ]
  },
  {
   "cell_type": "code",
   "execution_count": 114,
   "metadata": {},
   "outputs": [
    {
     "name": "stdout",
     "output_type": "stream",
     "text": [
      "[ 7.28645 17.71355  8.71355  6.28645 14.28355 16.77855  6.16355 11.15355\n",
      " 15.50355 28.15355 14.91645 23.85145  1.46355  0.85855  2.28355  7.46355\n",
      "  9.22145  4.49645  5.93145  5.77855  5.53645 12.50355 15.22145 18.50355\n",
      " 13.22145  5.22145 11.80145 31.77855 27.14145 10.49645  7.85855 19.22145\n",
      "  7.22145 20.28645  8.85855 36.15355 11.15355  2.28355 17.19855  0.53645\n",
      "  2.19855 19.19855  8.80145  2.08355  5.80145 11.83645 12.14145 12.27145\n",
      "  8.80145  7.22145 17.49645  2.80145  4.84645 18.71355 15.71355 22.71355\n",
      " 16.22145  1.22145 10.77855 13.49645 14.22145  0.77855 23.28645 27.80145\n",
      "  3.28645  9.71355 14.19855 21.80145 15.83645  0.91645 15.19855  4.15355\n",
      "  9.77855  3.28645 15.71355 14.84645  2.49645 22.83645 10.08355 17.80145\n",
      "  7.85855  2.77855  0.22145 12.28645  0.71355  0.49645 30.22145  7.53645\n",
      "  8.71355 21.50355  6.85855  1.22145 10.50355 10.22145  5.22145  7.71355\n",
      "  1.22145 17.15355  4.27145  9.50355  3.49645 40.77855  3.19855 12.77855\n",
      "  6.84645 24.71355 10.46355  5.19855  0.77855 10.15355  7.19855  7.71355\n",
      "  5.19855  9.50355  2.80145  0.14145 10.84645 14.71645  6.77855 12.71355\n",
      " 12.14145 16.28645 23.84645  2.91355 34.28355 10.14855  0.84645 11.50355\n",
      "  5.15355  1.22145 23.84645 21.77855  9.15355 17.77855 18.49645 25.28645\n",
      " 17.91645 42.50355 38.83645  1.19855  0.71355 12.50355  4.49645  1.15355\n",
      "  7.85855  2.50355 28.77855  7.50355  3.53645  5.22145  0.19855 13.77855\n",
      "  4.08355  2.28645  4.19855 11.22145 22.83645  8.15355  3.53645 23.80145\n",
      "  6.77855 31.85145 21.53645 17.77855  2.16355  1.15355  1.22145 15.46355\n",
      " 18.91645  0.19855  2.71355 24.84645 10.46355  5.28645 15.22145 23.28355\n",
      " 13.22145 17.53645 10.16355  4.85855  9.15355  1.84645 25.71355 11.16355\n",
      " 17.28645 10.14145  8.77855  8.83645 22.71645 13.77855  0.71355  5.16355\n",
      "  6.22145  0.19855 19.77855 12.80145  0.15355  3.85855 16.71355 12.28645]\n",
      "[1.0984525e+01 3.8104750e+00 6.6345250e+00 9.3754750e+00 8.3095250e+00\n",
      " 4.2404750e+00 2.4504750e+00 6.6654750e+00 9.5475000e-02 1.1189525e+01\n",
      " 6.8952500e-01 4.0547500e-01 4.2304750e+00 1.0634525e+01 8.4904750e+00\n",
      " 6.6904750e+00 5.2995250e+00 5.6345250e+00 1.4354525e+01 1.6454750e+00\n",
      " 3.0254750e+00 1.0524525e+01 1.6445250e+00 1.8204750e+00 1.1004750e+00\n",
      " 1.0500475e+01 1.0900475e+01 1.3509525e+01 8.1195250e+00 6.4547500e-01\n",
      " 1.4504750e+00 1.1634525e+01 1.0815475e+01 1.0704750e+00 6.1504750e+00\n",
      " 1.8269525e+01 6.6454750e+00 2.0504750e+00 1.7454750e+00 2.6904750e+00\n",
      " 2.7095250e+00 1.0174525e+01 2.5045250e+00 9.8545250e+00 4.5245250e+00\n",
      " 5.3104750e+00 4.8495250e+00 1.1554750e+00 3.3545250e+00 7.4304750e+00\n",
      " 4.4054750e+00 9.3547500e-01 6.7954750e+00 5.7952500e-01 3.4754750e+00\n",
      " 1.2789525e+01 1.0209525e+01 1.2500475e+01 4.6254750e+00 1.9525000e-02\n",
      " 4.0504750e+00 7.0504750e+00 9.3695250e+00 1.5945250e+00 7.1054750e+00\n",
      " 2.2047500e-01 4.1554750e+00 4.0295250e+00 1.4954750e+00 3.6904750e+00\n",
      " 2.1047500e-01 6.8545250e+00 7.0504750e+00 4.1854750e+00 1.5795250e+00\n",
      " 7.4304750e+00 4.6204750e+00 1.3569525e+01 5.1695250e+00 8.2095250e+00\n",
      " 9.3745250e+00 1.0620475e+01 1.2390475e+01 1.0195475e+01 9.5004750e+00\n",
      " 8.2695250e+00 4.5245250e+00 7.9804750e+00 1.2355475e+01 3.5095250e+00\n",
      " 5.3304750e+00 7.6704750e+00 4.9952500e-01 3.3004750e+00 6.9004750e+00\n",
      " 1.1150475e+01 5.3545250e+00 1.9495250e+00 1.6504525e+01 8.8254750e+00\n",
      " 1.4820475e+01 1.8284525e+01 4.7454750e+00 5.9004750e+00 1.9525000e-02\n",
      " 3.1895250e+00 2.7954750e+00 4.6454750e+00 8.4452500e-01 6.5004750e+00\n",
      " 1.5004750e+00 1.9295250e+00 2.9754750e+00 4.4754750e+00 9.7954750e+00\n",
      " 3.9454750e+00 1.2505475e+01 3.0995250e+00 1.2730475e+01 5.7954750e+00\n",
      " 1.4754750e+00 8.5452500e-01 1.5245250e+00 2.1354525e+01 3.3269525e+01\n",
      " 1.2309525e+01 9.9525000e-02 9.2404750e+00 9.4504750e+00 5.4304750e+00\n",
      " 1.6095250e+00 8.1745250e+00 1.7795250e+00 3.6945250e+00 7.3104750e+00\n",
      " 1.0029525e+01 4.4054750e+00 2.1759525e+01 1.3119525e+01 1.9754750e+00\n",
      " 9.7004750e+00 5.6904750e+00 6.3504750e+00 7.3295250e+00 3.8254750e+00\n",
      " 9.4995250e+00 6.2845250e+00 9.3004750e+00 1.7045250e+00 1.4070475e+01\n",
      " 6.4995250e+00 7.5004750e+00 1.2904525e+01 8.5695250e+00 5.4954750e+00\n",
      " 9.9254750e+00 1.0209525e+01 6.6454750e+00 1.6704750e+00 3.3104750e+00\n",
      " 2.0504750e+00 1.5029525e+01 1.3104750e+00 1.8154750e+00 7.9495250e+00\n",
      " 3.7952500e-01 6.3904750e+00 1.0244525e+01 2.9547500e-01 4.0954750e+00\n",
      " 1.3920475e+01 1.9525000e-02 4.3754750e+00 1.4954750e+00 3.6454750e+00\n",
      " 1.4579525e+01 5.2095250e+00 5.0254750e+00 1.5495250e+00 5.8254750e+00\n",
      " 1.8309525e+01 5.7954750e+00 4.1895250e+00 4.0195250e+00 6.1195250e+00\n",
      " 1.1310475e+01 3.0952500e-01 6.3904750e+00 3.6895250e+00 8.1504750e+00\n",
      " 1.1295475e+01 6.1795250e+00 8.6154750e+00 2.1504750e+00 1.7304750e+00\n",
      " 1.6354525e+01 3.9045250e+00 2.5045250e+00 4.8104750e+00 6.2047500e-01]\n"
     ]
    }
   ],
   "source": [
    "print(deviation_from_avg[0])\n",
    "ecc_mean_beta_train = np.mean(eccsBetaTrain, axis = 0)\n",
    "ecc_dists_beta_test_to_mean_beta_train = pairwise_distances(ecc_mean_beta_train.reshape(1,-1), eccsBetaTest, n_jobs = -1, metric = spdists.chebyshev)\n",
    "deviation_from_Q_avg = np.abs(ecc_dists_beta_test_to_mean_beta_train[0]-np.mean(ecc_dists_beta_test_to_mean_beta_train))\n",
    "print(deviation_from_Q_avg)"
   ]
  },
  {
   "cell_type": "code",
   "execution_count": 119,
   "metadata": {},
   "outputs": [
    {
     "data": {
      "application/vnd.jupyter.widget-view+json": {
       "model_id": "6494de8ad90a42f9ad0bb38a0cd244e3",
       "version_major": 2,
       "version_minor": 0
      },
      "image/png": "[encoded data removed]",
      "text/html": [
       "\n",
       "            <div style=\"display: inline-block;\">\n",
       "                <div class=\"jupyter-widgets widget-label\" style=\"text-align: center;\">\n",
       "                    Figure\n",
       "                </div>\n",
       "                <img src='data:image/png;base64,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' width=640.0/>\n",
       "            </div>\n",
       "        "
      ],
      "text/plain": [
       "Canvas(toolbar=Toolbar(toolitems=[('Home', 'Reset original view', 'home', 'home'), ('Back', 'Back to previous …"
      ]
     },
     "metadata": {},
     "output_type": "display_data"
    }
   ],
   "source": [
    "f,ax = plt.subplots()\n",
    "#ax.scatter(range(0,len(deviation_from_avg[0])), deviation_from_avg)\n",
    "ax.scatter(deviation_from_avg, deviation_from_Q_avg+2*np.max(np.abs(np.mean(eccsBetaTrain, axis = 0)-eccs_unif_mean)))\n",
    "ax.axline((0,0), slope = 1)\n",
    "plt.show()"
   ]
  }
 ],
 "metadata": {
  "kernelspec": {
   "display_name": "Python 3.7.6 ('base')",
   "language": "python",
   "name": "python3"
  },
  "language_info": {
   "codemirror_mode": {
    "name": "ipython",
    "version": 3
   },
   "file_extension": ".py",
   "mimetype": "text/x-python",
   "name": "python",
   "nbconvert_exporter": "python",
   "pygments_lexer": "ipython3",
   "version": "3.7.6"
  },
  "vscode": {
   "interpreter": {
    "hash": "d9afb6b688e7dd77db3bffa01ffc2bc117fca9c663fc228558b76627c9c64d5e"
   }
  }
 },
 "nbformat": 4,
 "nbformat_minor": 4
}
