{
 "cells": [
  {
   "cell_type": "code",
   "execution_count": 1,
   "metadata": {},
   "outputs": [],
   "source": [
    "import gudhi as gd\n",
    "from gudhi import representations\n",
    "import numpy as np\n",
    "import numpy.random\n",
    "import matplotlib.pyplot as plt\n",
    "import pingouin as pg\n",
    "import scipy.stats as st\n",
    "from collections import defaultdict\n",
    "from sklearn.metrics import pairwise_distances\n",
    "from sklearn.metrics.pairwise import paired_distances\n",
    "from tqdm.notebook import tqdm\n",
    "import scipy.spatial.distance as spdists\n",
    "from scipy.stats import ks_2samp\n",
    "from scipy.special import binom\n",
    "from pyEulerCurves import ECC_from_pointcloud\n",
    "from bifiltration_utils import wasserstein_distance_ECP, bottleneck_distance_ECP\n",
    "import math\n",
    "from scipy.interpolate import interp1d\n",
    "\n",
    "#from curlyBrace import curlyBrace\n",
    "#%matplotlib widget"
   ]
  },
  {
   "cell_type": "code",
   "execution_count": 2,
   "metadata": {},
   "outputs": [],
   "source": [
    "def sampled_ecc_alpha(pointcloud, n_samples, max_filt_val):\n",
    "    ac = gd.AlphaComplex(points = pointcloud)\n",
    "    st = ac.create_simplex_tree()\n",
    "    filt_values = np.linspace(0,max_filt_val,n_samples)\n",
    "    ecc_values = np.zeros_like(filt_values)\n",
    "    simplices = list(st.get_filtration())\n",
    "    cur_val = 0\n",
    "    i=0\n",
    "    for (j,t) in enumerate(filt_values):\n",
    "        while (i<len(simplices)) and (np.sqrt(simplices[i][1])<=t):\n",
    "            cur_val=cur_val +(-1)**(len(simplices[i][0])-1)\n",
    "            i = i+1\n",
    "        #print(t, cur_val)\n",
    "        ecc_values[j] = cur_val\n",
    "        \n",
    "    return ecc_values\n",
    "\n",
    "def sampled_bc_alpha(pointcloud, n_samples, max_filt_val, dim=0):\n",
    "    ac = gd.AlphaComplex(points = pointcloud)\n",
    "    st = ac.create_simplex_tree()\n",
    "    st.compute_persistence()\n",
    "    barcode = st.persistence_intervals_in_dimension(dim)\n",
    "    bc = representations.BettiCurve(predefined_grid=np.linspace(0,max_filt_val,n_samples))\n",
    "    return bc.fit_transform([barcode])[0]\n",
    "def get_ecc(data, n_samples, max_filt_val):\n",
    "    eccs = []\n",
    "    for dat in tqdm(data):\n",
    "        ec = sampled_ecc_alpha(dat, n_samples, max_filt_val)\n",
    "        eccs.append(ec)\n",
    "    return eccs\n",
    "def ecc_distance(samples1, samples2, n_samples, max_filt_val):\n",
    "    ECCs1 = get_ecc(samples1, n_samples = n_samples, max_filt_val = max_filt_val)\n",
    "    ECCs2 = get_ecc(samples2, n_samples = n_samples, max_filt_val = max_filt_val)\n",
    "    #dists = paired_distances(ECCs1,ECCs2, n_jobs=-1, metric = spdists.chebyshev)\n",
    "    dists = np.maximum(ECCs1-ECCs2)+np.maximum(ECCs2-ECCs1)\n",
    "    return dists\n",
    "    #dists = dists *(max_filt_val/(n_samples-1))\n",
    "    #return dists.flatten()\n",
    "def gen_rv(rv, dim, N, n_samples):\n",
    "\n",
    "    return [N**(1/dim)*np.array([rv.rvs(N) for _ in range(dim)]).T for i in range(n_samples)]\n",
    "\n",
    "def gen_multivariate_normal_rv(loc,cov,N,n_samples):\n",
    "    dim = len(loc)\n",
    "    return [N**(1/dim)*st.multivariate_normal(loc,cov).rvs(N) for i in range(n_samples)]\n",
    "\n",
    "def eecc(dim, n, n_itereations,rv=st.uniform()):\n",
    "    r=np.linspace(0,2,1024)\n",
    "    pointclouds = gen_rv(rv,dim,n,n_itereations)\n",
    "    eccs = get_ecc(pointclouds,len(r),r[-1])\n",
    "    avg_unif_ecc_fn  = interp1d(r,np.mean(eccs,axis=0)/n)\n",
    "    return avg_unif_ecc_fn\n",
    "\n",
    "\n",
    "def multivariate_normal_eecc(loc, cov, n, n_itereations,rv=st.uniform()):\n",
    "    r=np.linspace(0,2,1024)\n",
    "    pointclouds = gen_multivariate_normal_rv(loc,cov,n,n_itereations)\n",
    "    eccs = get_ecc(pointclouds,len(r),r[-1])\n",
    "    avg_unif_ecc_fn  = interp1d(r,np.mean(eccs,axis=0)/n)\n",
    "    return avg_unif_ecc_fn"
   ]
  },
  {
   "cell_type": "code",
   "execution_count": 40,
   "metadata": {},
   "outputs": [
    {
     "data": {
      "application/vnd.jupyter.widget-view+json": {
       "model_id": "a93234e222124462852013cd35330aa2",
       "version_major": 2,
       "version_minor": 0
      },
      "text/plain": [
       "  0%|          | 0/1024 [00:00<?, ?it/s]"
      ]
     },
     "metadata": {},
     "output_type": "display_data"
    },
    {
     "data": {
      "application/vnd.jupyter.widget-view+json": {
       "model_id": "09d323b1153e4c6c86e97b4b5bfbf08d",
       "version_major": 2,
       "version_minor": 0
      },
      "text/plain": [
       "  0%|          | 0/1024 [00:00<?, ?it/s]"
      ]
     },
     "metadata": {},
     "output_type": "display_data"
    }
   ],
   "source": [
    "n=10000\n",
    "n_loops = 1024\n",
    "\n",
    "rv_unif = st.uniform(0,4)\n",
    "rv_norm = st.multivariate_normal([0,0],[[1,0],[0,1]])\n",
    "\n",
    "samples_unif = n*np.array([rv_unif.rvs(n).reshape(-1,1) for _ in range(n_loops)])\n",
    "samples_norm = n**(0.5)*np.array([rv_norm.rvs(n) for _ in range(n_loops)])\n",
    "\n",
    "steps = 4096\n",
    "maxfilt = 8\n",
    "\n",
    "\n",
    "eccs_unif = get_ecc(samples_unif,steps,maxfilt)\n",
    "eccs_norm1 = get_ecc(samples_norm,steps,maxfilt)\n",
    "\n"
   ]
  },
  {
   "cell_type": "code",
   "execution_count": 41,
   "metadata": {},
   "outputs": [],
   "source": [
    "r=np.linspace(0,maxfilt,steps)\n",
    "\n",
    "eccs_norm = [interp1d(r, chi)(r**(0.5)) for chi in eccs_norm1]\n",
    "\n",
    "eecc_unif = interp1d(r,np.mean(eccs_unif,axis=0))\n",
    "eecc_norm = interp1d(r,np.mean(eccs_norm,axis=0))\n",
    "\n",
    "\n",
    "\n",
    "eccs_mean = [eecc_unif(r),eecc_norm(r)]\n",
    "eccs2 = [eccs_unif,eccs_norm]\n",
    "\n",
    "dists = np.zeros((2,2,n_loops))\n",
    "for i in range(2):\n",
    "    for j in range(2):\n",
    "        dists[i,j]=pairwise_distances(eccs_mean[i].reshape(1,-1), eccs2[j], n_jobs = -1, metric = spdists.chebyshev)"
   ]
  },
  {
   "cell_type": "code",
   "execution_count": 42,
   "metadata": {},
   "outputs": [
    {
     "name": "stdout",
     "output_type": "stream",
     "text": [
      "[[0.05078125 0.39746094]\n",
      " [0.00097656 0.05078125]]\n"
     ]
    }
   ],
   "source": [
    "thresh_unif = np.quantile(dists[0,0],0.95)\n",
    "thresh_norm = np.quantile(dists[1,1],0.95)\n",
    "\n",
    "threshs = [thresh_unif, thresh_norm]\n",
    "\n",
    "power = np.zeros((2,2))\n",
    "for i in range(2):\n",
    "    for j in range(2):\n",
    "        power[i,j] = np.sum(dists[i,j]>threshs[i])/n_loops\n",
    "\n",
    "print(power)"
   ]
  },
  {
   "cell_type": "code",
   "execution_count": 43,
   "metadata": {},
   "outputs": [
    {
     "data": {
      "image/png": "[encoded data removed]",
      "text/plain": [
       "<Figure size 1000x500 with 3 Axes>"
      ]
     },
     "metadata": {},
     "output_type": "display_data"
    }
   ],
   "source": [
    "f,ax = plt.subplots(1,2,figsize=(10,5))\n",
    "ax[0].plot(r,eecc_unif(r), label='unif')\n",
    "ax[0].plot(r,eecc_norm(r), label='norm')\n",
    "ax[0].legend()\n",
    "\n",
    "im=ax[1].imshow(power)\n",
    "plt.colorbar(im)\n",
    "plt.show()"
   ]
  },
  {
   "cell_type": "code",
   "execution_count": null,
   "metadata": {},
   "outputs": [],
   "source": []
  }
 ],
 "metadata": {
  "kernelspec": {
   "display_name": "TopoTests",
   "language": "python",
   "name": "python3"
  },
  "language_info": {
   "codemirror_mode": {
    "name": "ipython",
    "version": 3
   },
   "file_extension": ".py",
   "mimetype": "text/x-python",
   "name": "python",
   "nbconvert_exporter": "python",
   "pygments_lexer": "ipython3",
   "version": "3.10.8"
  }
 },
 "nbformat": 4,
 "nbformat_minor": 2
}
