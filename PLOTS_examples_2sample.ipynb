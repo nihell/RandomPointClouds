{
 "cells": [
  {
   "cell_type": "code",
   "execution_count": 1,
   "id": "0413f452-2507-4c29-8042-be20040a8a41",
   "metadata": {},
   "outputs": [
    {
     "ename": "ModuleNotFoundError",
     "evalue": "No module named 'mpl_toolkits.axes_grid'",
     "output_type": "error",
     "traceback": [
      "\u001b[0;31m---------------------------------------------------------------------------\u001b[0m",
      "\u001b[0;31mModuleNotFoundError\u001b[0m                       Traceback (most recent call last)",
      "Cell \u001b[0;32mIn[1], line 14\u001b[0m\n\u001b[1;32m     12\u001b[0m \u001b[39mimport\u001b[39;00m \u001b[39mscipy\u001b[39;00m\u001b[39m.\u001b[39;00m\u001b[39mspatial\u001b[39;00m\u001b[39m.\u001b[39;00m\u001b[39mdistance\u001b[39;00m \u001b[39mas\u001b[39;00m \u001b[39mspdists\u001b[39;00m\n\u001b[1;32m     13\u001b[0m \u001b[39mimport\u001b[39;00m \u001b[39mmpl_toolkits\u001b[39;00m\n\u001b[0;32m---> 14\u001b[0m \u001b[39mfrom\u001b[39;00m \u001b[39mmpl_toolkits\u001b[39;00m\u001b[39m.\u001b[39;00m\u001b[39maxes_grid\u001b[39;00m\u001b[39m.\u001b[39;00m\u001b[39minset_locator\u001b[39;00m \u001b[39mimport\u001b[39;00m (inset_axes, InsetPosition,\n\u001b[1;32m     15\u001b[0m                                                   mark_inset)\n\u001b[1;32m     16\u001b[0m \u001b[39m#from curlyBrace import curlyB\u001b[39;00m\n",
      "\u001b[0;31mModuleNotFoundError\u001b[0m: No module named 'mpl_toolkits.axes_grid'"
     ]
    }
   ],
   "source": [
    "import gudhi as gd\n",
    "from gudhi import representations\n",
    "import numpy as np\n",
    "import numpy.random\n",
    "import matplotlib.pyplot as plt\n",
    "import pingouin as pg\n",
    "import scipy.stats as st\n",
    "from collections import defaultdict\n",
    "from sklearn.metrics import pairwise_distances\n",
    "from sklearn.metrics.pairwise import paired_distances\n",
    "from tqdm.notebook import tqdm\n",
    "import scipy.spatial.distance as spdists\n",
    "import mpl_toolkits\n",
    "from mpl_toolkits.axes_grid.inset_locator import (inset_axes, InsetPosition,\n",
    "                                                  mark_inset)\n",
    "#from curlyBrace import curlyB"
   ]
  },
  {
   "cell_type": "code",
   "execution_count": null,
   "id": "5cd5e20a-08f7-44be-99b2-9d307a3cf982",
   "metadata": {},
   "outputs": [
    {
     "name": "stderr",
     "output_type": "stream",
     "text": [
      "/home/rafal/WORK/IMPAN/Distributions/venv/lib/python3.8/site-packages/outdated/utils.py:14: OutdatedPackageWarning: The package pingouin is out of date. Your version is 0.5.0, the latest is 0.5.2.\n",
      "Set the environment variable OUTDATED_IGNORE=1 to disable these warnings.\n",
      "  return warn(\n"
     ]
    }
   ],
   "source": [
    "cm2in = 1/2.54\n",
    "params = {'text.usetex' : True,\n",
    "          'font.size' : 11,\n",
    "          'font.family' : 'lmodern',\n",
    "          'xtick.major.size': 4,\n",
    "          'xtick.minor.size': 2,\n",
    "          'ytick.major.size': 4,\n",
    "          'ytick.minor.size': 2,\n",
    "          'axes.linewidth'  : 0.75,\n",
    "          'legend.fontsize'     : 10,\n",
    "          'legend.handlelength' : 1.0,\n",
    "          'legend.frameon'      : True,\n",
    "          'legend.labelspacing' : 0.2,\n",
    "          'legend.handletextpad':0.2,\n",
    "          'legend.borderaxespad' : 0.2,\n",
    "          'legend.framealpha'    : 1,\n",
    "          'legend.facecolor'     : 'w',\n",
    "          'figure.figsize': (13*cm2in, 10*cm2in),\n",
    "          'axes.grid'           : True,\n",
    "          'axes.axisbelow'      : True,\n",
    "          'grid.linestyle'   :   '--',\n",
    "          'grid.linewidth'   :   0.5\n",
    "          }\n",
    "plt.rcParams.update(params)"
   ]
  },
  {
   "cell_type": "code",
   "execution_count": null,
   "id": "7207b265-bbe8-482c-8ac3-707328a60bae",
   "metadata": {},
   "outputs": [],
   "source": [
    "def sampled_ecc_alpha(pointcloud, n_samples, max_filt_val):\n",
    "    ac = gd.AlphaComplex(points = pointcloud)\n",
    "    st = ac.create_simplex_tree()\n",
    "    filt_values = np.linspace(0,max_filt_val,n_samples)\n",
    "    ecc_values = np.zeros_like(filt_values)\n",
    "    simplices = list(st.get_filtration())\n",
    "    cur_val = 0\n",
    "    i=0\n",
    "    for (j,t) in enumerate(filt_values):\n",
    "        while (i<len(simplices)) and (simplices[i][1]<=t):\n",
    "            cur_val=cur_val +(-1)**(len(simplices[i][0])-1)\n",
    "            i = i+1\n",
    "        #print(t, cur_val)\n",
    "        ecc_values[j] = cur_val\n",
    "        \n",
    "    return ecc_values\n",
    "\n",
    "\n",
    "def get_ecc(data, n_samples, max_filt_val):\n",
    "    eccs = []\n",
    "    for dat in tqdm(data):\n",
    "        ec = sampled_ecc_alpha(dat, n_samples, max_filt_val)\n",
    "        eccs.append(ec)\n",
    "    return eccs\n",
    "\n",
    "\n",
    "\n",
    "def two_sample_ecc_test(X,Y, n_loops, steps, maxfilt):\n",
    "    ecX = sampled_ecc_alpha(len(X)**(1/2)*X, steps,maxfilt)/len(X)\n",
    "    ecY = sampled_ecc_alpha(len(Y)**(1/2)*Y, steps,maxfilt)/len(Y)\n",
    "    D = np.max(np.abs(ecY - ecX))\n",
    "    pool = np.concatenate((X,Y), axis = 0)\n",
    "    pv = 0\n",
    "\n",
    "    for p in tqdm(range(0,n_loops)):\n",
    "        permuted_pool = np.random.permutation(pool)\n",
    "        Xp = permuted_pool[:len(X)]\n",
    "        Yp = permuted_pool[len(X):]\n",
    "\n",
    "        ecXp = sampled_ecc_alpha(len(X)**(1/2)*Xp, steps,maxfilt)/len(X)\n",
    "        ecYp = sampled_ecc_alpha(len(Y)**(1/2)*Yp, steps,maxfilt)/len(Y)\n",
    "        dp = np.max(np.abs(ecXp - ecYp))\n",
    "        if (dp>D):\n",
    "            pv = pv + 1.0/n_loops\n",
    "\n",
    "    return (pv)"
   ]
  },
  {
   "cell_type": "code",
   "execution_count": null,
   "id": "8fe978e4-1cef-4e2d-bb13-7355a917c8bf",
   "metadata": {},
   "outputs": [
    {
     "data": {
      "image/png": "[encoded data removed]",
      "text/plain": [
       "<Figure size 540x360 with 2 Axes>"
      ]
     },
     "metadata": {
      "needs_background": "light"
     },
     "output_type": "display_data"
    }
   ],
   "source": [
    "np.random.seed(seed=15)\n",
    "rv_uniform = st.uniform()\n",
    "rv_beta = st.beta(3,3)\n",
    "n_loops = 1000\n",
    "\n",
    "n = 50\n",
    "m = 30\n",
    "d = 2\n",
    "steps = 1001\n",
    "maxfilt = 3\n",
    "\n",
    "radii = np.linspace(0,maxfilt,steps)\n",
    "X = np.array([rv_uniform.rvs(m), rv_uniform.rvs(m)]).T\n",
    "Y = np.array([rv_uniform.rvs(n), rv_uniform.rvs(n)]).T\n",
    "\n",
    "# f,ax1= plt.subplots(1,1, figsize = (5, 5))\n",
    "# ax1.scatter(X[:,0], X[:,1], label =\"$X$\", color=\"black\")\n",
    "# ax1.scatter(Y[:,0], Y[:,1], label =\"$Y$\", color=\"tab:red\")\n",
    "# ax1.legend(loc='upper right')\n",
    "# ax1.set_xlabel(r\" \", fontsize=15)\n",
    "# ax1.set_ylabel(r\" \", fontsize=15)\n",
    "# plt.savefig(\"2sample-H0-unif-vs-unif-square-n50.pdf\", box_inches='tight')\n",
    "#print(two_sample_ecc_test(X,Y, n_loops, steps, maxfilt))\n",
    "\n",
    "\n",
    "ecX = sampled_ecc_alpha(len(X)**(1/2)*X, steps,maxfilt)/len(X)\n",
    "ecY = sampled_ecc_alpha(len(Y)**(1/2)*Y, steps,maxfilt)/len(Y)\n",
    "supdist = np.max(np.abs(ecX - ecY))\n",
    "suparg = np.argmax(np.abs(ecX - ecY))\n",
    "\n",
    "width = 7.5\n",
    "height = 5\n",
    "f,ax = plt.subplots(figsize = (width, height))\n",
    "ax.plot(radii, ecX, label = \"$\\chi(\\mathcal{A}_r(X))$, \" + '$X \\sim \\mathcal{U}(0,1) \\\\times \\mathcal{U}(0,1)$, $|X|$ = 30', color=\"black\")\n",
    "ax.plot(radii, ecY, label = \"$\\chi(\\mathcal{A}_r(Y))$, \" + '$\\,Y \\sim \\mathcal{U}(0,1) \\\\times \\mathcal{U}(0,1)$, $|Y|$\\, = 50', color=\"tab:red\")\n",
    "#ax.plot(radii, ecX, label = \"$\\chi(\\mathcal{A}_r(X))$\", color=\"black\")\n",
    "#ax.plot(radii, ecY, label = \"$\\chi(\\mathcal{A}_r(Y))$\", color=\"tab:red\")\n",
    "\n",
    "# ax2 = plt.axes([0,0,1,1])\n",
    "# ip = InsetPosition(ax1, [0.65,0.29,0.5*height/width,0.5])\n",
    "# ax2.set_axes_locator(ip)\n",
    "# ax2.scatter(X[:,0], X[:,1], color=\"black\")\n",
    "# ax2.scatter(Y[:,0], Y[:,1], color=\"tab:red\")\n",
    "# ax2.set_xlim((-0.03,1.03))\n",
    "# ax2.set_ylim((-0.03,1.03))\n",
    "# ax2.grid(linewidth=0)\n",
    "\n",
    "ax2 = f.add_axes([0.62,0.32,0.39*height/width,0.39])\n",
    "ax2.scatter(X[:,0], X[:,1], color=\"black\")\n",
    "ax2.scatter(Y[:,0], Y[:,1], color=\"tab:red\")\n",
    "ax2.set_xlim((-0.03,1.03))\n",
    "ax2.set_ylim((-0.03,1.03))\n",
    "ax2.grid(linewidth=0)\n",
    "\n",
    "arrow_center = (ecX[suparg] + ecY[suparg])/2\n",
    "arrow_top = np.max([ecX[suparg], ecY[suparg]])\n",
    "arrow_bottom = np.min([ecX[suparg], ecY[suparg]])\n",
    "arrow_x = radii[suparg]\n",
    "\n",
    "# ax.arrow(arrow_x, arrow_center, 0, arrow_top-arrow_center, head_width=0.025, color='blue', length_includes_head=True, zorder=20)\n",
    "# ax.arrow(arrow_x, arrow_center, 0, arrow_bottom-arrow_center, head_width=0.025, color='blue', length_includes_head=True, zorder=20)\n",
    "# ax.annotate(\"$\\sup_r |\\chi(\\mathcal{A}_r(X)) - \\chi(\\mathcal{A}_r(Y))|$ =\" + f'{supdist:.3f}', fontsize = 15, \n",
    "#              xy=(radii[suparg],0.5*(ecX[suparg]+ecY[suparg])),xycoords=\"data\",\n",
    "#              xytext = (radii[suparg]+0.1,0.5*(ecX[suparg]+ecY[suparg])),\n",
    "#              textcoords=\"data\",arrowprops={\"arrowstyle\":\"-[, widthB={}\".format(supdist/9.0), \n",
    "#                                            \"connectionstyle\":\"arc3\",\"shrinkA\":1,\"shrinkB\":2, \"color\":\"black\"})\n",
    "ax.annotate(\"$\\sup_r |\\chi(\\mathcal{A}_r(X)) - \\chi(\\mathcal{A}_r(Y))|$ =\" + f'{supdist:.3f}', fontsize = 12.5, \n",
    "             xy=(radii[suparg],arrow_center),xycoords=\"data\",\n",
    "             xytext = (radii[suparg]+0.1,arrow_center ),\n",
    "             textcoords=\"data\",arrowprops={\"arrowstyle\":\"-[, widthB={}\".format(supdist/9*67),  #*67 selected by trial and error\n",
    "                                           \"connectionstyle\":\"arc3\",\"shrinkA\":1,\"shrinkB\":2, \"color\":\"blue\"})\n",
    "ax.legend(fontsize=14)\n",
    "ax.set_xlabel('Filtration '+r'$r$', fontsize=15)\n",
    "ax.set_ylabel('Euler Characteristic Curve', fontsize=15)\n",
    "ax.set_xlim((0, 2.2))\n",
    "plt.savefig(\"2sample-H0-ECC-unif-vs-unif-n50-supdist.svg\", bbox_inches='tight')\n",
    "plt.show()"
   ]
  },
  {
   "cell_type": "code",
   "execution_count": null,
   "id": "fc9ea115-d4b9-448f-a414-89f08808eb59",
   "metadata": {},
   "outputs": [
    {
     "data": {
      "application/vnd.jupyter.widget-view+json": {
       "model_id": "1926b7e189834e8d87a7dd857dae4dcb",
       "version_major": 2,
       "version_minor": 0
      },
      "text/plain": [
       "  0%|          | 0/1000 [00:00<?, ?it/s]"
      ]
     },
     "metadata": {},
     "output_type": "display_data"
    },
    {
     "name": "stdout",
     "output_type": "stream",
     "text": [
      "0\n"
     ]
    },
    {
     "data": {
      "image/png": "[encoded data removed]",
      "text/plain": [
       "<Figure size 540x360 with 2 Axes>"
      ]
     },
     "metadata": {
      "needs_background": "light"
     },
     "output_type": "display_data"
    }
   ],
   "source": [
    "np.random.seed(seed=100)\n",
    "rv_uniform = st.uniform()\n",
    "rv_beta = st.beta(3,3)\n",
    "n_loops = 1000\n",
    "\n",
    "n = 50\n",
    "m = 30\n",
    "d = 2\n",
    "steps = 1001\n",
    "maxfilt = 3\n",
    "\n",
    "radii = np.linspace(0,maxfilt,steps)\n",
    "X = np.array([rv_uniform.rvs(m), rv_uniform.rvs(m)]).T\n",
    "Y = np.array([rv_beta.rvs(n), rv_uniform.rvs(n)]).T\n",
    "\n",
    "# f,ax1= plt.subplots(1,1, figsize = (5, 5))\n",
    "# ax1.scatter(X[:,0], X[:,1], label =\"$X$\", color=\"black\")\n",
    "# ax1.scatter(Y[:,0], Y[:,1], label =\"$Y$\", color=\"tab:red\")\n",
    "# ax1.legend(loc='upper right')\n",
    "# ax1.set_xlabel(r\" \", fontsize=15)\n",
    "# ax1.set_ylabel(r\" \", fontsize=15)\n",
    "# plt.savefig(\"2sample-H1-unif-vs-beta-square-n50.pdf\", box_inches='tight')\n",
    "print(two_sample_ecc_test(X,Y, n_loops, steps, maxfilt))\n",
    "\n",
    "\n",
    "ecX = sampled_ecc_alpha(len(X)**(1/2)*X, steps,maxfilt)/len(X)\n",
    "ecY = sampled_ecc_alpha(len(Y)**(1/2)*Y, steps,maxfilt)/len(Y)\n",
    "supdist = np.max(np.abs(ecX - ecY))\n",
    "suparg = np.argmax(np.abs(ecX - ecY))\n",
    "\n",
    "width = 7.5\n",
    "height = 5\n",
    "f,ax = plt.subplots(figsize = (width, height))\n",
    "ax.plot(radii, ecX, label = \"$\\chi(\\mathcal{A}_r(X))$, \" + '$X \\sim \\mathcal{U}(0,1) \\\\times \\mathcal{U}(0,1)$, $|X|$ = 30', color=\"black\")\n",
    "ax.plot(radii, ecY, label = \"$\\chi(\\mathcal{A}_r(Y))$, \" + '$\\,Y \\sim \\\\beta(3, 3) \\\\times \\mathcal{U}(0,1)$,\\, $|Y|$\\, = 50', color=\"tab:red\")\n",
    "\n",
    "# ax2 = plt.axes([0,0,1,1])\n",
    "# ip = InsetPosition(ax1, [0.65,0.29,0.5*height/width,0.5])\n",
    "# ax2.set_axes_locator(ip)\n",
    "# ax2.scatter(X[:,0], X[:,1], color=\"black\")\n",
    "# ax2.scatter(Y[:,0], Y[:,1], color=\"tab:red\")\n",
    "# ax2.set_xlim((-0.03,1.03))\n",
    "# ax2.set_ylim((-0.03,1.03))\n",
    "# ax2.grid(linewidth=0)\n",
    "\n",
    "ax2 = f.add_axes([0.62,0.32,0.39*height/width,0.39])\n",
    "ax2.scatter(X[:,0], X[:,1], color=\"black\")\n",
    "ax2.scatter(Y[:,0], Y[:,1], color=\"tab:red\")\n",
    "ax2.set_xlim((-0.03,1.03))\n",
    "ax2.set_ylim((-0.03,1.03))\n",
    "ax2.grid(linewidth=0)\n",
    "\n",
    "\n",
    "arrow_center = (ecX[suparg] + ecY[suparg])/2\n",
    "arrow_top = np.max([ecX[suparg], ecY[suparg]])\n",
    "arrow_bottom = np.min([ecX[suparg], ecY[suparg]])\n",
    "arrow_x = radii[suparg]\n",
    "\n",
    "#ax.arrow(arrow_x, arrow_center, 0, arrow_top-arrow_center, head_width=0.025, color='blue', length_includes_head=True, zorder=20)\n",
    "#ax.arrow(arrow_x, arrow_center, 0, arrow_bottom-arrow_center, head_width=0.025, color='blue', length_includes_head=True, zorder=20)\n",
    "ax.annotate(\"$\\sup_r |\\chi(\\mathcal{A}_r(X)) - \\chi(\\mathcal{A}_r(Y))|$ =\" + f'{supdist:.3f}', fontsize = 12.2, \n",
    "             xy=(radii[suparg],arrow_center),xycoords=\"data\",\n",
    "             xytext = (radii[suparg]+0.1,arrow_center ),\n",
    "             textcoords=\"data\",arrowprops={\"arrowstyle\":\"-[, widthB={}\".format(supdist/9*80),  #*67 selected by trial and error\n",
    "                                           \"connectionstyle\":\"arc3\",\"shrinkA\":1,\"shrinkB\":2, \"color\":\"blue\"})\n",
    "ax.legend(fontsize=14)\n",
    "ax.set_xlabel('Filtration '+r'$r$', fontsize=15)\n",
    "ax.set_ylabel('Euler Characteristic Curve', fontsize=15)\n",
    "plt.savefig(\"2sample-H1-ECC-unif-vs-unif-n50-supdist.svg\", bbox_inches='tight')\n",
    "ax.set_xlim((0, 2.2))\n",
    "plt.show()"
   ]
  },
  {
   "cell_type": "markdown",
   "id": "ca2af077-9db2-4c80-8954-f480a81efae2",
   "metadata": {},
   "source": [
    "# Plots for 1sample"
   ]
  },
  {
   "cell_type": "code",
   "execution_count": null,
   "id": "78c1f3da-50af-4b51-9d95-3cbf42872459",
   "metadata": {},
   "outputs": [
    {
     "data": {
      "application/vnd.jupyter.widget-view+json": {
       "model_id": "c052a70ed2ca4705858ecab80be44ae5",
       "version_major": 2,
       "version_minor": 0
      },
      "text/plain": [
       "  0%|          | 0/1000 [00:00<?, ?it/s]"
      ]
     },
     "metadata": {},
     "output_type": "display_data"
    },
    {
     "data": {
      "application/vnd.jupyter.widget-view+json": {
       "model_id": "a8a43204c04e4903852302f202719d91",
       "version_major": 2,
       "version_minor": 0
      },
      "text/plain": [
       "  0%|          | 0/1000 [00:00<?, ?it/s]"
      ]
     },
     "metadata": {},
     "output_type": "display_data"
    },
    {
     "name": "stdout",
     "output_type": "stream",
     "text": [
      "PV uniform 0.916\n",
      "PV beta 0.0\n"
     ]
    }
   ],
   "source": [
    "np.random.seed(seed=100)\n",
    "rv_uniform = st.uniform()\n",
    "rv_beta = st.beta(3,3)\n",
    "\n",
    "n=50\n",
    "n_loops = 1000\n",
    "d = 2\n",
    "steps = 1001\n",
    "maxfilt = 3\n",
    "\n",
    "radii = np.linspace(0,maxfilt,steps)\n",
    "\n",
    "sampleUxU = np.array([rv_uniform.rvs(n), rv_uniform.rvs(n)]).T\n",
    "sampleBxB = np.array([rv_beta.rvs(n), rv_beta.rvs(n)]).T\n",
    "\n",
    "ecUxU = sampled_ecc_alpha(n**(1/2)*sampleUxU, steps,maxfilt)\n",
    "ecBxB = sampled_ecc_alpha(n**(1/2)*sampleBxB, steps,maxfilt)\n",
    "\n",
    "\n",
    "# f, ax1= plt.subplots(1,1, figsize = (5,5))\n",
    "# ax1.scatter(samplesUxU[:,0], samplesUxU[:,1], label =r\"$X\\sim \\mathcal{U}(0, 1)\\times\\mathcal{U}(0, 1)$\", color=\"black\")\n",
    "# ax1.scatter(samplesBxB[:,0], samplesBxB[:,1], label =r\"$Y\\sim \\beta(3, 3)\\times\\beta(3, 3)$\", color=\"tab:red\")\n",
    "# ax1.legend()\n",
    "# plt.savefig(\"unif-vs-beta33-square-n50.pdf\")\n",
    "# plt.show()\n",
    "\n",
    "radii = np.linspace(0,maxfilt,steps)\n",
    "samplesUxU = [n**(1/2)*np.array([rv_uniform.rvs(n), rv_uniform.rvs(n)]).T for i in range(0,n_loops)]\n",
    "eccs_UxU = get_ecc(samplesUxU, steps,maxfilt)\n",
    "ecc_mean = np.mean(eccs_UxU, axis = 0)\n",
    "supdistU = np.max(np.abs(ecc_mean - ecUxU))\n",
    "suparg = np.argmax(np.abs(ecc_mean - ecUxU))\n",
    "\n",
    "width = 8.5\n",
    "height = 5\n",
    "f, ax = plt.subplots(figsize = (width, height))\n",
    "ax.plot(radii,ecc_mean, label = r\"expected ECC for $\\mathcal{U}(0, 1)\\times\\mathcal{U}(0, 1)$\", color=\"tab:green\", linewidth=2)\n",
    "ax.plot(radii, ecUxU, label = r\"$\\chi(\\mathcal{A}_r(X))$\", color=\"black\")\n",
    "\n",
    "# ax2 = plt.axes([0,0,1,1])\n",
    "# ip = InsetPosition(ax, [0.72,0.24,0.45*height/width,0.45])\n",
    "# ax2.set_axes_locator(ip)\n",
    "# ax2.scatter(sampleUxU[:,0], sampleUxU[:,1], color=\"black\")\n",
    "# ax2.scatter(sampleBxB[:,0], sampleBxB[:,1], color=\"tab:red\")\n",
    "# ax2.set_xlim((-0.03,1.03))\n",
    "# ax2.set_ylim((-0.03,1.03))\n",
    "# ax2.grid(linewidth=0)\n",
    "\n",
    "ax2 = f.add_axes([0.66,0.3,0.38*height/width,0.38])\n",
    "ax2.scatter(sampleUxU[:,0], sampleUxU[:,1], color=\"black\")\n",
    "ax2.scatter(sampleBxB[:,0], sampleBxB[:,1], color=\"tab:red\")\n",
    "ax2.set_xlim((-0.03,1.03))\n",
    "ax2.set_ylim((-0.03,1.03))\n",
    "ax2.grid(linewidth=0)\n",
    "\n",
    "\n",
    "supdist = np.max(np.abs(ecc_mean - ecUxU))\n",
    "supdistU = supdist\n",
    "suparg = np.argmax(np.abs(ecc_mean - ecUxU))\n",
    "\n",
    "arrow_center = (ecc_mean[suparg] + ecUxU[suparg])/2\n",
    "arrow_top = np.max([ecc_mean[suparg], ecUxU[suparg]])\n",
    "arrow_bottom = np.min([ecc_mean[suparg], ecUxU[suparg]])\n",
    "arrow_x = radii[suparg]\n",
    "#ax.arrow(arrow_x, arrow_center, 0, arrow_top-arrow_center, head_width=0.025, color='blue', length_includes_head=True, zorder=20)\n",
    "#ax.arrow(arrow_x, arrow_center, 0, arrow_bottom-arrow_center, head_width=0.025, color='blue', length_includes_head=True, zorder=20)\n",
    "ax.annotate(\"$\\sup_r |\\chi(\\mathcal{A}_r(X)) - E\\chi(\\mathcal{A}_r(X))|$ =\" + f'{supdist:.3f} \\n $\\\\Delta_n$ = {supdist/np.sqrt(n):.3f}', fontsize = 14, \n",
    "             xy=(radii[suparg],arrow_center),xycoords=\"data\",\n",
    "             xytext = (radii[suparg]+0.05,arrow_center),\n",
    "             textcoords=\"data\",arrowprops={\"arrowstyle\":\"-[, widthB={}\".format(supdist/9.0*1.5), \n",
    "                                           \"connectionstyle\":\"arc3\",\"shrinkA\":1,\"shrinkB\":2, \"color\":\"blue\"})\n",
    "\n",
    "\n",
    "ax.plot(radii, ecBxB, label = r\"$\\chi(\\mathcal{A}_r(Y))$\", color=\"tab:red\")\n",
    "supdist = np.max(np.abs(ecc_mean - ecBxB))\n",
    "supdistB = supdist\n",
    "suparg = np.argmax(np.abs(ecc_mean - ecBxB))\n",
    "arrow_center = (ecc_mean[suparg] + ecBxB[suparg])/2\n",
    "arrow_top = np.max([ecc_mean[suparg], ecBxB[suparg]])\n",
    "arrow_bottom = np.min([ecc_mean[suparg], ecBxB[suparg]])\n",
    "arrow_x = radii[suparg]\n",
    "#ax.arrow(arrow_x, arrow_center, 0, arrow_top-arrow_center, head_width=0.025, color='blue', length_includes_head=True, zorder=20)\n",
    "#ax.arrow(arrow_x, arrow_center, 0, arrow_bottom-arrow_center, head_width=0.025, color='blue', length_includes_head=True, zorder=20)\n",
    "ax.annotate(\"$\\sup_r |\\chi(\\mathcal{A}_r(Y)) - E\\chi(\\mathcal{A}_r(X))|$ =\" + f'{supdist:.3f} \\n$\\\\Delta_n$ = {supdist/np.sqrt(n):.3f}', fontsize = 14, \n",
    "             xy=(radii[suparg],arrow_center),xycoords=\"data\",\n",
    "             xytext = (radii[suparg]+0.1,arrow_center),\n",
    "             textcoords=\"data\",arrowprops={\"arrowstyle\":\"-[, widthB={}\".format(supdist/9.0*1.2), \n",
    "                                           \"connectionstyle\":\"arc3\",\"shrinkA\":1,\"shrinkB\":2, \"color\":\"blue\"})\n",
    "ax.legend(fontsize=14)\n",
    "ax.set_xlabel('Filtration '+r'$r$', fontsize=15)\n",
    "ax.set_ylabel('Euler Characteristic Curve', fontsize=15)\n",
    "ax.set_xlim((0, 2.5))\n",
    "plt.savefig(\"ECC-unif-vs-beta33-n50-supdist.svg\", bbox_inches='tight',transparent=False, facecolor='white')\n",
    "# savefit to pdf format is not working properly\n",
    "# change the svg to pdf with rsvg-convert\n",
    "#plt.show()\n",
    "plt.close()\n",
    "\n",
    "#compute pvals\n",
    "samplesUxU = [n**(1/2)*np.array([rv_uniform.rvs(n), rv_uniform.rvs(n)]).T for i in range(0,n_loops)]\n",
    "eccs_UxU = get_ecc(samplesUxU, steps,maxfilt)\n",
    "Deltas = np.array([np.max(np.abs(ecc_mean-eccs_UxU[i])) for i in range(0,len(samplesUxU))])\n",
    "print(\"PV uniform\", np.mean(Deltas > supdistU))\n",
    "print(\"PV beta\", np.mean(Deltas > supdistB))"
   ]
  },
  {
   "cell_type": "code",
   "execution_count": null,
   "id": "5da14997-846f-425c-97ea-8c1216ce8938",
   "metadata": {},
   "outputs": [
    {
     "data": {
      "text/plain": [
       "1.3179268319789224"
      ]
     },
     "execution_count": 95,
     "metadata": {},
     "output_type": "execute_result"
    }
   ],
   "source": [
    "np.quantile(Deltas/np.sqrt(n), 0.95)"
   ]
  },
  {
   "cell_type": "code",
   "execution_count": null,
   "id": "e5ce3dbc-ec1d-404e-b2a1-42dc69c9a6f4",
   "metadata": {},
   "outputs": [
    {
     "data": {
      "text/plain": [
       "4.32"
      ]
     },
     "execution_count": 93,
     "metadata": {},
     "output_type": "execute_result"
    }
   ],
   "source": [
    "supdistU"
   ]
  },
  {
   "cell_type": "code",
   "execution_count": null,
   "id": "3ce23514-1db8-4382-b9c0-17c0734bfa68",
   "metadata": {},
   "outputs": [
    {
     "data": {
      "text/plain": [
       "16.029"
      ]
     },
     "execution_count": 94,
     "metadata": {},
     "output_type": "execute_result"
    }
   ],
   "source": [
    "supdistB"
   ]
  }
 ],
 "metadata": {
  "kernelspec": {
   "display_name": "TopoTests",
   "language": "python",
   "name": "python3"
  },
  "language_info": {
   "codemirror_mode": {
    "name": "ipython",
    "version": 3
   },
   "file_extension": ".py",
   "mimetype": "text/x-python",
   "name": "python",
   "nbconvert_exporter": "python",
   "pygments_lexer": "ipython3",
   "version": "3.10.8"
  },
  "vscode": {
   "interpreter": {
    "hash": "53e990208f2b035c3eadd1c68da6ed872b71c8fe6b2584905211a9701cbb22dc"
   }
  }
 },
 "nbformat": 4,
 "nbformat_minor": 5
}
