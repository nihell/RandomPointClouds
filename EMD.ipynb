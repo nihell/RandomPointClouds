{
 "cells": [
  {
   "cell_type": "code",
   "execution_count": 19,
   "id": "ad9ce487-2d43-474a-9ff4-35f70df623f5",
   "metadata": {},
   "outputs": [],
   "source": [
    "%matplotlib inline\n",
    "import matplotlib.pyplot as plt\n",
    "import numpy as np\n",
    "import numpy.random\n",
    "from scipy.spatial import distance\n",
    "from scipy.spatial import distance_matrix\n",
    "from scipy.optimize import linear_sum_assignment"
   ]
  },
  {
   "cell_type": "code",
   "execution_count": 3,
   "id": "cf651e2f-f8c9-4b46-b0c7-5ba44a6f4872",
   "metadata": {},
   "outputs": [],
   "source": [
    "rng = np.random.default_rng(seed=42)"
   ]
  },
  {
   "cell_type": "code",
   "execution_count": 74,
   "id": "7b1fc7a5-f709-473e-b4e5-c0488a04ca93",
   "metadata": {},
   "outputs": [],
   "source": [
    "sample = rng.normal(size = 5)\n",
    "diag = np.array([[np.cos(np.pi*x),np.sin(np.pi*x)] for x in sample])\n",
    "#sample = rng.normal(size = 5)\n",
    "antidiag = np.array([[np.cos(np.pi*x),-np.sin(np.pi*x)] for x in sample])"
   ]
  },
  {
   "cell_type": "code",
   "execution_count": 75,
   "id": "5dd79138-da7b-4846-a533-f925b2e03851",
   "metadata": {},
   "outputs": [
    {
     "data": {
      "image/png": "[encoded data removed]",
      "text/plain": [
       "<Figure size 432x288 with 1 Axes>"
      ]
     },
     "metadata": {
      "needs_background": "light"
     },
     "output_type": "display_data"
    }
   ],
   "source": [
    "f,ax = plt.subplots()\n",
    "ax.scatter(diag[:,0], diag[:,1])\n",
    "ax.scatter(antidiag[:,0], antidiag[:,1])\n",
    "ax.set_aspect(\"equal\")\n",
    "plt.show()"
   ]
  },
  {
   "cell_type": "code",
   "execution_count": 76,
   "id": "dcfd0854-7896-4344-9fe5-a8b60ea03c30",
   "metadata": {},
   "outputs": [],
   "source": [
    "dm = distance_matrix(diag, antidiag)\n",
    "row_ind, col_ind = linear_sum_assignment(dm)\n",
    "emd = dm[row_ind, col_ind].sum()"
   ]
  },
  {
   "cell_type": "code",
   "execution_count": 77,
   "id": "0f3ccda2-400d-4919-82ea-d5a0304af1d5",
   "metadata": {},
   "outputs": [
    {
     "data": {
      "image/png": "[encoded data removed]",
      "text/plain": [
       "<Figure size 432x288 with 1 Axes>"
      ]
     },
     "metadata": {
      "needs_background": "light"
     },
     "output_type": "display_data"
    }
   ],
   "source": [
    "f,ax = plt.subplots()\n",
    "ax.scatter(diag[:,0], diag[:,1])\n",
    "ax.scatter(antidiag[:,0], antidiag[:,1])\n",
    "for i in range(0,len(sample)):\n",
    "    ax.plot((diag[row_ind[i]][0], antidiag[col_ind[i]][0]),(diag[row_ind[i]][1], antidiag[col_ind[i]][1]), c=\"tab:green\")\n",
    "\n",
    "ax.set_aspect(\"equal\")\n",
    "plt.show()"
   ]
  },
  {
   "cell_type": "code",
   "execution_count": 31,
   "id": "4c943fdc-96db-4498-9668-c1f4a8649d9c",
   "metadata": {},
   "outputs": [
    {
     "data": {
      "text/plain": [
       "array([ 2.1416476, -2.1416476])"
      ]
     },
     "execution_count": 31,
     "metadata": {},
     "output_type": "execute_result"
    }
   ],
   "source": [
    "antidiag[0]"
   ]
  }
 ],
 "metadata": {
  "kernelspec": {
   "display_name": "Python 3 (ipykernel)",
   "language": "python",
   "name": "python3"
  },
  "language_info": {
   "codemirror_mode": {
    "name": "ipython",
    "version": 3
   },
   "file_extension": ".py",
   "mimetype": "text/x-python",
   "name": "python",
   "nbconvert_exporter": "python",
   "pygments_lexer": "ipython3",
   "version": "3.9.9"
  }
 },
 "nbformat": 4,
 "nbformat_minor": 5
}
