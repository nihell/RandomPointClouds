{
 "cells": [
  {
   "cell_type": "code",
   "execution_count": 1,
   "metadata": {},
   "outputs": [],
   "source": [
    "import gudhi as gd\n",
    "from gudhi import representations\n",
    "import numpy as np\n",
    "import numpy.random\n",
    "import matplotlib.pyplot as plt\n",
    "import pingouin as pg\n",
    "import scipy.stats as st\n",
    "from collections import defaultdict\n",
    "from sklearn.metrics import pairwise_distances\n",
    "from sklearn.metrics.pairwise import paired_distances\n",
    "from tqdm.notebook import tqdm\n",
    "import scipy.spatial.distance as spdists\n",
    "from scipy.stats import ks_2samp\n",
    "\n",
    "#from curlyBrace import curlyBrace\n",
    "%matplotlib inline"
   ]
  },
  {
   "cell_type": "code",
   "execution_count": 8,
   "metadata": {},
   "outputs": [],
   "source": [
    "def sampled_ecc_witness(landmarks, witnesses, n_samples, max_filt_val):\n",
    "    ac = gd.EuclideanStrongWitnessComplex(landmarks = landmarks, witnesses=witnesses)\n",
    "    st = ac.create_simplex_tree(999999)\n",
    "    filt_values = np.linspace(0,max_filt_val,n_samples)\n",
    "    ecc_values = np.zeros_like(filt_values)\n",
    "    simplices = list(st.get_filtration())\n",
    "    cur_val = 0\n",
    "    i=0\n",
    "    for (j,t) in enumerate(filt_values):\n",
    "        while (i<len(simplices)) and (simplices[i][1]<=t):\n",
    "            cur_val=cur_val +(-1)**(len(simplices[i][0])-1)\n",
    "            i = i+1\n",
    "        #print(t, cur_val)\n",
    "        ecc_values[j] = cur_val\n",
    "        \n",
    "    return ecc_values\n",
    "\n",
    "def get_ecc(data, n_samples, max_filt_val):\n",
    "    eccs = []\n",
    "    for dat in tqdm(data):\n",
    "        ec = sampled_ecc_alpha(dat, n_samples, max_filt_val)\n",
    "        eccs.append(ec)\n",
    "    return eccs\n",
    "\n",
    "def ecc_distance(samples1, samples2, n_samples, max_filt_val):\n",
    "    ECCs1 = get_ecc(samples1, n_samples = n_samples, max_filt_val = max_filt_val)\n",
    "    ECCs2 = get_ecc(samples2, n_samples = n_samples, max_filt_val = max_filt_val)\n",
    "    #dists = paired_distances(ECCs1,ECCs2, n_jobs=-1, metric = spdists.chebyshev)\n",
    "    dists = np.maximum(ECCs1-ECCs2)+np.maximum(ECCs2-ECCs1)\n",
    "    return dists\n",
    "    #dists = dists *(max_filt_val/(n_samples-1))\n",
    "    #return dists.flatten()\n",
    "\n",
    "def gen_rv(rv, N, n_samples):\n",
    "    return [np.array([rv[0].rvs(N), rv[1].rvs(N).tolist(), rv[2].rvs(N).tolist()]).T for i in range(n_samples)]"
   ]
  },
  {
   "cell_type": "code",
   "execution_count": 9,
   "metadata": {},
   "outputs": [],
   "source": [
    "rv_normal = st.norm()\n",
    "rv_normal2_2 = st.norm(2,2)\n",
    "rv_beta2_2 = st.beta(2, 2)\n",
    "rv_beta5_5 = st.beta(5, 5)\n",
    "rv_beta10_10 = st.beta(10, 10)\n",
    "rv_laplace = st.laplace()\n",
    "rv_uniform = st.uniform()\n",
    "rv_t3 = st.t(df=3)\n",
    "rv_t5 = st.t(df=5)\n",
    "rv_t7 = st.t(df=7)\n",
    "rv_t10 = st.t(df=10)\n",
    "rv_gamma10_1 = st.gamma(10,1)\n",
    "rv_gamma20_1 = st.gamma(20,1)\n",
    "rv_gamma4_5 = st.gamma(4,5)\n",
    "rv_gamma5_1= st.gamma(5,1)\n",
    "rv_chisq4 = st.chi2(df=4)\n",
    "rv_chisq10 = st.chi2(df=10)\n",
    "rv_lorentz = st.cauchy()\n",
    "rv_logistic = st.logistic()\n",
    "rv_arcsine = st.arcsine()\n",
    "rv_argus = st.argus(chi=1)\n",
    "rv_cosine = st.cosine()"
   ]
  },
  {
   "cell_type": "code",
   "execution_count": 18,
   "metadata": {},
   "outputs": [],
   "source": [
    "n=20\n",
    "n_loops = 100\n",
    "d = 3\n",
    "steps = 1001\n",
    "maxfilt = 3\n",
    "rvs= [[rv_uniform, rv_uniform, rv_uniform],\n",
    "      [rv_beta2_2, rv_beta2_2, rv_beta2_2],\n",
    "      [rv_beta5_5, rv_beta5_5,rv_beta5_5],\n",
    "      [rv_beta10_10, rv_beta10_10, rv_beta10_10],\n",
    "      [rv_argus, rv_argus, rv_argus],\n",
    "      [rv_arcsine, rv_arcsine, rv_arcsine],\n",
    "      [rv_uniform, rv_beta10_10, rv_beta10_10],\n",
    "      [rv_uniform, rv_uniform, rv_beta10_10]]\n",
    "\n",
    "rv_names=[\"UxUxU\",\n",
    "          \"B22xB22XB22\",\n",
    "          \"B55xB55xB55\",\n",
    "          \"B1010xB1010xB1010\",\n",
    "          \"ArgusxArgusxArgus\",\n",
    "          \"asinxasinxasin\",\n",
    "          \"UxB1010xB1010\",\n",
    "          \"UxUxB1010\"]"
   ]
  },
  {
   "cell_type": "code",
   "execution_count": 15,
   "metadata": {},
   "outputs": [
    {
     "data": {
      "application/vnd.jupyter.widget-view+json": {
       "model_id": "1bcb59aca1bd45eb8f9f5a4ae3491005",
       "version_major": 2,
       "version_minor": 0
      },
      "text/plain": [
       "  0%|          | 0/8 [00:00<?, ?it/s]"
      ]
     },
     "metadata": {},
     "output_type": "display_data"
    },
    {
     "data": {
      "application/vnd.jupyter.widget-view+json": {
       "model_id": "c4fa6126f2ad444d8fcc6938ab4fa647",
       "version_major": 2,
       "version_minor": 0
      },
      "text/plain": [
       "  0%|          | 0/8 [00:00<?, ?it/s]"
      ]
     },
     "metadata": {},
     "output_type": "display_data"
    },
    {
     "data": {
      "application/vnd.jupyter.widget-view+json": {
       "model_id": "6cd1190cb7fb4488b6b48ab0ebef2615",
       "version_major": 2,
       "version_minor": 0
      },
      "text/plain": [
       "  0%|          | 0/8 [00:00<?, ?it/s]"
      ]
     },
     "metadata": {},
     "output_type": "display_data"
    },
    {
     "data": {
      "application/vnd.jupyter.widget-view+json": {
       "model_id": "3acc430b2c9f401c88ff443d1630f0f9",
       "version_major": 2,
       "version_minor": 0
      },
      "text/plain": [
       "  0%|          | 0/8 [00:00<?, ?it/s]"
      ]
     },
     "metadata": {},
     "output_type": "display_data"
    }
   ],
   "source": [
    "samples = [[(n**(1/3)) * np.array(gen_rv(rv,n,n_loops)) for rv in tqdm(rvs)] for i in range(4)]\n"
   ]
  },
  {
   "cell_type": "code",
   "execution_count": 20,
   "metadata": {},
   "outputs": [
    {
     "ename": "KeyboardInterrupt",
     "evalue": "",
     "output_type": "error",
     "traceback": [
      "\u001b[0;31m---------------------------------------------------------------------------\u001b[0m",
      "\u001b[0;31mKeyboardInterrupt\u001b[0m                         Traceback (most recent call last)",
      "Cell \u001b[0;32mIn[20], line 6\u001b[0m\n\u001b[1;32m      4\u001b[0m \u001b[39mfor\u001b[39;00m j \u001b[39min\u001b[39;00m \u001b[39mrange\u001b[39m(\u001b[39mlen\u001b[39m(rvs)):\n\u001b[1;32m      5\u001b[0m     \u001b[39mfor\u001b[39;00m k \u001b[39min\u001b[39;00m \u001b[39mrange\u001b[39m(n_loops):\n\u001b[0;32m----> 6\u001b[0m         eccs[i,j,k] \u001b[39m=\u001b[39m sampled_ecc_witness(samples[\u001b[39m0\u001b[39;49m][i][k],samples[\u001b[39m1\u001b[39;49m][j][k],steps,maxfilt)\n",
      "Cell \u001b[0;32mIn[8], line 6\u001b[0m, in \u001b[0;36msampled_ecc_witness\u001b[0;34m(landmarks, witnesses, n_samples, max_filt_val)\u001b[0m\n\u001b[1;32m      4\u001b[0m filt_values \u001b[39m=\u001b[39m np\u001b[39m.\u001b[39mlinspace(\u001b[39m0\u001b[39m,max_filt_val,n_samples)\n\u001b[1;32m      5\u001b[0m ecc_values \u001b[39m=\u001b[39m np\u001b[39m.\u001b[39mzeros_like(filt_values)\n\u001b[0;32m----> 6\u001b[0m simplices \u001b[39m=\u001b[39m \u001b[39mlist\u001b[39;49m(st\u001b[39m.\u001b[39;49mget_filtration())\n\u001b[1;32m      7\u001b[0m cur_val \u001b[39m=\u001b[39m \u001b[39m0\u001b[39m\n\u001b[1;32m      8\u001b[0m i\u001b[39m=\u001b[39m\u001b[39m0\u001b[39m\n",
      "\u001b[0;31mKeyboardInterrupt\u001b[0m: "
     ]
    }
   ],
   "source": [
    "eccs = np.zeros((len(rvs),len(rvs), n_loops, steps))\n",
    "\n",
    "for i in range(len(rvs)):\n",
    "    for j in range(len(rvs)):\n",
    "        for k in range(n_loops):\n",
    "            eccs[i,j,k] = sampled_ecc_witness(samples[0][i][k],samples[1][j][k],steps,maxfilt)"
   ]
  },
  {
   "cell_type": "code",
   "execution_count": null,
   "metadata": {},
   "outputs": [],
   "source": []
  }
 ],
 "metadata": {
  "kernelspec": {
   "display_name": "TopoTests",
   "language": "python",
   "name": "python3"
  },
  "language_info": {
   "codemirror_mode": {
    "name": "ipython",
    "version": 3
   },
   "file_extension": ".py",
   "mimetype": "text/x-python",
   "name": "python",
   "nbconvert_exporter": "python",
   "pygments_lexer": "ipython3",
   "version": "3.10.8"
  },
  "orig_nbformat": 4
 },
 "nbformat": 4,
 "nbformat_minor": 2
}
