{
 "cells": [
  {
   "cell_type": "code",
   "execution_count": 9,
   "id": "6f9f411d-c9a1-41a0-932d-614db66c39d2",
   "metadata": {},
   "outputs": [],
   "source": [
    "import gudhi as gd\n",
    "from gudhi import representations\n",
    "import numpy as np\n",
    "import numpy.random\n",
    "import matplotlib.pyplot as plt\n",
    "import pingouin as pg\n",
    "import scipy.stats as st\n",
    "from collections import defaultdict\n",
    "from pyEulerCurves import difference_ECC\n",
    "from pyEulerCurves import ECC_from_pointcloud, plot_euler_curve"
   ]
  },
  {
   "cell_type": "code",
   "execution_count": 10,
   "id": "70156023-0e38-45ef-97a2-8c46f62f71f7",
   "metadata": {},
   "outputs": [],
   "source": [
    "trans = ECC_from_pointcloud(epsilon=0.001, # max filtration\n",
    "                            workers=2    # number of CPU cores\n",
    "                           )"
   ]
  },
  {
   "cell_type": "code",
   "execution_count": 11,
   "id": "aa172b31-4b26-4876-80f9-e159b9815009",
   "metadata": {},
   "outputs": [],
   "source": [
    "def get_ecc(data):\n",
    "    eccs = []\n",
    "    for dat in data:\n",
    "        ec = trans.fit_transform(dat.reshape(-1,1))\n",
    "        eccs.append(ec)\n",
    "    return eccs"
   ]
  },
  {
   "cell_type": "code",
   "execution_count": 13,
   "id": "53ffa105-6093-485f-b271-7fe8666a89fb",
   "metadata": {},
   "outputs": [],
   "source": [
    "RV = st.cauchy()\n",
    "N = 50\n",
    "n_samples = 1000\n"
   ]
  },
  {
   "cell_type": "code",
   "execution_count": 14,
   "id": "f60360c4-3c1a-4edd-8b6b-ef62e0c2ddae",
   "metadata": {},
   "outputs": [],
   "source": [
    "def standardize(X):\n",
    "    return (X-np.mean(X))/np.std(X)"
   ]
  },
  {
   "cell_type": "code",
   "execution_count": 15,
   "id": "288a536a-9c70-4c1f-ae97-23cbfe615a3f",
   "metadata": {},
   "outputs": [],
   "source": [
    "samples = [RV.rvs(N) for i in range(n_samples)]\n",
    "samples = [standardize(sample) for sample in samples]"
   ]
  },
  {
   "cell_type": "code",
   "execution_count": null,
   "id": "cb687370-f653-49b1-b440-c4f83bc4f538",
   "metadata": {},
   "outputs": [],
   "source": [
    "#THIS CELL MAKES ME RUN OUT OF MEMORY\n",
    "eccs = get_ecc(samples)"
   ]
  }
 ],
 "metadata": {
  "kernelspec": {
   "display_name": "Python 3 (ipykernel)",
   "language": "python",
   "name": "python3"
  },
  "language_info": {
   "codemirror_mode": {
    "name": "ipython",
    "version": 3
   },
   "file_extension": ".py",
   "mimetype": "text/x-python",
   "name": "python",
   "nbconvert_exporter": "python",
   "pygments_lexer": "ipython3",
   "version": "3.9.9"
  }
 },
 "nbformat": 4,
 "nbformat_minor": 5
}
