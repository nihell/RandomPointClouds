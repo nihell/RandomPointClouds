{
 "cells": [
  {
   "cell_type": "code",
   "execution_count": 77,
   "metadata": {},
   "outputs": [],
   "source": [
    "import gudhi as gd\n",
    "from gudhi import representations\n",
    "import numpy as np\n",
    "import numpy.random\n",
    "import matplotlib.pyplot as plt\n",
    "#import pingouin as pg\n",
    "from scipy.special import gamma\n",
    "import scipy.stats as st\n",
    "from collections import defaultdict\n",
    "from sklearn.metrics import pairwise_distances\n",
    "from sklearn.metrics.pairwise import paired_distances\n",
    "from tqdm.notebook import tqdm\n",
    "import scipy.spatial.distance as spdists\n",
    "from adaptive.learner.triangulation import circumsphere, fast_2d_circumcircle, fast_3d_circumcircle\n",
    "from adaptive import domain\n",
    "import math\n",
    "from scipy.integrate import nquad\n",
    "#from curlyBrace import curlyBrace\n",
    "%matplotlib inline"
   ]
  },
  {
   "cell_type": "code",
   "execution_count": 2,
   "metadata": {},
   "outputs": [],
   "source": [
    "#scipy.stats uses numpy.random seed\n",
    "np.random.seed(seed=0)"
   ]
  },
  {
   "cell_type": "code",
   "execution_count": 3,
   "metadata": {},
   "outputs": [],
   "source": [
    "def sampled_ecc_alpha(pointcloud, n_samples, max_filt_val):\n",
    "    ac = gd.AlphaComplex(points = pointcloud)\n",
    "    st = ac.create_simplex_tree()\n",
    "    filt_values = np.linspace(0,max_filt_val,n_samples)\n",
    "    ecc_values = np.zeros_like(filt_values)\n",
    "    simplices = list(st.get_filtration())\n",
    "    cur_val = 0\n",
    "    i=0\n",
    "    for (j,t) in enumerate(filt_values):\n",
    "        while (i<len(simplices)) and (simplices[i][1]<=t):\n",
    "            cur_val=cur_val +(-1)**(len(simplices[i][0])-1)\n",
    "            i = i+1\n",
    "        #print(t, cur_val)\n",
    "        ecc_values[j] = cur_val\n",
    "        \n",
    "    return ecc_values/np.sqrt(len(pointcloud))\n",
    "\n",
    "def get_ecc(data, n_samples, max_filt_val):\n",
    "    eccs = []\n",
    "    for dat in tqdm(data):\n",
    "        ec = sampled_ecc_alpha(dat, n_samples, max_filt_val)\n",
    "        eccs.append(ec)\n",
    "    return eccs"
   ]
  },
  {
   "cell_type": "code",
   "execution_count": 65,
   "metadata": {},
   "outputs": [],
   "source": [
    "def h(Y):\n",
    "    C,_ = circumsphere(Y)\n",
    "    hull = domain.ConvexHull(Y)\n",
    "    if hull.encloses(C):\n",
    "        return 1\n",
    "    else:\n",
    "        return 0\n",
    "    \n",
    "def h1(Y):\n",
    "    C,R = circumsphere(Y)\n",
    "    \n",
    "    if R<1:\n",
    "        hull = domain.ConvexHull(Y)\n",
    "        if hull.encloses(C):\n",
    "            return 1\n",
    "        else:\n",
    "            return 0\n",
    "            \n",
    "    else:\n",
    "        return 0\n",
    "    \n",
    "def omega(d):\n",
    "    return (np.pi**(d/2))/gamma(1+d/2)\n",
    "    \n",
    "def Integrand(rv, x, y, lmbd):\n",
    "    k,d = y.shape\n",
    "    Y = np.concatenate([[np.zeros(d)],y])\n",
    "    C,R = circumsphere(Y)\n",
    "    if R<1:\n",
    "        hull = domain.ConvexHull(Y)\n",
    "        if hull.encloses(C):\n",
    "            return rv.pdf(x)**(k+1)*np.exp(-lmbd*omega(d)*(R**d)*rv.pdf(x))\n",
    "        else:\n",
    "            return 0\n",
    "    else:\n",
    "        return 0\n",
    "\n",
    "def gamma(rv, k, lmbd):\n",
    "    I = 0#integral\n",
    "    if k == 1:\n",
    "\n",
    "\n",
    "    return ((lmbd**k)/math.factorial(k+1)) * I\n",
    "\n",
    "    \n",
    "\n"
   ]
  },
  {
   "cell_type": "code",
   "execution_count": 74,
   "metadata": {},
   "outputs": [
    {
     "data": {
      "text/plain": [
       "array([0.05428649, 0.05428649])"
      ]
     },
     "execution_count": 74,
     "metadata": {},
     "output_type": "execute_result"
    }
   ],
   "source": [
    "rv_norm = st.multivariate_normal()\n",
    "Integrand(rv_norm,np.array([0,0]),np.array([[0.5,0],[0,0.5]]),1)"
   ]
  }
 ],
 "metadata": {
  "kernelspec": {
   "display_name": "TopoTests",
   "language": "python",
   "name": "python3"
  },
  "language_info": {
   "codemirror_mode": {
    "name": "ipython",
    "version": 3
   },
   "file_extension": ".py",
   "mimetype": "text/x-python",
   "name": "python",
   "nbconvert_exporter": "python",
   "pygments_lexer": "ipython3",
   "version": "3.10.8"
  },
  "orig_nbformat": 4
 },
 "nbformat": 4,
 "nbformat_minor": 2
}
