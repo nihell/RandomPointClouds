{
 "cells": [
  {
   "cell_type": "code",
   "execution_count": 46,
   "id": "fc23c565-a24b-4b9e-a1a4-1122e872107d",
   "metadata": {},
   "outputs": [],
   "source": [
    "import gudhi as gd\n",
    "from gudhi import representations\n",
    "import numpy as np\n",
    "import numpy.random\n",
    "import matplotlib.pyplot as plt\n",
    "import pingouin as pg\n",
    "import scipy.stats as st\n",
    "from collections import defaultdict\n",
    "from pyEulerCurves import difference_ECC\n",
    "from pyEulerCurves import ECC_from_pointcloud, plot_euler_curve\n",
    "import time"
   ]
  },
  {
   "cell_type": "code",
   "execution_count": 5,
   "id": "3dd7ac32-be44-431e-84ad-f6ec652e5160",
   "metadata": {},
   "outputs": [],
   "source": [
    "def sampled_ecc_alpha(pointcloud, n_samples, max_filt_val):\n",
    "    ac = gd.AlphaComplex(points = pointcloud)\n",
    "    st = ac.create_simplex_tree()\n",
    "    filt_values = np.linspace(0,max_filt_val,n_samples)\n",
    "    ecc_values = np.zeros_like(filt_values)\n",
    "    simplices = list(st.get_filtration())\n",
    "    cur_val = 0\n",
    "    i=0\n",
    "    for (j,t) in enumerate(filt_values):\n",
    "        while (simplices[i][1]<=t):\n",
    "            cur_val=cur_val +(-1)**(len(simplices[i][0])-1)\n",
    "            i = i+1\n",
    "        #print(t, cur_val)\n",
    "        ecc_values[j] = cur_val\n",
    "        \n",
    "    return ecc_values"
   ]
  },
  {
   "cell_type": "code",
   "execution_count": 125,
   "id": "4941dee0-1e5f-41e6-9154-037c79ea3784",
   "metadata": {},
   "outputs": [],
   "source": [
    "def exact_ecc_alpha(pointcloud):\n",
    "    ac = gd.AlphaComplex(points = pointcloud)\n",
    "    st = ac.create_simplex_tree()\n",
    "    simplices = list(st.get_filtration())\n",
    "    \n",
    "    contribs = []\n",
    "    \n",
    "    for s in simplices:\n",
    "        if len(contribs)>0 and s[1] == contribs[-1][0]:\n",
    "            contribs[-1][1] = contribs[-1][1] + (-1)**(len(s[0])-1)\n",
    "        else:\n",
    "            contribs.append([s[1], (-1)**(len(s[0])-1)])       \n",
    "        \n",
    "    contribs = [c for c in contribs if c[1]!=0]#to_drop = [c[1] == 0 for c in contribs]\n",
    "    return contribs"
   ]
  },
  {
   "cell_type": "code",
   "execution_count": 123,
   "id": "72ed718b-68e1-4caf-905a-ae051ef563e2",
   "metadata": {},
   "outputs": [],
   "source": [
    "def exact_ecc_distance(ECC1, ECC2):\n",
    "    filtration_steps = list(set(([f[0] for f in ECC1] + [f[0] for f in ECC2] )))\n",
    "    filtration_steps.sort()\n",
    "\n",
    "    total_difference = 0\n",
    "    \n",
    "    current1val = ECC1[0][1]\n",
    "    current2val = ECC2[0][1]\n",
    "    current_difference = np.abs(current1val - current2val)\n",
    "    i1 = 1\n",
    "    i2 = 1\n",
    "    \n",
    "    \n",
    "    for i in range(1,len(filtration_steps)):\n",
    "        total_difference = total_difference + current_difference*(filtration_steps[i]-filtration_steps[i-1])\n",
    "        if i1<len(ECC1) and ECC1[i1][0] == filtration_steps[i] and i2<len(ECC2) and ECC2[i2][0] == filtration_steps[i]:\n",
    "            current1val = current1val + ECC1[i1][1]\n",
    "            current2val = current2val + ECC2[i2][1]\n",
    "            i1 = i1+1\n",
    "            i2 = i2+1\n",
    "        elif i1<len(ECC1) and ECC1[i1][0] == filtration_steps[i]:#but not ECC2\n",
    "            current1val = current1val + ECC1[i1][1]\n",
    "            i1 = i1 +1 \n",
    "        elif i2<len(ECC2) and ECC2[i2][0] == filtration_steps[i]:#but not ECC1\n",
    "            current2val = current2val + ECC2[i2][1]\n",
    "            i2 = i2+1\n",
    "        \n",
    "        current_difference = np.abs(current1val - current2val)\n",
    "        \n",
    "    \n",
    "    return total_difference"
   ]
  },
  {
   "cell_type": "code",
   "execution_count": 170,
   "id": "4344fde0-ae10-4305-95fd-ee1725b0bb0e",
   "metadata": {
    "tags": []
   },
   "outputs": [
    {
     "data": {
      "text/plain": [
       "array([[ 4.99440834e-01, -1.31681925e+00],\n",
       "       [ 2.01829227e+00, -2.00784511e+00],\n",
       "       [ 5.49165332e-01,  5.63357498e-01],\n",
       "       [-6.65216796e-01, -1.02795500e+00],\n",
       "       [ 1.14357310e+00,  3.73082024e-01],\n",
       "       [ 5.06328616e-01, -6.09819223e-01],\n",
       "       [ 5.09564848e-01,  7.90208562e-01],\n",
       "       [ 1.26287507e-01, -2.32460396e-01],\n",
       "       [-1.64551511e+00, -1.13565529e-01],\n",
       "       [-1.78847421e+00, -1.24412719e-01],\n",
       "       [ 1.65488664e+00, -1.38423860e+00],\n",
       "       [ 2.02702732e+00, -2.45729405e-01],\n",
       "       [-5.37971036e-01, -1.02495379e+00],\n",
       "       [ 5.29748594e-02,  9.40422208e-02],\n",
       "       [ 9.86851417e-01, -4.94169632e-01],\n",
       "       [-1.73748117e+00, -3.60787120e-01],\n",
       "       [ 2.08260507e+00,  1.09479785e+00],\n",
       "       [-3.27335073e-04,  1.98400842e-01],\n",
       "       [ 1.74472457e+00,  4.51917699e-01],\n",
       "       [ 5.39507711e-01,  1.85163094e-01]])"
      ]
     },
     "execution_count": 170,
     "metadata": {},
     "output_type": "execute_result"
    }
   ],
   "source": [
    "RV = st.norm()\n",
    "sample = RV.rvs((20,2))\n",
    "sample2 = RV.rvs((20,2))\n",
    "sample"
   ]
  },
  {
   "cell_type": "code",
   "execution_count": 173,
   "id": "29b2c474-32ae-421d-b919-5b97e35c4ae3",
   "metadata": {},
   "outputs": [
    {
     "data": {
      "image/png": "[encoded data removed]",
      "text/plain": [
       "<Figure size 432x288 with 1 Axes>"
      ]
     },
     "metadata": {
      "needs_background": "light"
     },
     "output_type": "display_data"
    }
   ],
   "source": [
    "\n",
    "f,ax = plt.subplots()\n",
    "ec = sampled_ecc_alpha(sample, 151,1.5)\n",
    "ec2 = sampled_ecc_alpha(sample2, 151,1.5)\n",
    "contribs = exact_ecc_alpha(sample)\n",
    "contribs2 = exact_ecc_alpha(sample2)\n",
    "ax.scatter(np.linspace(0,1.5,151), ec)\n",
    "ax.scatter(np.linspace(0,1.5,151), ec2)\n",
    "c0 = contribs[0][1]\n",
    "for i in range(1,len(contribs)):\n",
    "    ax.plot((contribs[i-1][0],contribs[i][0]),(c0,c0), c=\"tab:red\")\n",
    "    c0 = c0 + contribs[i][1]\n",
    "\n",
    "plt.show()"
   ]
  },
  {
   "cell_type": "code",
   "execution_count": 179,
   "id": "bcadd0dc-0f4b-4962-a6c2-a61cfbf7f992",
   "metadata": {},
   "outputs": [
    {
     "name": "stdout",
     "output_type": "stream",
     "text": [
      "exact 0.0002815723419189453\n",
      "approx 9.298324584960938e-06\n",
      "30.28205128205128\n"
     ]
    }
   ],
   "source": [
    "iterations = 1000\n",
    "exact_times = np.zeros(iterations)\n",
    "approx_times = np.zeros(iterations)\n",
    "\n",
    "for i in range(0,iterations):\n",
    "    tic = time.time()\n",
    "    exact = exact_ecc_distance(contribs, contribs2)\n",
    "    exact_times[i] = time.time()-tic\n",
    "    tic = time.time()\n",
    "    approx = np.linalg.norm(ec-ec2, ord=1)/100\n",
    "    approx_times[i] = time.time()-tic\n",
    "    \n",
    "print(\"exact\", np.median(exact_times))\n",
    "print(\"approx\", np.median(approx_times))\n",
    "print(np.median(exact_times)/np.median(approx_times))"
   ]
  }
 ],
 "metadata": {
  "kernelspec": {
   "display_name": "Python 3 (ipykernel)",
   "language": "python",
   "name": "python3"
  },
  "language_info": {
   "codemirror_mode": {
    "name": "ipython",
    "version": 3
   },
   "file_extension": ".py",
   "mimetype": "text/x-python",
   "name": "python",
   "nbconvert_exporter": "python",
   "pygments_lexer": "ipython3",
   "version": "3.10.2"
  }
 },
 "nbformat": 4,
 "nbformat_minor": 5
}
