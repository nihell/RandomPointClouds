{
 "cells": [
  {
   "cell_type": "code",
   "execution_count": 1,
   "id": "fb54f5c7-eeb5-4b28-9865-43ba65745e4c",
   "metadata": {},
   "outputs": [],
   "source": [
    "import numpy as np\n",
    "import numpy.random\n",
    "import matplotlib.pyplot as plt\n",
    "import scipy.stats as st"
   ]
  },
  {
   "cell_type": "code",
   "execution_count": 61,
   "id": "861a727a-6c2b-4754-8177-01709737deaa",
   "metadata": {},
   "outputs": [],
   "source": [
    "def anderson(sample):\n",
    "    anderson_out = st.anderson(sample, 'norm')\n",
    "    return anderson_out.statistic < anderson_out.critical_values[2] #this is valid only for alpha=0.05"
   ]
  },
  {
   "cell_type": "code",
   "execution_count": 77,
   "id": "e7517957-1122-41b3-a57c-464287472cf0",
   "metadata": {},
   "outputs": [],
   "source": [
    "def standarize(x, mu=0, std=1):\n",
    "#    return x # no standarization\n",
    "    return (x-mu)/std # proper stanradization\n",
    "#    return (x-np.mean(x))/np.std(x) #sample standarization\n",
    "\n",
    "\n",
    "# distributions considered in Razali Journal of Statistical Modeling and Analytics\n",
    "\n",
    "X = st.norm(2,4) # shows that (x-np.mean(x))/np.std(x) is not a proper way\n",
    "#X = st.uniform()\n",
    "#X = st.gamma(4,5)\n",
    "#X = st.chi2(4)\n",
    "\n",
    "\n",
    "mu = X.stats(moments='m')\n",
    "std = np.sqrt(X.stats(moments='v'))\n",
    "\n",
    "mc_loops = 5000\n",
    "N = 50\n",
    "samples = [standarize(X.rvs(N), mu, std) for i in range(mc_loops)]"
   ]
  },
  {
   "cell_type": "code",
   "execution_count": 78,
   "id": "885e1fe2-742a-4b90-984b-707310e4776d",
   "metadata": {},
   "outputs": [
    {
     "name": "stdout",
     "output_type": "stream",
     "text": [
      "SW=0.0504 KS=0.0474 AD=0.04959999999999998 CVM=0.04800000000000004\n"
     ]
    }
   ],
   "source": [
    "sw = np.mean([st.shapiro(s).pvalue >0.05 for s in samples])\n",
    "ks = np.mean([st.kstest(s, 'norm').pvalue > 0.05 for s in samples])\n",
    "cvm = np.mean([st.cramervonmises(s, 'norm').pvalue >0.05 for s in samples])\n",
    "ad = np.mean([anderson(s) for s in samples])\n",
    "\n",
    "print(f'SW={1-sw} KS={1-ks} AD={1-ad} CVM={1-cvm}')"
   ]
  }
 ],
 "metadata": {
  "kernelspec": {
   "display_name": "Python 3 (ipykernel)",
   "language": "python",
   "name": "python3"
  },
  "language_info": {
   "codemirror_mode": {
    "name": "ipython",
    "version": 3
   },
   "file_extension": ".py",
   "mimetype": "text/x-python",
   "name": "python",
   "nbconvert_exporter": "python",
   "pygments_lexer": "ipython3",
   "version": "3.8.10"
  }
 },
 "nbformat": 4,
 "nbformat_minor": 5
}
