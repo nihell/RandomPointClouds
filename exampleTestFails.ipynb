{
 "cells": [
  {
   "cell_type": "code",
   "execution_count": 1,
   "metadata": {},
   "outputs": [],
   "source": [
    "import gudhi as gd\n",
    "from gudhi import representations\n",
    "import numpy as np\n",
    "import numpy.random\n",
    "import matplotlib.pyplot as plt\n",
    "#import pingouin as pg\n",
    "import scipy.stats as st\n",
    "from collections import defaultdict\n",
    "from sklearn.metrics import pairwise_distances\n",
    "from sklearn.metrics.pairwise import paired_distances\n",
    "from tqdm.notebook import tqdm\n",
    "import scipy.spatial.distance as spdists\n",
    "#from curlyBrace import curlyBrace\n",
    "%matplotlib inline"
   ]
  },
  {
   "cell_type": "code",
   "execution_count": 2,
   "metadata": {},
   "outputs": [],
   "source": [
    "#scipy.stats uses numpy.random seed\n",
    "np.random.seed(seed=0)"
   ]
  },
  {
   "cell_type": "code",
   "execution_count": 3,
   "metadata": {},
   "outputs": [],
   "source": [
    "def sampled_ecc_alpha(pointcloud, n_samples, max_filt_val):\n",
    "    ac = gd.AlphaComplex(points = pointcloud)\n",
    "    st = ac.create_simplex_tree()\n",
    "    filt_values = np.linspace(0,max_filt_val,n_samples)\n",
    "    ecc_values = np.zeros_like(filt_values)\n",
    "    simplices = list(st.get_filtration())\n",
    "    cur_val = 0\n",
    "    i=0\n",
    "    for (j,t) in enumerate(filt_values):\n",
    "        while (i<len(simplices)) and (simplices[i][1]<=t):\n",
    "            cur_val=cur_val +(-1)**(len(simplices[i][0])-1)\n",
    "            i = i+1\n",
    "        #print(t, cur_val)\n",
    "        ecc_values[j] = cur_val\n",
    "        \n",
    "    return ecc_values/np.sqrt(len(pointcloud))"
   ]
  },
  {
   "cell_type": "code",
   "execution_count": 4,
   "metadata": {},
   "outputs": [],
   "source": [
    "def get_ecc(data, n_samples, max_filt_val):\n",
    "    eccs = []\n",
    "    for dat in tqdm(data):\n",
    "        ec = sampled_ecc_alpha(dat, n_samples, max_filt_val)\n",
    "        eccs.append(ec)\n",
    "    return eccs"
   ]
  },
  {
   "cell_type": "code",
   "execution_count": 5,
   "metadata": {},
   "outputs": [],
   "source": [
    "class UniformMixture:\n",
    "    def __init__(self, locations, scales, probas):\n",
    "        # locations - vector of location parameters\n",
    "        # scales - vector of scale parameters\n",
    "        # probas - vector of mixture coefficients\n",
    "        if not (len(locations) == len(scales) and len(scales) == len(probas)):\n",
    "            raise ValueError(\"Wrong number of components for Gaussian Mixture\")\n",
    "        self.locations = locations\n",
    "        self.scales = scales\n",
    "        self.n_uniforms = len(locations)\n",
    "        self.unif_rv = [st.uniform(loc, scale) for loc, scale in zip(locations, scales)]\n",
    "        probas_sum = np.sum(probas)\n",
    "        probas = [proba / probas_sum for proba in probas]\n",
    "        self.probas = probas\n",
    "\n",
    "    # draw sample from GaussianMixture model\n",
    "    def rvs(self, N):\n",
    "        inds = st.rv_discrete(values=(range(self.n_uniforms), self.probas)).rvs(size=N)\n",
    "        X = [self.unif_rv[ind].rvs(size=1)[0] for ind in inds]\n",
    "        return X\n",
    "\n",
    "    def cdf(self, x):\n",
    "        cdf = 0\n",
    "        for p, rv in zip(self.probas, self.unif_rv):\n",
    "            cdf += p * rv.cdf(x)\n",
    "        return cdf\n",
    "\n",
    "    def pdf(self, x):\n",
    "        pdf = 0\n",
    "        for p, rv in zip(self.probas, self.unif_rv):\n",
    "            pdf += p * rv.pdf(x)\n",
    "        return pdf"
   ]
  },
  {
   "cell_type": "code",
   "execution_count": 6,
   "metadata": {},
   "outputs": [
    {
     "data": {
      "image/png": "[encoded data removed]",
      "text/plain": [
       "<Figure size 640x480 with 1 Axes>"
      ]
     },
     "metadata": {},
     "output_type": "display_data"
    }
   ],
   "source": [
    "two = UniformMixture([-2,1],[1,1],[0.5,0.5])\n",
    "one = st.uniform(-1,2)\n",
    "f,ax = plt.subplots()\n",
    "ax.plot(two.pdf(np.linspace(-3,3,100)))\n",
    "ax.plot(one.pdf(np.linspace(-3,3,100)))\n",
    "plt.show()"
   ]
  },
  {
   "cell_type": "code",
   "execution_count": 7,
   "metadata": {},
   "outputs": [],
   "source": [
    "n=50\n",
    "n_loops = 1000\n",
    "d = 1\n",
    "steps = 50001\n",
    "maxfilt = 2500"
   ]
  },
  {
   "cell_type": "code",
   "execution_count": 8,
   "metadata": {},
   "outputs": [],
   "source": [
    "samples_one = [n*np.array([[s] for s in one.rvs(n)]) for i in range(0,n_loops)]\n"
   ]
  },
  {
   "cell_type": "code",
   "execution_count": 9,
   "metadata": {},
   "outputs": [
    {
     "data": {
      "application/vnd.jupyter.widget-view+json": {
       "model_id": "8e5248b000474a5a814cb58a2169e88b",
       "version_major": 2,
       "version_minor": 0
      },
      "text/plain": [
       "  0%|          | 0/1000 [00:00<?, ?it/s]"
      ]
     },
     "metadata": {},
     "output_type": "display_data"
    }
   ],
   "source": [
    "ecc_one = get_ecc(samples_one, steps, maxfilt)\n"
   ]
  },
  {
   "cell_type": "code",
   "execution_count": 10,
   "metadata": {},
   "outputs": [
    {
     "data": {
      "application/vnd.jupyter.widget-view+json": {
       "model_id": "8178527d099641a0af361c504cf9920b",
       "version_major": 2,
       "version_minor": 0
      },
      "text/plain": [
       "  0%|          | 0/1000 [00:00<?, ?it/s]"
      ]
     },
     "metadata": {},
     "output_type": "display_data"
    },
    {
     "name": "stdout",
     "output_type": "stream",
     "text": [
      "0.9777872570247484 6.083782696555911\n"
     ]
    }
   ],
   "source": [
    "avg_ecc_one = np.mean(ecc_one, axis = 0)\n",
    "ecc_one = get_ecc(samples_one, steps, maxfilt)\n",
    "L1_dists = pairwise_distances([avg_ecc_one], ecc_one, metric = \"minkowski\", p=1, n_jobs = -1)\n",
    "L1_dists = L1_dists*(maxfilt/(steps-1))\n",
    "L1_quant = np.quantile(L1_dists, 0.95)\n",
    "sup_dists = pairwise_distances([avg_ecc_one], ecc_one, metric = \"chebyshev\", n_jobs = -1)\n",
    "sup_quant = np.quantile(sup_dists, 0.95)\n",
    "\n",
    "print(sup_quant, L1_quant)"
   ]
  },
  {
   "cell_type": "code",
   "execution_count": 11,
   "metadata": {},
   "outputs": [],
   "source": [
    "ecc_two = sampled_ecc_alpha(n*np.array([[s] for s in two.rvs(n)]),steps, maxfilt)\n",
    "ecc_one2 = sampled_ecc_alpha(n*np.array([[s] for s in one.rvs(n)]),steps, maxfilt)"
   ]
  },
  {
   "cell_type": "code",
   "execution_count": 12,
   "metadata": {},
   "outputs": [
    {
     "data": {
      "image/png": "[encoded data removed]",
      "text/plain": [
       "<Figure size 640x480 with 1 Axes>"
      ]
     },
     "metadata": {},
     "output_type": "display_data"
    }
   ],
   "source": [
    "t= np.linspace(0,maxfilt,steps)\n",
    "f,ax = plt.subplots()\n",
    "ax.plot(t,avg_ecc_one)\n",
    "ax.plot(t,ecc_two)\n",
    "ax.plot(t,ecc_one2)\n",
    "ax.set_xlim((-0.2,20))\n",
    "#ax.set_ylim((0,7))\n",
    "plt.show()"
   ]
  },
  {
   "cell_type": "code",
   "execution_count": 13,
   "metadata": {},
   "outputs": [
    {
     "name": "stdout",
     "output_type": "stream",
     "text": [
      "[[0.44279027 0.97099903]] [[  3.06253604 354.36826045]]\n",
      "sup test accepts H0: [[ True  True]]\n",
      "L1 test accepts H0: [[ True False]]\n"
     ]
    }
   ],
   "source": [
    "sup_test = pairwise_distances([avg_ecc_one], [ecc_one2, ecc_two], metric = \"chebyshev\")\n",
    "L1_test = pairwise_distances([avg_ecc_one], [ecc_one2, ecc_two], metric = \"minkowski\", p=1)*(maxfilt/(steps-1))\n",
    "print(sup_test, L1_test)\n",
    "\n",
    "print(\"sup test accepts H0:\",sup_test<sup_quant)\n",
    "print(\"L1 test accepts H0:\",L1_test<L1_quant)"
   ]
  }
 ],
 "metadata": {
  "kernelspec": {
   "display_name": "TopoTests",
   "language": "python",
   "name": "python3"
  },
  "language_info": {
   "codemirror_mode": {
    "name": "ipython",
    "version": 3
   },
   "file_extension": ".py",
   "mimetype": "text/x-python",
   "name": "python",
   "nbconvert_exporter": "python",
   "pygments_lexer": "ipython3",
   "version": "3.10.8"
  },
  "orig_nbformat": 4,
  "vscode": {
   "interpreter": {
    "hash": "53e990208f2b035c3eadd1c68da6ed872b71c8fe6b2584905211a9701cbb22dc"
   }
  }
 },
 "nbformat": 4,
 "nbformat_minor": 2
}
